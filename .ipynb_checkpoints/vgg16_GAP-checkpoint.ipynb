{
 "cells": [
  {
   "cell_type": "code",
   "execution_count": 1,
   "metadata": {},
   "outputs": [
    {
     "name": "stderr",
     "output_type": "stream",
     "text": [
      "/home/ubuntu/anaconda3/envs/tensorflow_p36/lib/python3.6/site-packages/h5py/__init__.py:36: FutureWarning: Conversion of the second argument of issubdtype from `float` to `np.floating` is deprecated. In future, it will be treated as `np.float64 == np.dtype(float).type`.\n",
      "  from ._conv import register_converters as _register_converters\n",
      "Using TensorFlow backend.\n",
      "/home/ubuntu/anaconda3/envs/tensorflow_p36/lib/python3.6/site-packages/matplotlib/__init__.py:962: UserWarning: Duplicate key in file \"/home/ubuntu/.config/matplotlib/matplotlibrc\", line #2\n",
      "  (fname, cnt))\n",
      "/home/ubuntu/anaconda3/envs/tensorflow_p36/lib/python3.6/site-packages/matplotlib/__init__.py:962: UserWarning: Duplicate key in file \"/home/ubuntu/.config/matplotlib/matplotlibrc\", line #3\n",
      "  (fname, cnt))\n"
     ]
    }
   ],
   "source": [
    "from keras.models import *\n",
    "from keras.layers import *\n",
    "from keras.optimizers import RMSprop,SGD,Adadelta,Adam\n",
    "from keras.preprocessing import image\n",
    "from keras.callbacks import TensorBoard,History,EarlyStopping,CSVLogger\n",
    "from keras.applications.vgg16 import VGG16,preprocess_input\n",
    "from sklearn.utils import shuffle\n",
    "import numpy as np\n",
    "import pandas as pd\n",
    "import h5py\n",
    "import os"
   ]
  },
  {
   "cell_type": "code",
   "execution_count": 6,
   "metadata": {},
   "outputs": [],
   "source": [
    "train_path = './train'\n",
    "validation_path = './validation'\n",
    "test_path = './test'\n",
    "assert(os.path.exists(train_path))\n",
    "assert(os.path.exists(validation_path))\n",
    "assert(os.path.exists(test_path))\n",
    "\n",
    "\n",
    "nb_train_samples = 20000\n",
    "nb_val_samples = 2424\n",
    "image_size = (224,224)\n",
    "batch_size = 64\n",
    "class_num = 10"
   ]
  },
  {
   "cell_type": "code",
   "execution_count": 3,
   "metadata": {},
   "outputs": [],
   "source": [
    "def image_preprocess(img_path):\n",
    "\n",
    "    img = image.load_img(img_path, target_size=(224, 224))\n",
    "    img = image.img_to_array(img)\n",
    "    img = np.expand_dims(img, axis=0)\n",
    "    img = preprocess_input(img)\n",
    "    \n",
    "    return img"
   ]
  },
  {
   "cell_type": "code",
   "execution_count": 4,
   "metadata": {},
   "outputs": [],
   "source": [
    "def test_model(model,test_path,csv='sample_submission.csv'):\n",
    "    columns = ['img', 'c0', 'c1', 'c2', 'c3', 'c4', 'c5', 'c6', 'c7', 'c8', 'c9']\n",
    "    df = pd.DataFrame(columns=columns)\n",
    "    \n",
    "    file_list = os.listdir(test_path)\n",
    "    for i,file in enumerate(file_list):\n",
    "        test_data = image_preprocess(test_path + '/' + file)\n",
    "        y_pred = model.predict(test_data,batch_size=1,verbose=0)\n",
    "        y_pred = np.clip(y_pred,0.001,0.999)\n",
    "        y_pred = y_pred[0].tolist()\n",
    "        df.loc[i] = [file] + y_pred\n",
    "        \n",
    "    df.to_csv(csv,index=None)"
   ]
  },
  {
   "cell_type": "code",
   "execution_count": 7,
   "metadata": {},
   "outputs": [
    {
     "name": "stdout",
     "output_type": "stream",
     "text": [
      "Found 20000 images belonging to 10 classes.\n",
      "Found 2424 images belonging to 10 classes.\n"
     ]
    }
   ],
   "source": [
    "train_datagen = image.ImageDataGenerator(\n",
    "                                         shear_range=0.3,\n",
    "                                         rotation_range=15,\n",
    "                                         height_shift_range=0.3,\n",
    "                                         width_shift_range=0.3,\n",
    "                                         channel_shift_range=15,\n",
    "                                         preprocessing_function=preprocess_input,\n",
    "                                         horizontal_flip=True)\n",
    "\n",
    "validation_datagen = image.ImageDataGenerator(preprocessing_function=preprocess_input)\n",
    "\n",
    "\n",
    "train_generator = train_datagen.flow_from_directory(\n",
    "                                    train_path,\n",
    "                                    target_size=image_size,\n",
    "                                    batch_size=batch_size,\n",
    "                                    class_mode='categorical',\n",
    "                                    shuffle=True)\n",
    "\n",
    "validation_generator = validation_datagen.flow_from_directory(\n",
    "                                    validation_path,\n",
    "                                    target_size=image_size,\n",
    "                                    batch_size=batch_size,                                    \n",
    "                                    class_mode='categorical',\n",
    "                                    shuffle=False)"
   ]
  },
  {
   "cell_type": "code",
   "execution_count": 8,
   "metadata": {},
   "outputs": [
    {
     "name": "stdout",
     "output_type": "stream",
     "text": [
      "_________________________________________________________________\n",
      "Layer (type)                 Output Shape              Param #   \n",
      "=================================================================\n",
      "input_1 (InputLayer)         (None, 224, 224, 3)       0         \n",
      "_________________________________________________________________\n",
      "block1_conv1 (Conv2D)        (None, 224, 224, 64)      1792      \n",
      "_________________________________________________________________\n",
      "block1_conv2 (Conv2D)        (None, 224, 224, 64)      36928     \n",
      "_________________________________________________________________\n",
      "block1_pool (MaxPooling2D)   (None, 112, 112, 64)      0         \n",
      "_________________________________________________________________\n",
      "block2_conv1 (Conv2D)        (None, 112, 112, 128)     73856     \n",
      "_________________________________________________________________\n",
      "block2_conv2 (Conv2D)        (None, 112, 112, 128)     147584    \n",
      "_________________________________________________________________\n",
      "block2_pool (MaxPooling2D)   (None, 56, 56, 128)       0         \n",
      "_________________________________________________________________\n",
      "block3_conv1 (Conv2D)        (None, 56, 56, 256)       295168    \n",
      "_________________________________________________________________\n",
      "block3_conv2 (Conv2D)        (None, 56, 56, 256)       590080    \n",
      "_________________________________________________________________\n",
      "block3_conv3 (Conv2D)        (None, 56, 56, 256)       590080    \n",
      "_________________________________________________________________\n",
      "block3_pool (MaxPooling2D)   (None, 28, 28, 256)       0         \n",
      "_________________________________________________________________\n",
      "block4_conv1 (Conv2D)        (None, 28, 28, 512)       1180160   \n",
      "_________________________________________________________________\n",
      "block4_conv2 (Conv2D)        (None, 28, 28, 512)       2359808   \n",
      "_________________________________________________________________\n",
      "block4_conv3 (Conv2D)        (None, 28, 28, 512)       2359808   \n",
      "_________________________________________________________________\n",
      "block4_pool (MaxPooling2D)   (None, 14, 14, 512)       0         \n",
      "_________________________________________________________________\n",
      "block5_conv1 (Conv2D)        (None, 14, 14, 512)       2359808   \n",
      "_________________________________________________________________\n",
      "block5_conv2 (Conv2D)        (None, 14, 14, 512)       2359808   \n",
      "_________________________________________________________________\n",
      "block5_conv3 (Conv2D)        (None, 14, 14, 512)       2359808   \n",
      "_________________________________________________________________\n",
      "block5_pool (MaxPooling2D)   (None, 7, 7, 512)         0         \n",
      "_________________________________________________________________\n",
      "global_average_pooling2d_1 ( (None, 512)               0         \n",
      "_________________________________________________________________\n",
      "dense_1 (Dense)              (None, 10)                5130      \n",
      "=================================================================\n",
      "Total params: 14,719,818\n",
      "Trainable params: 14,719,818\n",
      "Non-trainable params: 0\n",
      "_________________________________________________________________\n"
     ]
    }
   ],
   "source": [
    "vgg16_base_model = VGG16(weights='imagenet', include_top=False,input_shape=(224,224,3))\n",
    "\n",
    "x = vgg16_base_model.output\n",
    "x = GlobalAveragePooling2D()(x)\n",
    "x = Dense(class_num, activation='softmax')(x)\n",
    "\n",
    "vgg16_model = Model(inputs=vgg16_base_model.input, outputs=x)\n",
    "\n",
    "vgg16_model.summary()"
   ]
  },
  {
   "cell_type": "code",
   "execution_count": 9,
   "metadata": {},
   "outputs": [
    {
     "name": "stdout",
     "output_type": "stream",
     "text": [
      "0 input_1 False\n",
      "1 block1_conv1 False\n",
      "2 block1_conv2 False\n",
      "3 block1_pool False\n",
      "4 block2_conv1 False\n",
      "5 block2_conv2 False\n",
      "6 block2_pool False\n",
      "7 block3_conv1 False\n",
      "8 block3_conv2 False\n",
      "9 block3_conv3 False\n",
      "10 block3_pool False\n",
      "11 block4_conv1 False\n",
      "12 block4_conv2 False\n",
      "13 block4_conv3 False\n",
      "14 block4_pool False\n",
      "15 block5_conv1 False\n",
      "16 block5_conv2 False\n",
      "17 block5_conv3 False\n",
      "18 block5_pool False\n",
      "19 global_average_pooling2d_1 True\n",
      "20 dense_1 True\n"
     ]
    }
   ],
   "source": [
    "for layer in vgg16_model.layers[:19]:\n",
    "    layer.trainable = False\n",
    "\n",
    "for i,layer in enumerate(vgg16_model.layers):\n",
    "    print(i,layer.name,layer.trainable)"
   ]
  },
  {
   "cell_type": "code",
   "execution_count": 10,
   "metadata": {},
   "outputs": [
    {
     "name": "stdout",
     "output_type": "stream",
     "text": [
      "Epoch 1/10\n",
      "312/312 [==============================] - 351s 1s/step - loss: 2.5861 - acc: 0.3465 - val_loss: 2.4524 - val_acc: 0.3826\n",
      "Epoch 2/10\n",
      "312/312 [==============================] - 351s 1s/step - loss: 1.1108 - acc: 0.6316 - val_loss: 2.2605 - val_acc: 0.4212\n",
      "Epoch 3/10\n",
      "312/312 [==============================] - 349s 1s/step - loss: 0.8024 - acc: 0.7317 - val_loss: 1.8183 - val_acc: 0.4932\n",
      "Epoch 4/10\n",
      "312/312 [==============================] - 348s 1s/step - loss: 0.6641 - acc: 0.7770 - val_loss: 1.8984 - val_acc: 0.4843\n",
      "Epoch 5/10\n",
      "312/312 [==============================] - 346s 1s/step - loss: 0.6108 - acc: 0.7973 - val_loss: 1.8822 - val_acc: 0.4932\n",
      "Epoch 6/10\n",
      "312/312 [==============================] - 347s 1s/step - loss: 0.5493 - acc: 0.8168 - val_loss: 1.9904 - val_acc: 0.4856\n"
     ]
    }
   ],
   "source": [
    "vgg16_model.compile(loss='categorical_crossentropy',\n",
    "                    optimizer=optimizers.Adam(lr=1e-3),\n",
    "                    metrics=['accuracy'])\n",
    "\n",
    "\n",
    "vgg16_model.fit_generator(\n",
    "                        train_generator,\n",
    "                        steps_per_epoch=nb_train_samples // batch_size,\n",
    "                        epochs=10,\n",
    "                        validation_data=validation_generator,\n",
    "                        validation_steps=nb_val_samples // batch_size,\n",
    "                        callbacks=[EarlyStopping(patience=3)])\n",
    "\n",
    "vgg16_model.save('vgg16_GAP_fc.h5')"
   ]
  },
  {
   "cell_type": "code",
   "execution_count": 11,
   "metadata": {},
   "outputs": [
    {
     "name": "stdout",
     "output_type": "stream",
     "text": [
      "Epoch 1/20\n",
      "312/312 [==============================] - 352s 1s/step - loss: 0.4056 - acc: 0.8777 - val_loss: 1.1964 - val_acc: 0.6816\n",
      "Epoch 2/20\n",
      "312/312 [==============================] - 349s 1s/step - loss: 0.0890 - acc: 0.9742 - val_loss: 1.5029 - val_acc: 0.7225\n",
      "Epoch 3/20\n",
      "312/312 [==============================] - 351s 1s/step - loss: 0.0545 - acc: 0.9842 - val_loss: 0.9003 - val_acc: 0.7953\n",
      "Epoch 4/20\n",
      "312/312 [==============================] - 349s 1s/step - loss: 0.0374 - acc: 0.9888 - val_loss: 0.9429 - val_acc: 0.7941\n",
      "Epoch 5/20\n",
      "312/312 [==============================] - 349s 1s/step - loss: 0.0326 - acc: 0.9897 - val_loss: 1.2567 - val_acc: 0.7496\n",
      "Epoch 6/20\n",
      "312/312 [==============================] - 348s 1s/step - loss: 0.0310 - acc: 0.9905 - val_loss: 1.5554 - val_acc: 0.6818\n"
     ]
    }
   ],
   "source": [
    "vgg16_model = load_model('vgg16_GAP_fc.h5')\n",
    "\n",
    "for layer in vgg16_model.layers[:15]:\n",
    "    layer.trainable = False\n",
    "    \n",
    "for layer in vgg16_model.layers[15:]:\n",
    "    layer.trainable = True\n",
    "    \n",
    "vgg16_model.compile(loss='categorical_crossentropy',\n",
    "                    optimizer=optimizers.Adam(lr=1e-4),\n",
    "                    metrics=['accuracy'])  \n",
    "\n",
    "vgg16_model.fit_generator(\n",
    "                        train_generator,\n",
    "                        steps_per_epoch=nb_train_samples // batch_size,\n",
    "                        epochs=20,\n",
    "                        validation_data=validation_generator,\n",
    "                        validation_steps=nb_val_samples // batch_size,\n",
    "                        callbacks=[TensorBoard(log_dir='./logs/vgg16_fine_tune'),\n",
    "                                   CSVLogger('vgg16_fine_tune'),\n",
    "                                  EarlyStopping(patience=3)])\n",
    "\n",
    "vgg16_model.save('vgg16_GAP_15.h5')"
   ]
  },
  {
   "cell_type": "code",
   "execution_count": 12,
   "metadata": {},
   "outputs": [
    {
     "name": "stdout",
     "output_type": "stream",
     "text": [
      "Epoch 1/20\n",
      "312/312 [==============================] - 354s 1s/step - loss: 0.1235 - acc: 0.9618 - val_loss: 0.6387 - val_acc: 0.8590\n",
      "Epoch 2/20\n",
      "312/312 [==============================] - 353s 1s/step - loss: 0.0538 - acc: 0.9849 - val_loss: 1.1193 - val_acc: 0.8110\n",
      "Epoch 3/20\n",
      "312/312 [==============================] - 354s 1s/step - loss: 0.0416 - acc: 0.9872 - val_loss: 0.6757 - val_acc: 0.8682\n",
      "Epoch 4/20\n",
      "312/312 [==============================] - 352s 1s/step - loss: 0.0412 - acc: 0.9875 - val_loss: 1.8145 - val_acc: 0.6530\n"
     ]
    }
   ],
   "source": [
    "vgg16_model = load_model('vgg16_GAP_15.h5')\n",
    "\n",
    "for layer in vgg16_model.layers[:11]:\n",
    "    layer.trainable = False\n",
    "    \n",
    "for layer in vgg16_model.layers[11:]:\n",
    "    layer.trainable = True\n",
    "    \n",
    "vgg16_model.compile(loss='categorical_crossentropy',\n",
    "                     optimizer=optimizers.Adam(lr=1e-4),\n",
    "                    metrics=['accuracy']) \n",
    "    \n",
    "vgg16_model.fit_generator(\n",
    "                        train_generator,\n",
    "                        steps_per_epoch=nb_train_samples // batch_size,\n",
    "                        epochs=20,\n",
    "                        validation_data=validation_generator,\n",
    "                        validation_steps=nb_val_samples // batch_size,\n",
    "                        callbacks=[TensorBoard(log_dir='./logs/vgg16_fine_tune'),\n",
    "                                   CSVLogger('vgg16_fine_tune'),\n",
    "                                  EarlyStopping(patience=3)])\n",
    "\n",
    "vgg16_model.save('vgg16_GAP_11.h5')"
   ]
  },
  {
   "cell_type": "code",
   "execution_count": 13,
   "metadata": {},
   "outputs": [
    {
     "name": "stdout",
     "output_type": "stream",
     "text": [
      "Epoch 1/20\n",
      "312/312 [==============================] - 415s 1s/step - loss: 0.0677 - acc: 0.9791 - val_loss: 0.5176 - val_acc: 0.8826\n",
      "Epoch 2/20\n",
      "312/312 [==============================] - 410s 1s/step - loss: 0.0521 - acc: 0.9846 - val_loss: 1.2058 - val_acc: 0.7822\n",
      "Epoch 3/20\n",
      "312/312 [==============================] - 410s 1s/step - loss: 0.0354 - acc: 0.9887 - val_loss: 1.1315 - val_acc: 0.8203\n",
      "Epoch 4/20\n",
      "312/312 [==============================] - 409s 1s/step - loss: 0.0299 - acc: 0.9903 - val_loss: 0.4073 - val_acc: 0.8949\n",
      "Epoch 5/20\n",
      "312/312 [==============================] - 409s 1s/step - loss: 0.0348 - acc: 0.9902 - val_loss: 0.4891 - val_acc: 0.8924\n",
      "Epoch 6/20\n",
      "312/312 [==============================] - 409s 1s/step - loss: 0.0292 - acc: 0.9910 - val_loss: 0.9298 - val_acc: 0.8453\n",
      "Epoch 7/20\n",
      "312/312 [==============================] - 409s 1s/step - loss: 0.0264 - acc: 0.9921 - val_loss: 0.4291 - val_acc: 0.8970\n"
     ]
    }
   ],
   "source": [
    "vgg16_model = load_model('vgg16_GAP_11.h5')\n",
    "\n",
    "for layer in vgg16_model.layers[:7]:\n",
    "    layer.trainable = False\n",
    "    \n",
    "for layer in vgg16_model.layers[7:]:\n",
    "    layer.trainable = True\n",
    "    \n",
    "vgg16_model.compile(loss='categorical_crossentropy',\n",
    "                     optimizer=optimizers.Adam(lr=1e-4),\n",
    "                    metrics=['accuracy']) \n",
    "    \n",
    "vgg16_model.fit_generator(\n",
    "                        train_generator,\n",
    "                        steps_per_epoch=nb_train_samples // batch_size,\n",
    "                        epochs=20,\n",
    "                        validation_data=validation_generator,\n",
    "                        validation_steps=nb_val_samples // batch_size,\n",
    "                        callbacks=[TensorBoard(log_dir='./logs/vgg16_fine_tune'),\n",
    "                                   CSVLogger('vgg16_fine_tune'),\n",
    "                                  EarlyStopping(patience=3)])\n",
    "\n",
    "vgg16_model.save('vgg16_GAP_7.h5')"
   ]
  },
  {
   "cell_type": "code",
   "execution_count": 14,
   "metadata": {},
   "outputs": [
    {
     "name": "stdout",
     "output_type": "stream",
     "text": [
      "Epoch 1/20\n",
      "312/312 [==============================] - 659s 2s/step - loss: 0.0359 - acc: 0.9890 - val_loss: 0.9667 - val_acc: 0.8459\n",
      "Epoch 2/20\n",
      "312/312 [==============================] - 651s 2s/step - loss: 0.0363 - acc: 0.9882 - val_loss: 0.5878 - val_acc: 0.9225\n",
      "Epoch 3/20\n",
      "312/312 [==============================] - 650s 2s/step - loss: 0.0233 - acc: 0.9931 - val_loss: 0.5264 - val_acc: 0.8890\n",
      "Epoch 4/20\n",
      "312/312 [==============================] - 650s 2s/step - loss: 0.0298 - acc: 0.9916 - val_loss: 0.5523 - val_acc: 0.8890\n",
      "Epoch 5/20\n",
      "312/312 [==============================] - 649s 2s/step - loss: 0.0228 - acc: 0.9932 - val_loss: 0.5061 - val_acc: 0.8979\n",
      "Epoch 6/20\n",
      "312/312 [==============================] - 649s 2s/step - loss: 0.0215 - acc: 0.9945 - val_loss: 0.5676 - val_acc: 0.8949\n",
      "Epoch 7/20\n",
      "312/312 [==============================] - 648s 2s/step - loss: 0.0140 - acc: 0.9960 - val_loss: 0.4638 - val_acc: 0.9106\n",
      "Epoch 8/20\n",
      "312/312 [==============================] - 649s 2s/step - loss: 0.0309 - acc: 0.9911 - val_loss: 0.9229 - val_acc: 0.8191\n",
      "Epoch 9/20\n",
      "312/312 [==============================] - 649s 2s/step - loss: 0.0254 - acc: 0.9924 - val_loss: 0.4190 - val_acc: 0.9157\n",
      "Epoch 10/20\n",
      "312/312 [==============================] - 648s 2s/step - loss: 0.0180 - acc: 0.9954 - val_loss: 0.3729 - val_acc: 0.9335\n",
      "Epoch 11/20\n",
      "312/312 [==============================] - 648s 2s/step - loss: 0.0160 - acc: 0.9953 - val_loss: 0.3345 - val_acc: 0.9297\n",
      "Epoch 12/20\n",
      "312/312 [==============================] - 646s 2s/step - loss: 0.0119 - acc: 0.9963 - val_loss: 0.6059 - val_acc: 0.8915\n",
      "Epoch 13/20\n",
      "312/312 [==============================] - 647s 2s/step - loss: 0.0149 - acc: 0.9956 - val_loss: 0.4913 - val_acc: 0.9174\n",
      "Epoch 14/20\n",
      "312/312 [==============================] - 647s 2s/step - loss: 0.0260 - acc: 0.9923 - val_loss: 0.5116 - val_acc: 0.8936\n"
     ]
    }
   ],
   "source": [
    "vgg16_model = load_model('vgg16_GAP_7.h5')\n",
    "    \n",
    "for layer in vgg16_model.layers:\n",
    "    layer.trainable = True\n",
    "    \n",
    "vgg16_model.compile(loss='categorical_crossentropy',\n",
    "                     optimizer=optimizers.Adam(lr=1e-4),\n",
    "                    metrics=['accuracy']) \n",
    "    \n",
    "vgg16_model.fit_generator(\n",
    "                        train_generator,\n",
    "                        steps_per_epoch=nb_train_samples // batch_size,\n",
    "                        epochs=20,\n",
    "                        validation_data=validation_generator,\n",
    "                        validation_steps=nb_val_samples // batch_size,\n",
    "                        callbacks=[TensorBoard(log_dir='./logs/vgg16_fine_tune'),\n",
    "                                   CSVLogger('vgg16_fine_tune'),\n",
    "                                  EarlyStopping(patience=3)])\n",
    "\n",
    "vgg16_model.save('vgg16_GAP_all.h5')"
   ]
  },
  {
   "cell_type": "code",
   "execution_count": 20,
   "metadata": {},
   "outputs": [
    {
     "name": "stdout",
     "output_type": "stream",
     "text": [
      "Epoch 1/5\n",
      "312/312 [==============================] - 638s 2s/step - loss: 0.0012 - acc: 0.9997 - val_loss: 0.6061 - val_acc: 0.9312\n",
      "Epoch 2/5\n",
      "312/312 [==============================] - 636s 2s/step - loss: 6.0686e-04 - acc: 0.9998 - val_loss: 0.5574 - val_acc: 0.9373\n",
      "Epoch 3/5\n",
      "312/312 [==============================] - 636s 2s/step - loss: 7.1654e-04 - acc: 0.9998 - val_loss: 0.6181 - val_acc: 0.9275\n",
      "Epoch 4/5\n",
      "312/312 [==============================] - 636s 2s/step - loss: 1.0961e-04 - acc: 0.9999 - val_loss: 0.5776 - val_acc: 0.9297\n",
      "Epoch 5/5\n",
      "312/312 [==============================] - 637s 2s/step - loss: 7.1533e-05 - acc: 1.0000 - val_loss: 0.5940 - val_acc: 0.9364\n"
     ]
    },
    {
     "data": {
      "text/plain": [
       "<keras.callbacks.History at 0x7f3e6b83c898>"
      ]
     },
     "execution_count": 20,
     "metadata": {},
     "output_type": "execute_result"
    }
   ],
   "source": [
    "vgg16_model.compile(loss='categorical_crossentropy',\n",
    "                     optimizer=optimizers.Adam(lr=1e-5),\n",
    "                    metrics=['accuracy']) \n",
    "    \n",
    "vgg16_model.fit_generator(\n",
    "                        train_generator,\n",
    "                        steps_per_epoch=nb_train_samples // batch_size,\n",
    "                        epochs=5,\n",
    "                        validation_data=validation_generator,\n",
    "                        validation_steps=nb_val_samples // batch_size,\n",
    "                        callbacks=[TensorBoard(log_dir='./logs/vgg16_fine_tune'),\n",
    "                                   CSVLogger('vgg16_fine_tune'),\n",
    "                                  ])"
   ]
  },
  {
   "cell_type": "code",
   "execution_count": 21,
   "metadata": {},
   "outputs": [],
   "source": [
    "vgg16_model.save('vgg16_GAP_final.h5')"
   ]
  },
  {
   "cell_type": "code",
   "execution_count": 22,
   "metadata": {},
   "outputs": [],
   "source": [
    "test_model(vgg16_model,test_path=test_path,csv='vgg16_GAP_submission.csv')"
   ]
  },
  {
   "cell_type": "code",
   "execution_count": null,
   "metadata": {},
   "outputs": [],
   "source": []
  },
  {
   "cell_type": "code",
   "execution_count": null,
   "metadata": {},
   "outputs": [],
   "source": []
  }
 ],
 "metadata": {
  "kernelspec": {
   "display_name": "Python 3",
   "language": "python",
   "name": "python3"
  },
  "language_info": {
   "codemirror_mode": {
    "name": "ipython",
    "version": 3
   },
   "file_extension": ".py",
   "mimetype": "text/x-python",
   "name": "python",
   "nbconvert_exporter": "python",
   "pygments_lexer": "ipython3",
   "version": "3.6.3"
  }
 },
 "nbformat": 4,
 "nbformat_minor": 2
}
