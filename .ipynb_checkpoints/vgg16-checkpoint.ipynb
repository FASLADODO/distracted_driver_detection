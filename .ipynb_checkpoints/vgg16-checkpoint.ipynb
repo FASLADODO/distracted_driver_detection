{
 "cells": [
  {
   "cell_type": "code",
   "execution_count": 1,
   "metadata": {},
   "outputs": [
    {
     "name": "stderr",
     "output_type": "stream",
     "text": [
      "/home/ubuntu/anaconda3/envs/tensorflow_p36/lib/python3.6/site-packages/h5py/__init__.py:36: FutureWarning: Conversion of the second argument of issubdtype from `float` to `np.floating` is deprecated. In future, it will be treated as `np.float64 == np.dtype(float).type`.\n",
      "  from ._conv import register_converters as _register_converters\n",
      "Using TensorFlow backend.\n",
      "/home/ubuntu/anaconda3/envs/tensorflow_p36/lib/python3.6/site-packages/matplotlib/__init__.py:962: UserWarning: Duplicate key in file \"/home/ubuntu/.config/matplotlib/matplotlibrc\", line #2\n",
      "  (fname, cnt))\n",
      "/home/ubuntu/anaconda3/envs/tensorflow_p36/lib/python3.6/site-packages/matplotlib/__init__.py:962: UserWarning: Duplicate key in file \"/home/ubuntu/.config/matplotlib/matplotlibrc\", line #3\n",
      "  (fname, cnt))\n"
     ]
    }
   ],
   "source": [
    "from keras.models import *\n",
    "from keras.layers import *\n",
    "from keras.optimizers import RMSprop,SGD,Adadelta,Adam\n",
    "from keras.preprocessing import image\n",
    "from keras.callbacks import TensorBoard,History,EarlyStopping,CSVLogger\n",
    "from keras.applications.vgg16 import VGG16,preprocess_input\n",
    "from sklearn.utils import shuffle\n",
    "import numpy as np\n",
    "import pandas as pd\n",
    "import h5py\n",
    "import os"
   ]
  },
  {
   "cell_type": "code",
   "execution_count": 2,
   "metadata": {},
   "outputs": [],
   "source": [
    "train_path = './train'\n",
    "validation_path = './validation'\n",
    "test_path = './test'\n",
    "assert(os.path.exists(train_path))\n",
    "assert(os.path.exists(validation_path))\n",
    "assert(os.path.exists(test_path))\n",
    "\n",
    "\n",
    "nb_train_samples = 20000\n",
    "nb_val_samples = 2424\n",
    "image_size = (224,224)\n",
    "batch_size = 128\n",
    "class_num = 10"
   ]
  },
  {
   "cell_type": "code",
   "execution_count": 3,
   "metadata": {},
   "outputs": [],
   "source": [
    "def image_preprocess(img_path):\n",
    "\n",
    "    img = image.load_img(img_path, target_size=(224, 224))\n",
    "    img = image.img_to_array(img)\n",
    "    img = np.expand_dims(img, axis=0)\n",
    "    img = preprocess_input(img)\n",
    "    \n",
    "    return img"
   ]
  },
  {
   "cell_type": "code",
   "execution_count": 4,
   "metadata": {},
   "outputs": [],
   "source": [
    "def test_model(model,test_path,csv='sample_submission.csv'):\n",
    "    columns = ['img', 'c0', 'c1', 'c2', 'c3', 'c4', 'c5', 'c6', 'c7', 'c8', 'c9']\n",
    "    df = pd.DataFrame(columns=columns)\n",
    "    \n",
    "    file_list = os.listdir(test_path)\n",
    "    for i,file in enumerate(file_list):\n",
    "        test_data = image_preprocess(test_path + '/' + file)\n",
    "        y_pred = model.predict(test_data,batch_size=1,verbose=0)\n",
    "        y_pred = np.clip(y_pred,0.001,0.999)\n",
    "        y_pred = y_pred[0].tolist()\n",
    "        df.loc[i] = [file] + y_pred\n",
    "        \n",
    "    df.to_csv(csv,index=None)"
   ]
  },
  {
   "cell_type": "code",
   "execution_count": 5,
   "metadata": {},
   "outputs": [
    {
     "name": "stdout",
     "output_type": "stream",
     "text": [
      "Found 20000 images belonging to 10 classes.\n",
      "Found 2424 images belonging to 10 classes.\n"
     ]
    }
   ],
   "source": [
    "train_datagen = image.ImageDataGenerator(\n",
    "                                         shear_range=0.2,\n",
    "                                         zoom_range=0.2,\n",
    "                                         rotation_range=15,\n",
    "                                         height_shift_range=0.2,\n",
    "                                         width_shift_range=0.2,\n",
    "                                         channel_shift_range=10,\n",
    "                                         preprocessing_function=preprocess_input,\n",
    "                                         horizontal_flip=True)\n",
    "\n",
    "validation_datagen = image.ImageDataGenerator(preprocessing_function=preprocess_input)\n",
    "\n",
    "\n",
    "train_generator = train_datagen.flow_from_directory(\n",
    "                                    train_path,\n",
    "                                    target_size=image_size,\n",
    "                                    batch_size=batch_size,\n",
    "                                    class_mode='categorical',\n",
    "                                    shuffle=True)\n",
    "\n",
    "validation_generator = validation_datagen.flow_from_directory(\n",
    "                                    validation_path,\n",
    "                                    target_size=image_size,\n",
    "                                    batch_size=batch_size,                                    \n",
    "                                    class_mode='categorical',\n",
    "                                    shuffle=False)"
   ]
  },
  {
   "cell_type": "code",
   "execution_count": 9,
   "metadata": {},
   "outputs": [],
   "source": [
    "vgg16_base_model = VGG16(weights='imagenet', include_top=False,input_shape=(224,224,3))\n",
    "\n",
    "x = vgg16_base_model.output\n",
    "\n",
    "x = Flatten()(x)\n",
    "x = Dense(128, activation='relu')(x)\n",
    "x = BatchNormalization()(x)\n",
    "x = Dropout(0.5)(x)\n",
    "\n",
    "x = Dense(128, activation='relu')(x)\n",
    "x = BatchNormalization()(x)\n",
    "x = Dropout(0.5)(x)\n",
    "predict = Dense(10, activation='softmax')(x)\n",
    "\n",
    "vgg16_model = Model(inputs=vgg16_base_model.input, outputs=predict)"
   ]
  },
  {
   "cell_type": "code",
   "execution_count": 10,
   "metadata": {},
   "outputs": [
    {
     "name": "stdout",
     "output_type": "stream",
     "text": [
      "0 input_2 False\n",
      "1 block1_conv1 False\n",
      "2 block1_conv2 False\n",
      "3 block1_pool False\n",
      "4 block2_conv1 False\n",
      "5 block2_conv2 False\n",
      "6 block2_pool False\n",
      "7 block3_conv1 False\n",
      "8 block3_conv2 False\n",
      "9 block3_conv3 False\n",
      "10 block3_pool False\n",
      "11 block4_conv1 False\n",
      "12 block4_conv2 False\n",
      "13 block4_conv3 False\n",
      "14 block4_pool False\n",
      "15 block5_conv1 False\n",
      "16 block5_conv2 False\n",
      "17 block5_conv3 False\n",
      "18 block5_pool False\n",
      "19 flatten_2 True\n",
      "20 dense_4 True\n",
      "21 batch_normalization_3 True\n",
      "22 dropout_3 True\n",
      "23 dense_5 True\n",
      "24 batch_normalization_4 True\n",
      "25 dropout_4 True\n",
      "26 dense_6 True\n"
     ]
    }
   ],
   "source": [
    "for layer in vgg16_model.layers[:19]:\n",
    "    layer.trainable = False\n",
    "\n",
    "for i,layer in enumerate(vgg16_model.layers):\n",
    "    print(i,layer.name,layer.trainable)"
   ]
  },
  {
   "cell_type": "code",
   "execution_count": 11,
   "metadata": {},
   "outputs": [
    {
     "name": "stdout",
     "output_type": "stream",
     "text": [
      "Epoch 1/15\n",
      "156/156 [==============================] - 330s 2s/step - loss: 2.2529 - acc: 0.3022 - val_loss: 1.3992 - val_acc: 0.4670\n",
      "Epoch 2/15\n",
      "156/156 [==============================] - 326s 2s/step - loss: 1.1133 - acc: 0.6101 - val_loss: 1.0798 - val_acc: 0.6355\n",
      "Epoch 3/15\n",
      "156/156 [==============================] - 323s 2s/step - loss: 0.7546 - acc: 0.7477 - val_loss: 0.9663 - val_acc: 0.6747\n",
      "Epoch 4/15\n",
      "156/156 [==============================] - 322s 2s/step - loss: 0.6134 - acc: 0.7941 - val_loss: 1.2106 - val_acc: 0.6429\n",
      "Epoch 5/15\n",
      "156/156 [==============================] - 321s 2s/step - loss: 0.5354 - acc: 0.8229 - val_loss: 1.0181 - val_acc: 0.6794\n",
      "Epoch 6/15\n",
      "156/156 [==============================] - 317s 2s/step - loss: 0.4713 - acc: 0.8402 - val_loss: 0.9991 - val_acc: 0.6764\n"
     ]
    }
   ],
   "source": [
    "vgg16_model.compile(loss='categorical_crossentropy',\n",
    "                    optimizer=optimizers.Adam(lr=1e-3),\n",
    "                    metrics=['accuracy'])\n",
    "\n",
    "\n",
    "vgg16_model.fit_generator(\n",
    "                        train_generator,\n",
    "                        steps_per_epoch=nb_train_samples // batch_size,\n",
    "                        epochs=15,\n",
    "                        validation_data=validation_generator,\n",
    "                        validation_steps=nb_val_samples // batch_size,\n",
    "                        callbacks=[EarlyStopping(patience=3)])\n",
    "\n",
    "vgg16_model.save('vgg16_model_fc.h5')"
   ]
  },
  {
   "cell_type": "code",
   "execution_count": 13,
   "metadata": {},
   "outputs": [
    {
     "name": "stdout",
     "output_type": "stream",
     "text": [
      "Epoch 1/20\n",
      "156/156 [==============================] - 324s 2s/step - loss: 0.4192 - acc: 0.8705 - val_loss: 0.6258 - val_acc: 0.8190\n",
      "Epoch 2/20\n",
      "156/156 [==============================] - 328s 2s/step - loss: 0.1379 - acc: 0.9596 - val_loss: 0.8048 - val_acc: 0.8193\n",
      "Epoch 3/20\n",
      "156/156 [==============================] - 324s 2s/step - loss: 0.0893 - acc: 0.9755 - val_loss: 0.5617 - val_acc: 0.8524\n",
      "Epoch 4/20\n",
      "156/156 [==============================] - 321s 2s/step - loss: 0.0758 - acc: 0.9802 - val_loss: 0.5994 - val_acc: 0.8306\n",
      "Epoch 5/20\n",
      "156/156 [==============================] - 320s 2s/step - loss: 0.0610 - acc: 0.9841 - val_loss: 0.5006 - val_acc: 0.8929\n",
      "Epoch 6/20\n",
      "156/156 [==============================] - 318s 2s/step - loss: 0.0422 - acc: 0.9882 - val_loss: 0.7838 - val_acc: 0.8079\n",
      "Epoch 7/20\n",
      "156/156 [==============================] - 318s 2s/step - loss: 0.0388 - acc: 0.9904 - val_loss: 0.8521 - val_acc: 0.8014\n",
      "Epoch 8/20\n",
      "156/156 [==============================] - 317s 2s/step - loss: 0.0307 - acc: 0.9921 - val_loss: 3.4293 - val_acc: 0.4961\n"
     ]
    }
   ],
   "source": [
    "vgg16_model = load_model('vgg16_model_fc.h5')\n",
    "\n",
    "for layer in vgg16_model.layers[:15]:\n",
    "    layer.trainable = False\n",
    "    \n",
    "for layer in vgg16_model.layers[15:]:\n",
    "    layer.trainable = True\n",
    "    \n",
    "vgg16_model.compile(loss='categorical_crossentropy',\n",
    "                    optimizer=optimizers.Adam(lr=5e-4),\n",
    "                    metrics=['accuracy'])  \n",
    "\n",
    "vgg16_model.fit_generator(\n",
    "                        train_generator,\n",
    "                        steps_per_epoch=nb_train_samples // batch_size,\n",
    "                        epochs=20,\n",
    "                        validation_data=validation_generator,\n",
    "                        validation_steps=nb_val_samples // batch_size,\n",
    "                        callbacks=[TensorBoard(log_dir='./logs/vgg16_fine_tune'),\n",
    "                                   CSVLogger('vgg16_fine_tune'),\n",
    "                                   EarlyStopping(patience=3)])\n",
    "\n",
    "vgg16_model.save('vgg16_model_15.h5')"
   ]
  },
  {
   "cell_type": "code",
   "execution_count": 14,
   "metadata": {},
   "outputs": [
    {
     "name": "stdout",
     "output_type": "stream",
     "text": [
      "Epoch 1/20\n",
      "156/156 [==============================] - 322s 2s/step - loss: 0.0552 - acc: 0.9832 - val_loss: 0.6105 - val_acc: 0.8594\n",
      "Epoch 2/20\n",
      "156/156 [==============================] - 326s 2s/step - loss: 0.0390 - acc: 0.9888 - val_loss: 0.4559 - val_acc: 0.9116\n",
      "Epoch 3/20\n",
      "156/156 [==============================] - 325s 2s/step - loss: 0.0243 - acc: 0.9935 - val_loss: 0.5180 - val_acc: 0.8733\n",
      "Epoch 4/20\n",
      "156/156 [==============================] - 322s 2s/step - loss: 0.0240 - acc: 0.9933 - val_loss: 1.1330 - val_acc: 0.7099\n"
     ]
    }
   ],
   "source": [
    "vgg16_model = load_model('vgg16_model_15.h5')\n",
    "\n",
    "for layer in vgg16_model.layers[:11]:\n",
    "    layer.trainable = False\n",
    "    \n",
    "for layer in vgg16_model.layers[11:]:\n",
    "    layer.trainable = True\n",
    "    \n",
    "vgg16_model.compile(loss='categorical_crossentropy',\n",
    "                    optimizer=optimizers.Adam(lr=1e-4),\n",
    "                    metrics=['accuracy'])  \n",
    "\n",
    "vgg16_model.fit_generator(\n",
    "                        train_generator,\n",
    "                        steps_per_epoch=nb_train_samples // batch_size,\n",
    "                        epochs=20,\n",
    "                        validation_data=validation_generator,\n",
    "                        validation_steps=nb_val_samples // batch_size,\n",
    "                        callbacks=[TensorBoard(log_dir='./logs/vgg16_fine_tune'),\n",
    "                                   CSVLogger('vgg16_fine_tune'),\n",
    "                                   EarlyStopping(patience=2)])\n",
    "\n",
    "vgg16_model.save('vgg16_model_11.h5')"
   ]
  },
  {
   "cell_type": "code",
   "execution_count": 15,
   "metadata": {},
   "outputs": [
    {
     "name": "stdout",
     "output_type": "stream",
     "text": [
      "Epoch 1/20\n",
      "156/156 [==============================] - 323s 2s/step - loss: 0.0216 - acc: 0.9940 - val_loss: 0.4645 - val_acc: 0.8906\n",
      "Epoch 2/20\n",
      "156/156 [==============================] - 327s 2s/step - loss: 0.0190 - acc: 0.9951 - val_loss: 1.9985 - val_acc: 0.5627\n",
      "Epoch 3/20\n",
      "156/156 [==============================] - 326s 2s/step - loss: 0.0144 - acc: 0.9963 - val_loss: 0.5850 - val_acc: 0.8645\n",
      "Epoch 4/20\n",
      "156/156 [==============================] - 323s 2s/step - loss: 0.0129 - acc: 0.9966 - val_loss: 0.6935 - val_acc: 0.8528\n"
     ]
    }
   ],
   "source": [
    "vgg16_model = load_model('vgg16_model_11.h5')\n",
    "\n",
    "for layer in vgg16_model.layers[:7]:\n",
    "    layer.trainable = False\n",
    "    \n",
    "for layer in vgg16_model.layers[7:]:\n",
    "    layer.trainable = True\n",
    "\n",
    "vgg16_model.compile(loss='categorical_crossentropy',\n",
    "                    optimizer=optimizers.Adam(lr=5e-5),\n",
    "                    metrics=['accuracy'])  \n",
    "\n",
    "vgg16_model.fit_generator(\n",
    "                        train_generator,\n",
    "                        steps_per_epoch=nb_train_samples // batch_size,\n",
    "                        epochs=20,\n",
    "                        validation_data=validation_generator,\n",
    "                        validation_steps=nb_val_samples // batch_size,\n",
    "                        callbacks=[TensorBoard(log_dir='./logs/vgg16_fine_tune'),\n",
    "                                   CSVLogger('vgg16_fine_tune'),\n",
    "                                   EarlyStopping(patience=3)])\n",
    "vgg16_model.save('vgg16_model_7.h5')"
   ]
  },
  {
   "cell_type": "code",
   "execution_count": 16,
   "metadata": {},
   "outputs": [
    {
     "name": "stdout",
     "output_type": "stream",
     "text": [
      "Epoch 1/15\n",
      "156/156 [==============================] - 323s 2s/step - loss: 0.0058 - acc: 0.9988 - val_loss: 0.3170 - val_acc: 0.9258\n",
      "Epoch 2/15\n",
      "156/156 [==============================] - 328s 2s/step - loss: 0.0046 - acc: 0.9990 - val_loss: 0.4538 - val_acc: 0.8802\n",
      "Epoch 3/15\n",
      "156/156 [==============================] - 326s 2s/step - loss: 0.0041 - acc: 0.9992 - val_loss: 0.5444 - val_acc: 0.8759\n",
      "Epoch 4/15\n",
      "156/156 [==============================] - 324s 2s/step - loss: 0.0041 - acc: 0.9991 - val_loss: 0.4317 - val_acc: 0.8994\n"
     ]
    }
   ],
   "source": [
    "vgg16_model = load_model('vgg16_model_7.h5')\n",
    "\n",
    "    \n",
    "for layer in vgg16_model.layers:\n",
    "    layer.trainable = True\n",
    "\n",
    "vgg16_model.compile(loss='categorical_crossentropy',\n",
    "                    optimizer=optimizers.Adam(lr=1e-5),\n",
    "                    metrics=['accuracy'])  \n",
    "\n",
    "vgg16_model.fit_generator(\n",
    "                        train_generator,\n",
    "                        steps_per_epoch=nb_train_samples // batch_size,\n",
    "                        epochs=15,\n",
    "                        validation_data=validation_generator,\n",
    "                        validation_steps=nb_val_samples // batch_size,\n",
    "                        callbacks=[TensorBoard(log_dir='./logs/vgg16_fine_tune'),\n",
    "                                   CSVLogger('vgg16_fine_tune'),\n",
    "                                   EarlyStopping(patience=3)])\n",
    "\n",
    "vgg16_model.save('vgg16_model_all.h5')"
   ]
  },
  {
   "cell_type": "code",
   "execution_count": 18,
   "metadata": {},
   "outputs": [
    {
     "name": "stdout",
     "output_type": "stream",
     "text": [
      "Epoch 1/15\n",
      "156/156 [==============================] - 324s 2s/step - loss: 0.0028 - acc: 0.9997 - val_loss: 0.3014 - val_acc: 0.9280\n",
      "Epoch 2/15\n",
      "156/156 [==============================] - 328s 2s/step - loss: 0.0025 - acc: 0.9996 - val_loss: 0.3899 - val_acc: 0.9046\n",
      "Epoch 3/15\n",
      "156/156 [==============================] - 326s 2s/step - loss: 0.0023 - acc: 0.9997 - val_loss: 0.3617 - val_acc: 0.9120\n",
      "Epoch 4/15\n",
      "156/156 [==============================] - 322s 2s/step - loss: 0.0019 - acc: 0.9997 - val_loss: 0.4821 - val_acc: 0.8837\n"
     ]
    },
    {
     "data": {
      "text/plain": [
       "<keras.callbacks.History at 0x7f0ee831f860>"
      ]
     },
     "execution_count": 18,
     "metadata": {},
     "output_type": "execute_result"
    }
   ],
   "source": [
    "vgg16_model.compile(loss='categorical_crossentropy',\n",
    "                    optimizer=optimizers.Adam(lr=5e-6),\n",
    "                    metrics=['accuracy'])  \n",
    "\n",
    "vgg16_model.fit_generator(\n",
    "                        train_generator,\n",
    "                        steps_per_epoch=nb_train_samples // batch_size,\n",
    "                        epochs=15,\n",
    "                        validation_data=validation_generator,\n",
    "                        validation_steps=nb_val_samples // batch_size,\n",
    "                        callbacks=[TensorBoard(log_dir='./logs/vgg16_fine_tune'),\n",
    "                                   CSVLogger('vgg16_fine_tune'),\n",
    "                                   EarlyStopping(patience=3)])"
   ]
  },
  {
   "cell_type": "code",
   "execution_count": 19,
   "metadata": {},
   "outputs": [],
   "source": [
    "vgg16_model.save('vgg16_final_model.h5')"
   ]
  },
  {
   "cell_type": "code",
   "execution_count": 20,
   "metadata": {},
   "outputs": [],
   "source": [
    "vgg16_model = load_model('vgg16_final_model.h5')\n",
    "\n",
    "test_model(vgg16_model,test_path,csv='vgg16_submission_0430.csv')"
   ]
  },
  {
   "cell_type": "code",
   "execution_count": null,
   "metadata": {},
   "outputs": [],
   "source": []
  }
 ],
 "metadata": {
  "kernelspec": {
   "display_name": "Python 3",
   "language": "python",
   "name": "python3"
  },
  "language_info": {
   "codemirror_mode": {
    "name": "ipython",
    "version": 3
   },
   "file_extension": ".py",
   "mimetype": "text/x-python",
   "name": "python",
   "nbconvert_exporter": "python",
   "pygments_lexer": "ipython3",
   "version": "3.6.3"
  }
 },
 "nbformat": 4,
 "nbformat_minor": 2
}
