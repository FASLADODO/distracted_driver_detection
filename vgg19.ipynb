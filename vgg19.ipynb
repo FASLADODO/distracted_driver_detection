{
 "cells": [
  {
   "cell_type": "code",
   "execution_count": 1,
   "metadata": {},
   "outputs": [
    {
     "name": "stderr",
     "output_type": "stream",
     "text": [
      "/home/ubuntu/anaconda3/envs/tensorflow_p36/lib/python3.6/site-packages/h5py/__init__.py:36: FutureWarning: Conversion of the second argument of issubdtype from `float` to `np.floating` is deprecated. In future, it will be treated as `np.float64 == np.dtype(float).type`.\n",
      "  from ._conv import register_converters as _register_converters\n",
      "Using TensorFlow backend.\n",
      "/home/ubuntu/anaconda3/envs/tensorflow_p36/lib/python3.6/site-packages/matplotlib/__init__.py:962: UserWarning: Duplicate key in file \"/home/ubuntu/.config/matplotlib/matplotlibrc\", line #2\n",
      "  (fname, cnt))\n",
      "/home/ubuntu/anaconda3/envs/tensorflow_p36/lib/python3.6/site-packages/matplotlib/__init__.py:962: UserWarning: Duplicate key in file \"/home/ubuntu/.config/matplotlib/matplotlibrc\", line #3\n",
      "  (fname, cnt))\n"
     ]
    }
   ],
   "source": [
    "from keras.models import *\n",
    "from keras.layers import *\n",
    "from keras.optimizers import RMSprop,SGD,Adadelta,Adam\n",
    "from keras.preprocessing import image\n",
    "from keras.callbacks import TensorBoard,History,EarlyStopping,CSVLogger\n",
    "from keras.applications.vgg19 import VGG19,preprocess_input\n",
    "from sklearn.utils import shuffle\n",
    "import numpy as np\n",
    "import pandas as pd\n",
    "import h5py\n",
    "import os"
   ]
  },
  {
   "cell_type": "code",
   "execution_count": 2,
   "metadata": {},
   "outputs": [],
   "source": [
    "train_path = './train'\n",
    "validation_path = './validation'\n",
    "test_path = './test'\n",
    "assert(os.path.exists(train_path))\n",
    "assert(os.path.exists(validation_path))\n",
    "assert(os.path.exists(test_path))\n",
    "\n",
    "\n",
    "nb_train_samples = 20000\n",
    "nb_val_samples = 2424\n",
    "image_size = (224,224)\n",
    "batch_size = 128\n",
    "class_num = 10"
   ]
  },
  {
   "cell_type": "code",
   "execution_count": 3,
   "metadata": {},
   "outputs": [],
   "source": [
    "def image_preprocess(img_path):\n",
    "\n",
    "    img = image.load_img(img_path, target_size=(224, 224))\n",
    "    img = image.img_to_array(img)\n",
    "    img = np.expand_dims(img, axis=0)\n",
    "    img = preprocess_input(img)\n",
    "    \n",
    "    return img"
   ]
  },
  {
   "cell_type": "code",
   "execution_count": 4,
   "metadata": {},
   "outputs": [],
   "source": [
    "def test_model(model,test_path,csv='sample_submission.csv'):\n",
    "    columns = ['img', 'c0', 'c1', 'c2', 'c3', 'c4', 'c5', 'c6', 'c7', 'c8', 'c9']\n",
    "    df = pd.DataFrame(columns=columns)\n",
    "    \n",
    "    file_list = os.listdir(test_path)\n",
    "    for i,file in enumerate(file_list):\n",
    "        test_data = image_preprocess(test_path + '/' + file)\n",
    "        y_pred = model.predict(test_data,batch_size=1,verbose=0)\n",
    "        y_pred = np.clip(y_pred,0.001,0.999)\n",
    "        y_pred = y_pred[0].tolist()\n",
    "        df.loc[i] = [file] + y_pred\n",
    "        \n",
    "    df.to_csv(csv,index=None)"
   ]
  },
  {
   "cell_type": "code",
   "execution_count": 5,
   "metadata": {},
   "outputs": [
    {
     "name": "stdout",
     "output_type": "stream",
     "text": [
      "Found 20000 images belonging to 10 classes.\n",
      "Found 2424 images belonging to 10 classes.\n"
     ]
    }
   ],
   "source": [
    "train_datagen = image.ImageDataGenerator(\n",
    "                                         shear_range=0.2,\n",
    "                                         rotation_range=15,\n",
    "                                         height_shift_range=0.2,\n",
    "                                         width_shift_range=0.2,\n",
    "                                         channel_shift_range=10,\n",
    "                                         preprocessing_function=preprocess_input,\n",
    "                                         horizontal_flip=True)\n",
    "\n",
    "validation_datagen = image.ImageDataGenerator(preprocessing_function=preprocess_input)\n",
    "\n",
    "\n",
    "train_generator = train_datagen.flow_from_directory(\n",
    "                                    train_path,\n",
    "                                    target_size=image_size,\n",
    "                                    batch_size=batch_size,\n",
    "                                    class_mode='categorical',\n",
    "                                    shuffle=True)\n",
    "\n",
    "validation_generator = validation_datagen.flow_from_directory(\n",
    "                                    validation_path,\n",
    "                                    target_size=image_size,\n",
    "                                    batch_size=batch_size,                                    \n",
    "                                    class_mode='categorical',\n",
    "                                    shuffle=False)"
   ]
  },
  {
   "cell_type": "code",
   "execution_count": 6,
   "metadata": {},
   "outputs": [],
   "source": [
    "vgg19_base_model = VGG19(weights='imagenet', include_top=False,input_shape=(224,224,3))\n",
    "\n",
    "x = vgg19_base_model.output\n",
    "x = Flatten()(x)\n",
    "x = Dense(256, activation='relu')(x)\n",
    "x = BatchNormalization()(x)\n",
    "x = Dropout(0.5)(x)\n",
    "x = Dense(256, activation='relu')(x)\n",
    "x = BatchNormalization()(x)\n",
    "x = Dropout(0.5)(x)\n",
    "# x = GlobalAveragePooling2D()(x)\n",
    "x = Dense(10, activation='softmax')(x)\n",
    "\n",
    "vgg19_model = Model(inputs=vgg19_base_model.input, outputs=x)"
   ]
  },
  {
   "cell_type": "code",
   "execution_count": 7,
   "metadata": {},
   "outputs": [
    {
     "name": "stdout",
     "output_type": "stream",
     "text": [
      "0 input_1 False\n",
      "1 block1_conv1 False\n",
      "2 block1_conv2 False\n",
      "3 block1_pool False\n",
      "4 block2_conv1 False\n",
      "5 block2_conv2 False\n",
      "6 block2_pool False\n",
      "7 block3_conv1 False\n",
      "8 block3_conv2 False\n",
      "9 block3_conv3 False\n",
      "10 block3_conv4 False\n",
      "11 block3_pool False\n",
      "12 block4_conv1 False\n",
      "13 block4_conv2 False\n",
      "14 block4_conv3 False\n",
      "15 block4_conv4 False\n",
      "16 block4_pool False\n",
      "17 block5_conv1 False\n",
      "18 block5_conv2 False\n",
      "19 block5_conv3 False\n",
      "20 block5_conv4 False\n",
      "21 block5_pool False\n",
      "22 flatten_1 True\n",
      "23 dense_1 True\n",
      "24 batch_normalization_1 True\n",
      "25 dropout_1 True\n",
      "26 dense_2 True\n",
      "27 batch_normalization_2 True\n",
      "28 dropout_2 True\n",
      "29 dense_3 True\n"
     ]
    }
   ],
   "source": [
    "for layer in vgg19_model.layers[:22]:\n",
    "    layer.trainable = False\n",
    "\n",
    "for i,layer in enumerate(vgg19_model.layers):\n",
    "    print(i,layer.name,layer.trainable)"
   ]
  },
  {
   "cell_type": "code",
   "execution_count": 8,
   "metadata": {},
   "outputs": [
    {
     "name": "stdout",
     "output_type": "stream",
     "text": [
      "Epoch 1/15\n",
      "156/156 [==============================] - 364s 2s/step - loss: 1.9199 - acc: 0.4101 - val_loss: 0.8077 - val_acc: 0.7587\n",
      "Epoch 2/15\n",
      "156/156 [==============================] - 365s 2s/step - loss: 0.7998 - acc: 0.7298 - val_loss: 0.7830 - val_acc: 0.7483\n",
      "Epoch 3/15\n",
      "156/156 [==============================] - 356s 2s/step - loss: 0.5281 - acc: 0.8238 - val_loss: 1.0336 - val_acc: 0.7491\n",
      "Epoch 4/15\n",
      "156/156 [==============================] - 360s 2s/step - loss: 0.4223 - acc: 0.8626 - val_loss: 0.9641 - val_acc: 0.7374\n",
      "Epoch 5/15\n",
      "156/156 [==============================] - 352s 2s/step - loss: 0.3727 - acc: 0.8786 - val_loss: 0.7610 - val_acc: 0.7744\n",
      "Epoch 6/15\n",
      "156/156 [==============================] - 355s 2s/step - loss: 0.3246 - acc: 0.8914 - val_loss: 1.2188 - val_acc: 0.6964\n",
      "Epoch 7/15\n",
      "156/156 [==============================] - 352s 2s/step - loss: 0.2987 - acc: 0.9033 - val_loss: 1.3576 - val_acc: 0.6877\n",
      "Epoch 8/15\n",
      "156/156 [==============================] - 353s 2s/step - loss: 0.2851 - acc: 0.9072 - val_loss: 1.1347 - val_acc: 0.7217\n"
     ]
    }
   ],
   "source": [
    "vgg19_model.compile(loss='categorical_crossentropy',\n",
    "                    optimizer=optimizers.Adam(lr=1e-3),\n",
    "                    metrics=['accuracy'])\n",
    "\n",
    "# fine-tune the model\n",
    "vgg19_model.fit_generator(\n",
    "                        train_generator,\n",
    "                        steps_per_epoch=nb_train_samples // batch_size,\n",
    "                        epochs=15,\n",
    "                        validation_data=validation_generator,\n",
    "                        validation_steps=nb_val_samples // batch_size,\n",
    "                        callbacks=[EarlyStopping(patience=3)])\n",
    "\n",
    "vgg19_model.save('vgg19_model_fc.h5')"
   ]
  },
  {
   "cell_type": "code",
   "execution_count": 9,
   "metadata": {},
   "outputs": [
    {
     "name": "stdout",
     "output_type": "stream",
     "text": [
      "Epoch 1/10\n",
      "156/156 [==============================] - 362s 2s/step - loss: 0.2479 - acc: 0.9216 - val_loss: 0.9352 - val_acc: 0.7422\n",
      "Epoch 2/10\n",
      "156/156 [==============================] - 357s 2s/step - loss: 0.2234 - acc: 0.9276 - val_loss: 1.0709 - val_acc: 0.7326\n",
      "Epoch 3/10\n",
      "156/156 [==============================] - 359s 2s/step - loss: 0.2188 - acc: 0.9319 - val_loss: 1.2819 - val_acc: 0.7156\n",
      "Epoch 4/10\n",
      "156/156 [==============================] - 359s 2s/step - loss: 0.2128 - acc: 0.9318 - val_loss: 0.9250 - val_acc: 0.7609\n",
      "Epoch 5/10\n",
      "156/156 [==============================] - 362s 2s/step - loss: 0.1984 - acc: 0.9361 - val_loss: 1.1876 - val_acc: 0.7156\n",
      "Epoch 6/10\n",
      "156/156 [==============================] - 355s 2s/step - loss: 0.1819 - acc: 0.9407 - val_loss: 1.2859 - val_acc: 0.6747\n",
      "Epoch 7/10\n",
      "156/156 [==============================] - 355s 2s/step - loss: 0.1811 - acc: 0.9402 - val_loss: 1.1803 - val_acc: 0.7099\n"
     ]
    },
    {
     "data": {
      "text/plain": [
       "<keras.callbacks.History at 0x7f02e503c6d8>"
      ]
     },
     "execution_count": 9,
     "metadata": {},
     "output_type": "execute_result"
    }
   ],
   "source": [
    "vgg19_model.compile(loss='categorical_crossentropy',\n",
    "                    optimizer=optimizers.Adam(lr=5e-4),\n",
    "#                     optimizer=Adadelta(),\n",
    "                    metrics=['accuracy'])\n",
    "\n",
    "# fine-tune the model\n",
    "vgg19_model.fit_generator(\n",
    "                        train_generator,\n",
    "                        steps_per_epoch=nb_train_samples // batch_size,\n",
    "                        epochs=10,\n",
    "                        validation_data=validation_generator,\n",
    "                        validation_steps=nb_val_samples // batch_size,\n",
    "                        callbacks=[EarlyStopping(patience=3)])"
   ]
  },
  {
   "cell_type": "code",
   "execution_count": 10,
   "metadata": {},
   "outputs": [],
   "source": [
    "vgg19_model.save('vgg19_model_fc.h5')"
   ]
  },
  {
   "cell_type": "code",
   "execution_count": 13,
   "metadata": {},
   "outputs": [
    {
     "name": "stdout",
     "output_type": "stream",
     "text": [
      "Epoch 1/20\n",
      "156/156 [==============================] - 360s 2s/step - loss: 0.1891 - acc: 0.9400 - val_loss: 1.4136 - val_acc: 0.6272\n",
      "Epoch 2/20\n",
      "156/156 [==============================] - 352s 2s/step - loss: 0.0903 - acc: 0.9742 - val_loss: 0.8841 - val_acc: 0.8515\n",
      "Epoch 3/20\n",
      "156/156 [==============================] - 359s 2s/step - loss: 0.0558 - acc: 0.9836 - val_loss: 0.9470 - val_acc: 0.8389\n",
      "Epoch 4/20\n",
      "156/156 [==============================] - 357s 2s/step - loss: 0.0394 - acc: 0.9884 - val_loss: 0.6840 - val_acc: 0.8402\n",
      "Epoch 5/20\n",
      "156/156 [==============================] - 354s 2s/step - loss: 0.0348 - acc: 0.9900 - val_loss: 0.6166 - val_acc: 0.8558\n",
      "Epoch 6/20\n",
      "156/156 [==============================] - 358s 2s/step - loss: 0.0246 - acc: 0.9934 - val_loss: 1.0433 - val_acc: 0.7334\n",
      "Epoch 7/20\n",
      "156/156 [==============================] - 360s 2s/step - loss: 0.0277 - acc: 0.9919 - val_loss: 0.8055 - val_acc: 0.8179\n",
      "Epoch 8/20\n",
      "156/156 [==============================] - 362s 2s/step - loss: 0.0230 - acc: 0.9936 - val_loss: 0.7882 - val_acc: 0.8567\n"
     ]
    }
   ],
   "source": [
    "vgg19_model = load_model('vgg19_model_fc.h5')\n",
    "\n",
    "for layer in vgg19_model.layers[:17]:\n",
    "    layer.trainable = False\n",
    "    \n",
    "for layer in vgg19_model.layers[17:]:\n",
    "    layer.trainable = True\n",
    "    \n",
    "vgg19_model.compile(loss='categorical_crossentropy',\n",
    "                    optimizer=optimizers.Adam(lr=1e-4),\n",
    "                    metrics=['accuracy'])  \n",
    "\n",
    "vgg19_model.fit_generator(\n",
    "                        train_generator,\n",
    "                        steps_per_epoch=nb_train_samples // batch_size,\n",
    "                        epochs=20,\n",
    "                        validation_data=validation_generator,\n",
    "                        validation_steps=nb_val_samples // batch_size,\n",
    "                        callbacks=[TensorBoard(log_dir='./logs/vgg19_fine_tune'),\n",
    "                                   CSVLogger('vgg19_fine_tune'), #])\n",
    "                                   EarlyStopping(patience=3)])\n",
    "\n",
    "vgg19_model.save('vgg19_model_17.h5')"
   ]
  },
  {
   "cell_type": "code",
   "execution_count": 14,
   "metadata": {},
   "outputs": [
    {
     "name": "stdout",
     "output_type": "stream",
     "text": [
      "Epoch 1/20\n",
      "156/156 [==============================] - 377s 2s/step - loss: 0.0783 - acc: 0.9741 - val_loss: 1.0680 - val_acc: 0.8255\n",
      "Epoch 2/20\n",
      "156/156 [==============================] - 371s 2s/step - loss: 0.0517 - acc: 0.9840 - val_loss: 0.5333 - val_acc: 0.9164\n",
      "Epoch 3/20\n",
      "156/156 [==============================] - 371s 2s/step - loss: 0.0307 - acc: 0.9916 - val_loss: 1.1854 - val_acc: 0.8310\n",
      "Epoch 4/20\n",
      "156/156 [==============================] - 372s 2s/step - loss: 0.0397 - acc: 0.9885 - val_loss: 0.7603 - val_acc: 0.8663\n"
     ]
    }
   ],
   "source": [
    "vgg19_model = load_model('vgg19_model_17.h5')\n",
    "\n",
    "for layer in vgg19_model.layers[:12]:\n",
    "    layer.trainable = False\n",
    "    \n",
    "for layer in vgg19_model.layers[12:]:\n",
    "    layer.trainable = True\n",
    "    \n",
    "vgg19_model.compile(loss='categorical_crossentropy',\n",
    "                    optimizer=optimizers.Adam(lr=1e-4),\n",
    "                    metrics=['accuracy'])  \n",
    "\n",
    "vgg19_model.fit_generator(\n",
    "                        train_generator,\n",
    "                        steps_per_epoch=nb_train_samples // batch_size,\n",
    "                        epochs=20,\n",
    "                        validation_data=validation_generator,\n",
    "                        validation_steps=nb_val_samples // batch_size,\n",
    "                        callbacks=[TensorBoard(log_dir='./logs/vgg19_fine_tune'),\n",
    "                                   CSVLogger('vgg19_fine_tune'), #])\n",
    "                                   EarlyStopping(patience=2)])\n",
    "\n",
    "vgg19_model.save('vgg19_model_12.h5')"
   ]
  },
  {
   "cell_type": "code",
   "execution_count": 15,
   "metadata": {},
   "outputs": [
    {
     "name": "stdout",
     "output_type": "stream",
     "text": [
      "Epoch 1/20\n",
      "156/156 [==============================] - 501s 3s/step - loss: 0.0244 - acc: 0.9931 - val_loss: 0.5036 - val_acc: 0.8971\n",
      "Epoch 2/20\n",
      "156/156 [==============================] - 494s 3s/step - loss: 0.0234 - acc: 0.9931 - val_loss: 0.4291 - val_acc: 0.8876\n",
      "Epoch 3/20\n",
      "156/156 [==============================] - 494s 3s/step - loss: 0.0221 - acc: 0.9937 - val_loss: 0.4307 - val_acc: 0.9085\n",
      "Epoch 4/20\n",
      "156/156 [==============================] - 494s 3s/step - loss: 0.0138 - acc: 0.9962 - val_loss: 0.6014 - val_acc: 0.8863\n",
      "Epoch 5/20\n",
      "156/156 [==============================] - 493s 3s/step - loss: 0.0151 - acc: 0.9957 - val_loss: 0.7536 - val_acc: 0.8741\n"
     ]
    }
   ],
   "source": [
    "vgg19_model = load_model('vgg19_model_12.h5')\n",
    "\n",
    "for layer in vgg19_model.layers[:7]:\n",
    "    layer.trainable = False\n",
    "    \n",
    "for layer in vgg19_model.layers[7:]:\n",
    "    layer.trainable = True\n",
    "    \n",
    "vgg19_model.compile(loss='categorical_crossentropy',\n",
    "                     optimizer=optimizers.Adam(lr=5e-5),\n",
    "                    metrics=['accuracy'])  \n",
    "\n",
    "vgg19_model.fit_generator(\n",
    "                        train_generator,\n",
    "                        steps_per_epoch=nb_train_samples // batch_size,\n",
    "                        epochs=20,\n",
    "                        validation_data=validation_generator,\n",
    "                        validation_steps=nb_val_samples // batch_size,\n",
    "                        callbacks=[TensorBoard(log_dir='./logs/vgg19_fine_tune'),\n",
    "                                   CSVLogger('vgg19_fine_tune'),\n",
    "                                    EarlyStopping(patience=3)])\n",
    "\n",
    "vgg19_model.save('vgg19_model_7.h5')"
   ]
  },
  {
   "cell_type": "code",
   "execution_count": 6,
   "metadata": {},
   "outputs": [],
   "source": [
    "# vgg19_model = load_model('vgg19_model_7.h5')\n",
    "\n",
    "    \n",
    "# vgg19_model.compile(loss='categorical_crossentropy',\n",
    "#                      optimizer=optimizers.Adam(lr=1e-5),\n",
    "#                     metrics=['accuracy'])  \n",
    "\n",
    "# vgg19_model.fit_generator(\n",
    "#                         train_generator,\n",
    "#                         steps_per_epoch=nb_train_samples // batch_size,\n",
    "#                         epochs=20,\n",
    "#                         validation_data=validation_generator,\n",
    "#                         validation_steps=nb_val_samples // batch_size,\n",
    "#                         callbacks=[TensorBoard(log_dir='./logs/vgg19_fine_tune'),\n",
    "#                                    CSVLogger('vgg19_fine_tune'),\n",
    "#                                     EarlyStopping(patience=3)])\n"
   ]
  },
  {
   "cell_type": "code",
   "execution_count": 7,
   "metadata": {},
   "outputs": [
    {
     "name": "stdout",
     "output_type": "stream",
     "text": [
      "Epoch 1/20\n",
      "156/156 [==============================] - 494s 3s/step - loss: 0.0209 - acc: 0.9939 - val_loss: 0.3549 - val_acc: 0.9236\n",
      "Epoch 2/20\n",
      "156/156 [==============================] - 325s 2s/step - loss: 0.0122 - acc: 0.9964 - val_loss: 0.8674 - val_acc: 0.8105\n",
      "Epoch 3/20\n",
      "156/156 [==============================] - 322s 2s/step - loss: 0.0121 - acc: 0.9966 - val_loss: 0.5248 - val_acc: 0.8942\n",
      "Epoch 4/20\n",
      "156/156 [==============================] - 321s 2s/step - loss: 0.0125 - acc: 0.9966 - val_loss: 0.7803 - val_acc: 0.8519\n"
     ]
    }
   ],
   "source": [
    "vgg19_model = load_model('vgg19_model_7.h5')\n",
    "\n",
    "for layer in vgg19_model.layers[:4]:\n",
    "    layer.trainable = False\n",
    "    \n",
    "for layer in vgg19_model.layers[4:]:\n",
    "    layer.trainable = True\n",
    "    \n",
    "vgg19_model.compile(loss='categorical_crossentropy',\n",
    "                     optimizer=optimizers.Adam(lr=5e-5),\n",
    "                    metrics=['accuracy'])  \n",
    "\n",
    "vgg19_model.fit_generator(\n",
    "                        train_generator,\n",
    "                        steps_per_epoch=nb_train_samples // batch_size,\n",
    "                        epochs=20,\n",
    "                        validation_data=validation_generator,\n",
    "                        validation_steps=nb_val_samples // batch_size,\n",
    "                        callbacks=[TensorBoard(log_dir='./logs/vgg19_fine_tune'),\n",
    "                                   CSVLogger('vgg19_fine_tune'),\n",
    "                                    EarlyStopping(patience=3)])\n",
    "\n",
    "vgg19_model.save('vgg19_model_4.h5')"
   ]
  },
  {
   "cell_type": "code",
   "execution_count": 8,
   "metadata": {},
   "outputs": [
    {
     "name": "stdout",
     "output_type": "stream",
     "text": [
      "Epoch 1/20\n",
      "156/156 [==============================] - 320s 2s/step - loss: 0.0048 - acc: 0.9988 - val_loss: 0.4295 - val_acc: 0.9219\n",
      "Epoch 2/20\n",
      "156/156 [==============================] - 326s 2s/step - loss: 0.0034 - acc: 0.9993 - val_loss: 0.4328 - val_acc: 0.9177\n",
      "Epoch 3/20\n",
      "156/156 [==============================] - 325s 2s/step - loss: 0.0024 - acc: 0.9995 - val_loss: 0.5127 - val_acc: 0.9081\n",
      "Epoch 4/20\n",
      "156/156 [==============================] - 322s 2s/step - loss: 0.0017 - acc: 0.9997 - val_loss: 0.5438 - val_acc: 0.9024\n"
     ]
    },
    {
     "data": {
      "text/plain": [
       "<keras.callbacks.History at 0x7fb6781e7eb8>"
      ]
     },
     "execution_count": 8,
     "metadata": {},
     "output_type": "execute_result"
    }
   ],
   "source": [
    "vgg19_model = load_model('vgg19_model_4.h5')\n",
    "\n",
    "for layer in vgg19_model.layers:\n",
    "    layer.trainable = True\n",
    "    \n",
    "vgg19_model.compile(loss='categorical_crossentropy',\n",
    "                     optimizer=optimizers.Adam(lr=1e-5),\n",
    "                    metrics=['accuracy'])  \n",
    "\n",
    "vgg19_model.fit_generator(\n",
    "                        train_generator,\n",
    "                        steps_per_epoch=nb_train_samples // batch_size,\n",
    "                        epochs=20,\n",
    "                        validation_data=validation_generator,\n",
    "                        validation_steps=nb_val_samples // batch_size,\n",
    "                        callbacks=[TensorBoard(log_dir='./logs/vgg19_fine_tune'),\n",
    "                                   CSVLogger('vgg19_fine_tune'),\n",
    "                                    EarlyStopping(patience=3)])\n",
    "\n",
    "#vgg19_model.save('vgg19_model_all.h5')"
   ]
  },
  {
   "cell_type": "code",
   "execution_count": 9,
   "metadata": {},
   "outputs": [],
   "source": [
    "vgg19_model.save('vgg19_model_all.h5')"
   ]
  },
  {
   "cell_type": "code",
   "execution_count": 10,
   "metadata": {},
   "outputs": [
    {
     "name": "stdout",
     "output_type": "stream",
     "text": [
      "Epoch 1/20\n",
      "156/156 [==============================] - 321s 2s/step - loss: 0.0018 - acc: 0.9996 - val_loss: 0.3753 - val_acc: 0.9262\n",
      "Epoch 2/20\n",
      "156/156 [==============================] - 326s 2s/step - loss: 0.0011 - acc: 0.9998 - val_loss: 0.3590 - val_acc: 0.9290\n",
      "Epoch 3/20\n",
      "156/156 [==============================] - 324s 2s/step - loss: 8.0702e-04 - acc: 0.9999 - val_loss: 0.4528 - val_acc: 0.9142\n",
      "Epoch 4/20\n",
      "156/156 [==============================] - 321s 2s/step - loss: 0.0010 - acc: 0.9999 - val_loss: 0.5394 - val_acc: 0.8920\n",
      "Epoch 5/20\n",
      "156/156 [==============================] - 321s 2s/step - loss: 0.0010 - acc: 0.9998 - val_loss: 0.4811 - val_acc: 0.9011\n",
      "Epoch 6/20\n",
      "156/156 [==============================] - 322s 2s/step - loss: 0.0012 - acc: 0.9997 - val_loss: 0.4944 - val_acc: 0.8959\n",
      "Epoch 7/20\n",
      "156/156 [==============================] - 316s 2s/step - loss: 8.2019e-04 - acc: 0.9999 - val_loss: 0.5197 - val_acc: 0.8937\n"
     ]
    },
    {
     "data": {
      "text/plain": [
       "<keras.callbacks.History at 0x7fb6743485f8>"
      ]
     },
     "execution_count": 10,
     "metadata": {},
     "output_type": "execute_result"
    }
   ],
   "source": [
    "vgg19_model.compile(loss='categorical_crossentropy',\n",
    "                     optimizer=optimizers.Adam(lr=5e-6),\n",
    "                    metrics=['accuracy'])  \n",
    "\n",
    "vgg19_model.fit_generator(\n",
    "                        train_generator,\n",
    "                        steps_per_epoch=nb_train_samples // batch_size,\n",
    "                        epochs=20,\n",
    "                        validation_data=validation_generator,\n",
    "                        validation_steps=nb_val_samples // batch_size,\n",
    "                        callbacks=[TensorBoard(log_dir='./logs/vgg19_fine_tune'),\n",
    "                                   CSVLogger('vgg19_fine_tune'),\n",
    "                                    EarlyStopping(patience=5)])"
   ]
  },
  {
   "cell_type": "code",
   "execution_count": 11,
   "metadata": {},
   "outputs": [],
   "source": [
    "vgg19_model.save('vgg19_final_model.h5')"
   ]
  },
  {
   "cell_type": "code",
   "execution_count": 12,
   "metadata": {},
   "outputs": [],
   "source": [
    "vgg19_model = load_model('vgg19_final_model.h5')\n",
    "\n",
    "test_model(vgg19_model,test_path,csv='vgg19_submission_0430.csv')"
   ]
  },
  {
   "cell_type": "code",
   "execution_count": null,
   "metadata": {},
   "outputs": [],
   "source": []
  }
 ],
 "metadata": {
  "kernelspec": {
   "display_name": "Python [conda env:tensorflow_p36]",
   "language": "python",
   "name": "conda-env-tensorflow_p36-py"
  },
  "language_info": {
   "codemirror_mode": {
    "name": "ipython",
    "version": 3
   },
   "file_extension": ".py",
   "mimetype": "text/x-python",
   "name": "python",
   "nbconvert_exporter": "python",
   "pygments_lexer": "ipython3",
   "version": "3.6.4"
  }
 },
 "nbformat": 4,
 "nbformat_minor": 2
}
