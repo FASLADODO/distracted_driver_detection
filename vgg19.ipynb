{
 "cells": [
  {
   "cell_type": "code",
   "execution_count": 1,
   "metadata": {},
   "outputs": [
    {
     "name": "stderr",
     "output_type": "stream",
     "text": [
      "/home/ubuntu/anaconda3/envs/tensorflow_p36/lib/python3.6/site-packages/h5py/__init__.py:36: FutureWarning: Conversion of the second argument of issubdtype from `float` to `np.floating` is deprecated. In future, it will be treated as `np.float64 == np.dtype(float).type`.\n",
      "  from ._conv import register_converters as _register_converters\n",
      "Using TensorFlow backend.\n",
      "/home/ubuntu/anaconda3/envs/tensorflow_p36/lib/python3.6/site-packages/matplotlib/__init__.py:962: UserWarning: Duplicate key in file \"/home/ubuntu/.config/matplotlib/matplotlibrc\", line #2\n",
      "  (fname, cnt))\n",
      "/home/ubuntu/anaconda3/envs/tensorflow_p36/lib/python3.6/site-packages/matplotlib/__init__.py:962: UserWarning: Duplicate key in file \"/home/ubuntu/.config/matplotlib/matplotlibrc\", line #3\n",
      "  (fname, cnt))\n"
     ]
    }
   ],
   "source": [
    "from keras.models import *\n",
    "from keras.layers import *\n",
    "from keras.optimizers import RMSprop,SGD,Adadelta,Adam\n",
    "from keras.preprocessing import image\n",
    "from keras.callbacks import TensorBoard,History,EarlyStopping,CSVLogger\n",
    "from keras.applications.vgg19 import VGG19,preprocess_input\n",
    "from sklearn.utils import shuffle\n",
    "import numpy as np\n",
    "import pandas as pd\n",
    "import h5py\n",
    "import os"
   ]
  },
  {
   "cell_type": "code",
   "execution_count": 2,
   "metadata": {},
   "outputs": [],
   "source": [
    "train_path = './train'\n",
    "validation_path = './validation'\n",
    "test_path = './test'\n",
    "assert(os.path.exists(train_path))\n",
    "assert(os.path.exists(validation_path))\n",
    "assert(os.path.exists(test_path))\n",
    "\n",
    "\n",
    "nb_train_samples = 20000\n",
    "nb_val_samples = 2424\n",
    "image_size = (224,224)\n",
    "batch_size = 128\n",
    "class_num = 10"
   ]
  },
  {
   "cell_type": "code",
   "execution_count": 3,
   "metadata": {},
   "outputs": [],
   "source": [
    "def image_preprocess(img_path):\n",
    "\n",
    "    img = image.load_img(img_path, target_size=(224, 224))\n",
    "    img = image.img_to_array(img)\n",
    "    img = np.expand_dims(img, axis=0)\n",
    "    img = preprocess_input(img)\n",
    "    \n",
    "    return img"
   ]
  },
  {
   "cell_type": "code",
   "execution_count": 4,
   "metadata": {},
   "outputs": [],
   "source": [
    "def test_model(model,test_path,csv='sample_submission.csv'):\n",
    "    columns = ['img', 'c0', 'c1', 'c2', 'c3', 'c4', 'c5', 'c6', 'c7', 'c8', 'c9']\n",
    "    df = pd.DataFrame(columns=columns)\n",
    "    \n",
    "    file_list = os.listdir(test_path)\n",
    "    for i,file in enumerate(file_list):\n",
    "        test_data = image_preprocess(test_path + '/' + file)\n",
    "        y_pred = model.predict(test_data,batch_size=1,verbose=0)\n",
    "        y_pred = np.clip(y_pred,0.001,0.999)\n",
    "        y_pred = y_pred[0].tolist()\n",
    "        df.loc[i] = [file] + y_pred\n",
    "        \n",
    "    df.to_csv(csv,index=None)"
   ]
  },
  {
   "cell_type": "code",
   "execution_count": 3,
   "metadata": {},
   "outputs": [
    {
     "name": "stdout",
     "output_type": "stream",
     "text": [
      "Found 20000 images belonging to 10 classes.\n",
      "Found 2424 images belonging to 10 classes.\n"
     ]
    }
   ],
   "source": [
    "train_datagen = image.ImageDataGenerator(\n",
    "                                         shear_range=0.15,\n",
    "                                         rotation_range=15,\n",
    "                                         height_shift_range=0.15,\n",
    "                                         width_shift_range=0.15,\n",
    "                                         channel_shift_range=10,\n",
    "                                         preprocessing_function=preprocess_input,\n",
    "                                         horizontal_flip=True)\n",
    "\n",
    "validation_datagen = image.ImageDataGenerator(preprocessing_function=preprocess_input)\n",
    "\n",
    "\n",
    "train_generator = train_datagen.flow_from_directory(\n",
    "                                    train_path,\n",
    "                                    target_size=image_size,\n",
    "                                    batch_size=batch_size,\n",
    "                                    class_mode='categorical',\n",
    "                                    shuffle=True)\n",
    "\n",
    "validation_generator = validation_datagen.flow_from_directory(\n",
    "                                    validation_path,\n",
    "                                    target_size=image_size,\n",
    "                                    batch_size=batch_size,                                    \n",
    "                                    class_mode='categorical',\n",
    "                                    shuffle=False)"
   ]
  },
  {
   "cell_type": "code",
   "execution_count": 5,
   "metadata": {},
   "outputs": [],
   "source": [
    "vgg19_base_model = VGG19(weights='imagenet', include_top=False,input_shape=(224,224,3))\n",
    "\n",
    "x = vgg19_base_model.output\n",
    "x = Flatten()(x)\n",
    "x = Dense(256, activation='relu')(x)\n",
    "x = BatchNormalization()(x)\n",
    "x = Dropout(0.5)(x)\n",
    "x = Dense(256, activation='relu')(x)\n",
    "x = BatchNormalization()(x)\n",
    "x = Dropout(0.5)(x)\n",
    "# x = GlobalAveragePooling2D()(x)\n",
    "x = Dense(10, activation='softmax')(x)\n",
    "\n",
    "vgg19_model = Model(inputs=vgg19_base_model.input, outputs=x)"
   ]
  },
  {
   "cell_type": "code",
   "execution_count": 6,
   "metadata": {},
   "outputs": [
    {
     "name": "stdout",
     "output_type": "stream",
     "text": [
      "0 input_2 False\n",
      "1 block1_conv1 False\n",
      "2 block1_conv2 False\n",
      "3 block1_pool False\n",
      "4 block2_conv1 False\n",
      "5 block2_conv2 False\n",
      "6 block2_pool False\n",
      "7 block3_conv1 False\n",
      "8 block3_conv2 False\n",
      "9 block3_conv3 False\n",
      "10 block3_conv4 False\n",
      "11 block3_pool False\n",
      "12 block4_conv1 False\n",
      "13 block4_conv2 False\n",
      "14 block4_conv3 False\n",
      "15 block4_conv4 False\n",
      "16 block4_pool False\n",
      "17 block5_conv1 False\n",
      "18 block5_conv2 False\n",
      "19 block5_conv3 False\n",
      "20 block5_conv4 False\n",
      "21 block5_pool False\n",
      "22 flatten_2 True\n",
      "23 dense_4 True\n",
      "24 batch_normalization_3 True\n",
      "25 dropout_3 True\n",
      "26 dense_5 True\n",
      "27 batch_normalization_4 True\n",
      "28 dropout_4 True\n",
      "29 dense_6 True\n"
     ]
    }
   ],
   "source": [
    "for layer in vgg19_model.layers[:22]:\n",
    "    layer.trainable = False\n",
    "\n",
    "for i,layer in enumerate(vgg19_model.layers):\n",
    "    print(i,layer.name,layer.trainable)"
   ]
  },
  {
   "cell_type": "code",
   "execution_count": 7,
   "metadata": {},
   "outputs": [
    {
     "name": "stdout",
     "output_type": "stream",
     "text": [
      "Epoch 1/20\n",
      "156/156 [==============================] - 636s 4s/step - loss: 1.4598 - acc: 0.5405 - val_loss: 0.8229 - val_acc: 0.7609\n",
      "Epoch 2/20\n",
      "156/156 [==============================] - 362s 2s/step - loss: 0.5769 - acc: 0.8100 - val_loss: 0.9650 - val_acc: 0.7456\n",
      "Epoch 3/20\n",
      "156/156 [==============================] - 350s 2s/step - loss: 0.3924 - acc: 0.8728 - val_loss: 0.9505 - val_acc: 0.7831\n",
      "Epoch 4/20\n",
      "156/156 [==============================] - 353s 2s/step - loss: 0.3283 - acc: 0.8937 - val_loss: 1.0995 - val_acc: 0.7530\n"
     ]
    }
   ],
   "source": [
    "vgg19_model.compile(loss='categorical_crossentropy',\n",
    "                    #optimizer=optimizers.SGD(lr=1e-3, momentum=0.9) #,decay=1e-6,nesterov=True),\n",
    "                    #optimizer=optimizers.Adam(lr=1e-3),\n",
    "                    optimizer=Adadelta(),\n",
    "                    metrics=['accuracy'])\n",
    "\n",
    "# fine-tune the model\n",
    "vgg19_model.fit_generator(\n",
    "                        train_generator,\n",
    "                        steps_per_epoch=nb_train_samples // batch_size,\n",
    "                        epochs=20,\n",
    "                        validation_data=validation_generator,\n",
    "                        validation_steps=nb_val_samples // batch_size,\n",
    "                        callbacks=[EarlyStopping(patience=3)])\n",
    "\n",
    "vgg19_model.save('vgg19_model_fc.h5')"
   ]
  },
  {
   "cell_type": "code",
   "execution_count": 9,
   "metadata": {},
   "outputs": [
    {
     "name": "stdout",
     "output_type": "stream",
     "text": [
      "Epoch 1/10\n",
      "156/156 [==============================] - 357s 2s/step - loss: 0.2938 - acc: 0.9062 - val_loss: 0.8892 - val_acc: 0.7778\n",
      "Epoch 2/10\n",
      "156/156 [==============================] - 352s 2s/step - loss: 0.2842 - acc: 0.9080 - val_loss: 0.8978 - val_acc: 0.7652\n",
      "Epoch 3/10\n",
      "156/156 [==============================] - 351s 2s/step - loss: 0.2812 - acc: 0.9083 - val_loss: 0.9824 - val_acc: 0.7561\n",
      "Epoch 4/10\n",
      "156/156 [==============================] - 350s 2s/step - loss: 0.2875 - acc: 0.9059 - val_loss: 1.0097 - val_acc: 0.7578\n",
      "Epoch 5/10\n",
      "156/156 [==============================] - 349s 2s/step - loss: 0.2718 - acc: 0.9102 - val_loss: 1.0898 - val_acc: 0.7374\n",
      "Epoch 6/10\n",
      "156/156 [==============================] - 349s 2s/step - loss: 0.2688 - acc: 0.9134 - val_loss: 1.0991 - val_acc: 0.7361\n"
     ]
    },
    {
     "data": {
      "text/plain": [
       "<keras.callbacks.History at 0x7f05a9af2f28>"
      ]
     },
     "execution_count": 9,
     "metadata": {},
     "output_type": "execute_result"
    }
   ],
   "source": [
    "vgg19_model.compile(loss='categorical_crossentropy',\n",
    "                    optimizer=optimizers.SGD(lr=1e-4, momentum=0.9), #,decay=1e-6,nesterov=True),\n",
    "                    #optimizer=optimizers.Adam(lr=1e-3),\n",
    "#                     optimizer=Adadelta(),\n",
    "                    metrics=['accuracy'])\n",
    "\n",
    "# fine-tune the model\n",
    "vgg19_model.fit_generator(\n",
    "                        train_generator,\n",
    "                        steps_per_epoch=nb_train_samples // batch_size,\n",
    "                        epochs=10,\n",
    "                        validation_data=validation_generator,\n",
    "                        validation_steps=nb_val_samples // batch_size,\n",
    "                        callbacks=[EarlyStopping(patience=5)])"
   ]
  },
  {
   "cell_type": "code",
   "execution_count": 10,
   "metadata": {},
   "outputs": [],
   "source": [
    "vgg19_model.save('vgg19_model_fc.h5')"
   ]
  },
  {
   "cell_type": "code",
   "execution_count": 11,
   "metadata": {},
   "outputs": [
    {
     "name": "stdout",
     "output_type": "stream",
     "text": [
      "Epoch 1/50\n",
      "156/156 [==============================] - 356s 2s/step - loss: 0.2189 - acc: 0.9318 - val_loss: 0.8412 - val_acc: 0.7769\n",
      "Epoch 2/50\n",
      "156/156 [==============================] - 350s 2s/step - loss: 0.1687 - acc: 0.9474 - val_loss: 0.7594 - val_acc: 0.7953\n",
      "Epoch 3/50\n",
      "156/156 [==============================] - 352s 2s/step - loss: 0.1403 - acc: 0.9559 - val_loss: 0.8393 - val_acc: 0.7805\n",
      "Epoch 4/50\n",
      "156/156 [==============================] - 353s 2s/step - loss: 0.1288 - acc: 0.9604 - val_loss: 0.7981 - val_acc: 0.7962\n",
      "Epoch 5/50\n",
      "156/156 [==============================] - 350s 2s/step - loss: 0.1235 - acc: 0.9634 - val_loss: 0.8200 - val_acc: 0.7805\n",
      "Epoch 6/50\n",
      "156/156 [==============================] - 351s 2s/step - loss: 0.1128 - acc: 0.9662 - val_loss: 0.7907 - val_acc: 0.7905\n",
      "Epoch 7/50\n",
      "156/156 [==============================] - 349s 2s/step - loss: 0.1012 - acc: 0.9706 - val_loss: 0.8603 - val_acc: 0.7814\n",
      "Epoch 8/50\n",
      "156/156 [==============================] - 350s 2s/step - loss: 0.0926 - acc: 0.9724 - val_loss: 0.8084 - val_acc: 0.7857\n",
      "Epoch 9/50\n",
      "156/156 [==============================] - 351s 2s/step - loss: 0.0909 - acc: 0.9737 - val_loss: 0.7895 - val_acc: 0.7983\n",
      "Epoch 10/50\n",
      "156/156 [==============================] - 350s 2s/step - loss: 0.0815 - acc: 0.9763 - val_loss: 0.8039 - val_acc: 0.7936\n",
      "Epoch 11/50\n",
      "156/156 [==============================] - 349s 2s/step - loss: 0.0833 - acc: 0.9774 - val_loss: 0.7739 - val_acc: 0.7853\n",
      "Epoch 12/50\n",
      "156/156 [==============================] - 347s 2s/step - loss: 0.0803 - acc: 0.9768 - val_loss: 0.7777 - val_acc: 0.7857\n"
     ]
    }
   ],
   "source": [
    "vgg19_model = load_model('vgg19_model_fc.h5')\n",
    "\n",
    "for layer in vgg19_model.layers[:17]:\n",
    "    layer.trainable = False\n",
    "    \n",
    "for layer in vgg19_model.layers[17:]:\n",
    "    layer.trainable = True\n",
    "    \n",
    "vgg19_model.compile(loss='categorical_crossentropy',\n",
    "                    optimizer=optimizers.SGD(lr=1e-4, momentum=0.9), #decay=1e-6,nesterov=True),\n",
    "#                     optimizer=optimizers.Adam(),\n",
    "                    metrics=['accuracy'])  \n",
    "\n",
    "vgg19_model.fit_generator(\n",
    "                        train_generator,\n",
    "                        steps_per_epoch=nb_train_samples // batch_size,\n",
    "                        epochs=50,\n",
    "                        validation_data=validation_generator,\n",
    "                        validation_steps=nb_val_samples // batch_size,\n",
    "                        callbacks=[TensorBoard(log_dir='./logs/vgg19_fine_tune'),\n",
    "                                   CSVLogger('vgg19_fine_tune'), #])\n",
    "                                   EarlyStopping(patience=10)])\n",
    "\n",
    "vgg19_model.save('vgg19_model_17.h5')"
   ]
  },
  {
   "cell_type": "code",
   "execution_count": 12,
   "metadata": {},
   "outputs": [
    {
     "name": "stdout",
     "output_type": "stream",
     "text": [
      "Epoch 1/50\n",
      "156/156 [==============================] - 363s 2s/step - loss: 0.0749 - acc: 0.9782 - val_loss: 0.6270 - val_acc: 0.8277\n",
      "Epoch 2/50\n",
      "156/156 [==============================] - 360s 2s/step - loss: 0.0685 - acc: 0.9805 - val_loss: 0.6549 - val_acc: 0.8184\n",
      "Epoch 3/50\n",
      "156/156 [==============================] - 359s 2s/step - loss: 0.0683 - acc: 0.9799 - val_loss: 0.6262 - val_acc: 0.8271\n",
      "Epoch 4/50\n",
      "156/156 [==============================] - 358s 2s/step - loss: 0.0568 - acc: 0.9858 - val_loss: 0.7306 - val_acc: 0.8023\n",
      "Epoch 5/50\n",
      "156/156 [==============================] - 359s 2s/step - loss: 0.0571 - acc: 0.9846 - val_loss: 0.7571 - val_acc: 0.8040\n",
      "Epoch 6/50\n",
      "156/156 [==============================] - 360s 2s/step - loss: 0.0548 - acc: 0.9844 - val_loss: 0.7404 - val_acc: 0.8031\n",
      "Epoch 7/50\n",
      "156/156 [==============================] - 360s 2s/step - loss: 0.0543 - acc: 0.9852 - val_loss: 0.7113 - val_acc: 0.8127\n",
      "Epoch 8/50\n",
      "156/156 [==============================] - 361s 2s/step - loss: 0.0545 - acc: 0.9858 - val_loss: 0.6932 - val_acc: 0.8258\n",
      "Epoch 9/50\n",
      "156/156 [==============================] - 363s 2s/step - loss: 0.0492 - acc: 0.9858 - val_loss: 0.6867 - val_acc: 0.8227\n",
      "Epoch 10/50\n",
      "156/156 [==============================] - 361s 2s/step - loss: 0.0451 - acc: 0.9879 - val_loss: 0.7555 - val_acc: 0.8040\n",
      "Epoch 11/50\n",
      "156/156 [==============================] - 362s 2s/step - loss: 0.0439 - acc: 0.9884 - val_loss: 0.6917 - val_acc: 0.8258\n",
      "Epoch 12/50\n",
      "156/156 [==============================] - 364s 2s/step - loss: 0.0410 - acc: 0.9898 - val_loss: 0.6810 - val_acc: 0.8210\n",
      "Epoch 13/50\n",
      "156/156 [==============================] - 363s 2s/step - loss: 0.0397 - acc: 0.9902 - val_loss: 0.7926 - val_acc: 0.7892\n"
     ]
    }
   ],
   "source": [
    "vgg19_model = load_model('vgg19_model_17.h5')\n",
    "\n",
    "for layer in vgg19_model.layers[:12]:\n",
    "    layer.trainable = False\n",
    "    \n",
    "for layer in vgg19_model.layers[12:]:\n",
    "    layer.trainable = True\n",
    "    \n",
    "vgg19_model.compile(loss='categorical_crossentropy',\n",
    "                    optimizer=optimizers.SGD(lr=1e-4, momentum=0.9,decay=1e-6,nesterov=True),\n",
    "#                     optimizer=optimizers.Adam(),\n",
    "                    metrics=['accuracy'])  \n",
    "\n",
    "vgg19_model.fit_generator(\n",
    "                        train_generator,\n",
    "                        steps_per_epoch=nb_train_samples // batch_size,\n",
    "                        epochs=50,\n",
    "                        validation_data=validation_generator,\n",
    "                        validation_steps=nb_val_samples // batch_size,\n",
    "                        callbacks=[TensorBoard(log_dir='./logs/vgg19_fine_tune'),\n",
    "                                   CSVLogger('vgg19_fine_tune'), #])\n",
    "                                   EarlyStopping(patience=10)])\n",
    "\n",
    "vgg19_model.save('vgg19_model_12.h5')"
   ]
  },
  {
   "cell_type": "code",
   "execution_count": 13,
   "metadata": {},
   "outputs": [
    {
     "name": "stdout",
     "output_type": "stream",
     "text": [
      "Epoch 1/50\n",
      "156/156 [==============================] - 367s 2s/step - loss: 0.1745 - acc: 0.9467 - val_loss: 0.6323 - val_acc: 0.7938\n",
      "Epoch 2/50\n",
      "156/156 [==============================] - 369s 2s/step - loss: 0.1094 - acc: 0.9675 - val_loss: 0.5727 - val_acc: 0.8715\n",
      "Epoch 3/50\n",
      "156/156 [==============================] - 362s 2s/step - loss: 0.0475 - acc: 0.9864 - val_loss: 0.4653 - val_acc: 0.8807\n",
      "Epoch 4/50\n",
      "156/156 [==============================] - 362s 2s/step - loss: 0.0397 - acc: 0.9887 - val_loss: 0.5990 - val_acc: 0.8807\n",
      "Epoch 5/50\n",
      "156/156 [==============================] - 364s 2s/step - loss: 0.0343 - acc: 0.9909 - val_loss: 0.4945 - val_acc: 0.8663\n",
      "Epoch 6/50\n",
      "156/156 [==============================] - 363s 2s/step - loss: 0.0286 - acc: 0.9925 - val_loss: 0.5221 - val_acc: 0.8611\n",
      "Epoch 7/50\n",
      "156/156 [==============================] - 362s 2s/step - loss: 0.0206 - acc: 0.9943 - val_loss: 0.5641 - val_acc: 0.8776\n",
      "Epoch 8/50\n",
      "156/156 [==============================] - 360s 2s/step - loss: 0.0231 - acc: 0.9934 - val_loss: 0.7747 - val_acc: 0.8406\n",
      "Epoch 9/50\n",
      "156/156 [==============================] - 361s 2s/step - loss: 0.0158 - acc: 0.9956 - val_loss: 0.6848 - val_acc: 0.8519\n",
      "Epoch 10/50\n",
      "156/156 [==============================] - 364s 2s/step - loss: 0.0228 - acc: 0.9935 - val_loss: 1.0302 - val_acc: 0.7840\n",
      "Epoch 11/50\n",
      "156/156 [==============================] - 364s 2s/step - loss: 0.0207 - acc: 0.9940 - val_loss: 0.7109 - val_acc: 0.8458\n",
      "Epoch 12/50\n",
      "156/156 [==============================] - 366s 2s/step - loss: 0.0164 - acc: 0.9949 - val_loss: 0.6718 - val_acc: 0.8502\n",
      "Epoch 13/50\n",
      "156/156 [==============================] - 363s 2s/step - loss: 0.0151 - acc: 0.9957 - val_loss: 1.3725 - val_acc: 0.7670\n"
     ]
    },
    {
     "data": {
      "text/plain": [
       "<keras.callbacks.History at 0x7f05526e9fd0>"
      ]
     },
     "execution_count": 13,
     "metadata": {},
     "output_type": "execute_result"
    }
   ],
   "source": [
    "vgg19_model.compile(loss='categorical_crossentropy',\n",
    "#                     optimizer=optimizers.SGD(lr=1e-4, momentum=0.9,decay=1e-6,nesterov=True),\n",
    "                    optimizer=optimizers.Adam(lr=1e-4),\n",
    "                    metrics=['accuracy'])  \n",
    "\n",
    "vgg19_model.fit_generator(\n",
    "                        train_generator,\n",
    "                        steps_per_epoch=nb_train_samples // batch_size,\n",
    "                        epochs=50,\n",
    "                        validation_data=validation_generator,\n",
    "                        validation_steps=nb_val_samples // batch_size,\n",
    "                        callbacks=[TensorBoard(log_dir='./logs/vgg19_fine_tune'),\n",
    "                                   CSVLogger('vgg19_fine_tune'), #])\n",
    "                                   EarlyStopping(patience=10)])"
   ]
  },
  {
   "cell_type": "code",
   "execution_count": 14,
   "metadata": {},
   "outputs": [],
   "source": [
    "vgg19_model.save('vgg19_model_final.h5')"
   ]
  },
  {
   "cell_type": "code",
   "execution_count": 5,
   "metadata": {},
   "outputs": [
    {
     "name": "stdout",
     "output_type": "stream",
     "text": [
      "Epoch 1/20\n",
      "156/156 [==============================] - 373s 2s/step - loss: 0.0137 - acc: 0.9964 - val_loss: 0.5557 - val_acc: 0.8941\n",
      "Epoch 2/20\n",
      "156/156 [==============================] - 370s 2s/step - loss: 0.0127 - acc: 0.9967 - val_loss: 0.5700 - val_acc: 0.8855\n",
      "Epoch 3/20\n",
      "156/156 [==============================] - 370s 2s/step - loss: 0.0137 - acc: 0.9958 - val_loss: 0.5907 - val_acc: 0.8802\n",
      "Epoch 4/20\n",
      "156/156 [==============================] - 370s 2s/step - loss: 0.0109 - acc: 0.9967 - val_loss: 0.6367 - val_acc: 0.8776\n"
     ]
    },
    {
     "data": {
      "text/plain": [
       "<keras.callbacks.History at 0x7f78e8681fd0>"
      ]
     },
     "execution_count": 5,
     "metadata": {},
     "output_type": "execute_result"
    }
   ],
   "source": [
    "vgg19_model = load_model('vgg19_model_final.h5')\n",
    "\n",
    "for layer in vgg19_model.layers[:12]:\n",
    "    layer.trainable = False\n",
    "    \n",
    "for layer in vgg19_model.layers[12:]:\n",
    "    layer.trainable = True\n",
    "    \n",
    "vgg19_model.compile(loss='categorical_crossentropy',\n",
    "                    optimizer=optimizers.SGD(lr=1e-5, momentum=0.9),#decay=1e-6,nesterov=True),\n",
    "#                     optimizer=optimizers.Adam(),\n",
    "                    metrics=['accuracy'])  \n",
    "\n",
    "vgg19_model.fit_generator(\n",
    "                        train_generator,\n",
    "                        steps_per_epoch=nb_train_samples // batch_size,\n",
    "                        epochs=20,\n",
    "                        validation_data=validation_generator,\n",
    "                        validation_steps=nb_val_samples // batch_size,\n",
    "                        callbacks=[TensorBoard(log_dir='./logs/vgg19_fine_tune'),\n",
    "                                   CSVLogger('vgg19_fine_tune'),\n",
    "                                   EarlyStopping(patience=3)])\n"
   ]
  },
  {
   "cell_type": "code",
   "execution_count": 6,
   "metadata": {},
   "outputs": [],
   "source": [
    "vgg19_model.save('vgg19_model_final.h5')"
   ]
  },
  {
   "cell_type": "code",
   "execution_count": 5,
   "metadata": {},
   "outputs": [],
   "source": [
    "vgg19_model = load_model('vgg19_model_final.h5')\n",
    "\n",
    "test_model(vgg19_model,test_path,csv='vgg19_submission.csv')"
   ]
  },
  {
   "cell_type": "code",
   "execution_count": null,
   "metadata": {},
   "outputs": [],
   "source": []
  }
 ],
 "metadata": {
  "kernelspec": {
   "display_name": "Python [conda env:tensorflow_p36]",
   "language": "python",
   "name": "conda-env-tensorflow_p36-py"
  },
  "language_info": {
   "codemirror_mode": {
    "name": "ipython",
    "version": 3
   },
   "file_extension": ".py",
   "mimetype": "text/x-python",
   "name": "python",
   "nbconvert_exporter": "python",
   "pygments_lexer": "ipython3",
   "version": "3.6.4"
  }
 },
 "nbformat": 4,
 "nbformat_minor": 2
}
