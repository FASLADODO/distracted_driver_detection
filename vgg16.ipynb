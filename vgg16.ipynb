{
 "cells": [
  {
   "cell_type": "code",
   "execution_count": 1,
   "metadata": {},
   "outputs": [
    {
     "name": "stderr",
     "output_type": "stream",
     "text": [
      "/home/ubuntu/anaconda3/envs/tensorflow_p36/lib/python3.6/site-packages/h5py/__init__.py:36: FutureWarning: Conversion of the second argument of issubdtype from `float` to `np.floating` is deprecated. In future, it will be treated as `np.float64 == np.dtype(float).type`.\n",
      "  from ._conv import register_converters as _register_converters\n",
      "Using TensorFlow backend.\n",
      "/home/ubuntu/anaconda3/envs/tensorflow_p36/lib/python3.6/site-packages/matplotlib/__init__.py:962: UserWarning: Duplicate key in file \"/home/ubuntu/.config/matplotlib/matplotlibrc\", line #2\n",
      "  (fname, cnt))\n",
      "/home/ubuntu/anaconda3/envs/tensorflow_p36/lib/python3.6/site-packages/matplotlib/__init__.py:962: UserWarning: Duplicate key in file \"/home/ubuntu/.config/matplotlib/matplotlibrc\", line #3\n",
      "  (fname, cnt))\n"
     ]
    }
   ],
   "source": [
    "from keras.models import *\n",
    "from keras.layers import *\n",
    "from keras.optimizers import RMSprop,SGD,Adadelta,Adam\n",
    "from keras.preprocessing import image\n",
    "from keras.callbacks import TensorBoard,History,EarlyStopping,CSVLogger\n",
    "from keras.applications.vgg16 import VGG16,preprocess_input\n",
    "from sklearn.utils import shuffle\n",
    "import numpy as np\n",
    "import pandas as pd\n",
    "import h5py\n",
    "import os"
   ]
  },
  {
   "cell_type": "code",
   "execution_count": 2,
   "metadata": {},
   "outputs": [],
   "source": [
    "train_path = './train'\n",
    "validation_path = './validation'\n",
    "test_path = './test'\n",
    "assert(os.path.exists(train_path))\n",
    "assert(os.path.exists(validation_path))\n",
    "assert(os.path.exists(test_path))\n",
    "\n",
    "\n",
    "nb_train_samples = 20000\n",
    "nb_val_samples = 2424\n",
    "image_size = (224,224)\n",
    "batch_size = 128\n",
    "class_num = 10"
   ]
  },
  {
   "cell_type": "code",
   "execution_count": 3,
   "metadata": {},
   "outputs": [],
   "source": [
    "def image_preprocess(img_path):\n",
    "\n",
    "    img = image.load_img(img_path, target_size=(224, 224))\n",
    "    img = image.img_to_array(img)\n",
    "    img = np.expand_dims(img, axis=0)\n",
    "    img = preprocess_input(img)\n",
    "    \n",
    "    return img"
   ]
  },
  {
   "cell_type": "code",
   "execution_count": 4,
   "metadata": {},
   "outputs": [],
   "source": [
    "def test_model(model,test_path,csv='sample_submission.csv'):\n",
    "    columns = ['img', 'c0', 'c1', 'c2', 'c3', 'c4', 'c5', 'c6', 'c7', 'c8', 'c9']\n",
    "    df = pd.DataFrame(columns=columns)\n",
    "    \n",
    "    file_list = os.listdir(test_path)\n",
    "    for i,file in enumerate(file_list):\n",
    "        test_data = image_preprocess(test_path + '/' + file)\n",
    "        y_pred = model.predict(test_data,batch_size=1,verbose=0)\n",
    "        y_pred = np.clip(y_pred,0.001,0.999)\n",
    "        y_pred = y_pred[0].tolist()\n",
    "        df.loc[i] = [file] + y_pred\n",
    "        \n",
    "    df.to_csv(csv,index=None)"
   ]
  },
  {
   "cell_type": "code",
   "execution_count": 5,
   "metadata": {},
   "outputs": [
    {
     "name": "stdout",
     "output_type": "stream",
     "text": [
      "Found 20000 images belonging to 10 classes.\n",
      "Found 2424 images belonging to 10 classes.\n"
     ]
    }
   ],
   "source": [
    "train_datagen = image.ImageDataGenerator(\n",
    "                                         shear_range=0.2,\n",
    "                                         zoom_range=0.2,\n",
    "                                         rotation_range=15,\n",
    "                                         height_shift_range=0.2,\n",
    "                                         width_shift_range=0.2,\n",
    "                                         channel_shift_range=10,\n",
    "                                         preprocessing_function=preprocess_input,\n",
    "                                         horizontal_flip=True)\n",
    "\n",
    "validation_datagen = image.ImageDataGenerator(preprocessing_function=preprocess_input)\n",
    "\n",
    "\n",
    "train_generator = train_datagen.flow_from_directory(\n",
    "                                    train_path,\n",
    "                                    target_size=image_size,\n",
    "                                    batch_size=batch_size,\n",
    "                                    class_mode='categorical',\n",
    "                                    shuffle=True)\n",
    "\n",
    "validation_generator = validation_datagen.flow_from_directory(\n",
    "                                    validation_path,\n",
    "                                    target_size=image_size,\n",
    "                                    batch_size=batch_size,                                    \n",
    "                                    class_mode='categorical',\n",
    "                                    shuffle=False)"
   ]
  },
  {
   "cell_type": "code",
   "execution_count": 6,
   "metadata": {},
   "outputs": [],
   "source": [
    "vgg16_base_model = VGG16(weights='imagenet', include_top=False,input_shape=(224,224,3))\n",
    "\n",
    "x = vgg16_base_model.output\n",
    "\n",
    "x = Flatten()(x)\n",
    "x = Dense(256, activation='relu')(x)\n",
    "x = BatchNormalization()(x)\n",
    "x = Dropout(0.5)(x)\n",
    "\n",
    "x = Dense(256, activation='relu')(x)\n",
    "x = BatchNormalization()(x)\n",
    "x = Dropout(0.5)(x)\n",
    "predict = Dense(10, activation='softmax')(x)\n",
    "\n",
    "vgg16_model = Model(inputs=vgg16_base_model.input, outputs=predict)"
   ]
  },
  {
   "cell_type": "code",
   "execution_count": null,
   "metadata": {},
   "outputs": [],
   "source": []
  },
  {
   "cell_type": "code",
   "execution_count": 7,
   "metadata": {},
   "outputs": [
    {
     "name": "stdout",
     "output_type": "stream",
     "text": [
      "0 input_1 False\n",
      "1 block1_conv1 False\n",
      "2 block1_conv2 False\n",
      "3 block1_pool False\n",
      "4 block2_conv1 False\n",
      "5 block2_conv2 False\n",
      "6 block2_pool False\n",
      "7 block3_conv1 False\n",
      "8 block3_conv2 False\n",
      "9 block3_conv3 False\n",
      "10 block3_pool False\n",
      "11 block4_conv1 False\n",
      "12 block4_conv2 False\n",
      "13 block4_conv3 False\n",
      "14 block4_pool False\n",
      "15 block5_conv1 False\n",
      "16 block5_conv2 False\n",
      "17 block5_conv3 False\n",
      "18 block5_pool False\n",
      "19 flatten_1 True\n",
      "20 dense_1 True\n",
      "21 batch_normalization_1 True\n",
      "22 dropout_1 True\n",
      "23 dense_2 True\n",
      "24 batch_normalization_2 True\n",
      "25 dropout_2 True\n",
      "26 dense_3 True\n"
     ]
    }
   ],
   "source": [
    "for layer in vgg16_model.layers[:19]:\n",
    "    layer.trainable = False\n",
    "\n",
    "for i,layer in enumerate(vgg16_model.layers):\n",
    "    print(i,layer.name,layer.trainable)"
   ]
  },
  {
   "cell_type": "code",
   "execution_count": null,
   "metadata": {},
   "outputs": [],
   "source": []
  },
  {
   "cell_type": "code",
   "execution_count": 8,
   "metadata": {},
   "outputs": [
    {
     "name": "stdout",
     "output_type": "stream",
     "text": [
      "Epoch 1/15\n",
      "156/156 [==============================] - 322s 2s/step - loss: 1.9653 - acc: 0.3853 - val_loss: 1.3089 - val_acc: 0.6102\n",
      "Epoch 2/15\n",
      "156/156 [==============================] - 325s 2s/step - loss: 0.8922 - acc: 0.6984 - val_loss: 1.0660 - val_acc: 0.6742\n",
      "Epoch 3/15\n",
      "156/156 [==============================] - 323s 2s/step - loss: 0.6313 - acc: 0.7896 - val_loss: 1.5527 - val_acc: 0.5932\n",
      "Epoch 4/15\n",
      "156/156 [==============================] - 321s 2s/step - loss: 0.5114 - acc: 0.8282 - val_loss: 1.6170 - val_acc: 0.5967\n",
      "Epoch 5/15\n",
      "156/156 [==============================] - 318s 2s/step - loss: 0.4352 - acc: 0.8572 - val_loss: 1.4819 - val_acc: 0.5980\n"
     ]
    }
   ],
   "source": [
    "vgg16_model.compile(loss='categorical_crossentropy',\n",
    "                    #optimizer=optimizers.SGD(lr=1e-3, momentum=0.9) #,decay=1e-6,nesterov=True),\n",
    "                    optimizer=optimizers.Adam(lr=1e-3),\n",
    "#                     optimizer=Adadelta(),\n",
    "                    metrics=['accuracy'])\n",
    "\n",
    "# fine-tune the model\n",
    "vgg16_model.fit_generator(\n",
    "                        train_generator,\n",
    "                        steps_per_epoch=nb_train_samples // batch_size,\n",
    "                        epochs=15,\n",
    "                        validation_data=validation_generator,\n",
    "                        validation_steps=nb_val_samples // batch_size,\n",
    "                        callbacks=[EarlyStopping(patience=3)])\n",
    "\n",
    "vgg16_model.save('vgg16_model_fc.h5')"
   ]
  },
  {
   "cell_type": "code",
   "execution_count": null,
   "metadata": {},
   "outputs": [],
   "source": []
  },
  {
   "cell_type": "code",
   "execution_count": 9,
   "metadata": {},
   "outputs": [
    {
     "name": "stdout",
     "output_type": "stream",
     "text": [
      "Epoch 1/20\n",
      "156/156 [==============================] - 325s 2s/step - loss: 0.5677 - acc: 0.8278 - val_loss: 1.1804 - val_acc: 0.7626\n",
      "Epoch 2/20\n",
      "156/156 [==============================] - 325s 2s/step - loss: 0.1453 - acc: 0.9557 - val_loss: 0.5371 - val_acc: 0.8724\n",
      "Epoch 3/20\n",
      "156/156 [==============================] - 322s 2s/step - loss: 0.0846 - acc: 0.9756 - val_loss: 0.8030 - val_acc: 0.8219\n",
      "Epoch 4/20\n",
      "156/156 [==============================] - 321s 2s/step - loss: 0.0728 - acc: 0.9776 - val_loss: 0.9664 - val_acc: 0.7474\n",
      "Epoch 5/20\n",
      "156/156 [==============================] - 322s 2s/step - loss: 0.0559 - acc: 0.9828 - val_loss: 1.0667 - val_acc: 0.7770\n"
     ]
    }
   ],
   "source": [
    "vgg16_model = load_model('vgg16_model_fc.h5')\n",
    "\n",
    "for layer in vgg16_model.layers[:15]:\n",
    "    layer.trainable = False\n",
    "    \n",
    "for layer in vgg16_model.layers[15:]:\n",
    "    layer.trainable = True\n",
    "    \n",
    "vgg16_model.compile(loss='categorical_crossentropy',\n",
    "#                     optimizer=optimizers.SGD(lr=1e-3, momentum=0.9),\n",
    "                    optimizer=optimizers.Adam(lr=1e-3),\n",
    "                    metrics=['accuracy'])  \n",
    "\n",
    "vgg16_model.fit_generator(\n",
    "                        train_generator,\n",
    "                        steps_per_epoch=nb_train_samples // batch_size,\n",
    "                        epochs=20,\n",
    "                        validation_data=validation_generator,\n",
    "                        validation_steps=nb_val_samples // batch_size,\n",
    "                        callbacks=[TensorBoard(log_dir='./logs/vgg16_fine_tune'),\n",
    "                                   CSVLogger('vgg16_fine_tune'),\n",
    "                                   EarlyStopping(patience=3)])\n",
    "\n",
    "vgg16_model.save('vgg16_model_15.h5')"
   ]
  },
  {
   "cell_type": "code",
   "execution_count": 10,
   "metadata": {},
   "outputs": [
    {
     "name": "stdout",
     "output_type": "stream",
     "text": [
      "Epoch 1/20\n",
      "156/156 [==============================] - 323s 2s/step - loss: 0.0682 - acc: 0.9789 - val_loss: 1.0124 - val_acc: 0.7300\n",
      "Epoch 2/20\n",
      "156/156 [==============================] - 327s 2s/step - loss: 0.0481 - acc: 0.9850 - val_loss: 0.4275 - val_acc: 0.8855\n",
      "Epoch 3/20\n",
      "156/156 [==============================] - 324s 2s/step - loss: 0.0264 - acc: 0.9920 - val_loss: 0.4779 - val_acc: 0.8449\n",
      "Epoch 4/20\n",
      "156/156 [==============================] - 321s 2s/step - loss: 0.0230 - acc: 0.9940 - val_loss: 0.5554 - val_acc: 0.8463\n",
      "Epoch 5/20\n",
      "156/156 [==============================] - 318s 2s/step - loss: 0.0212 - acc: 0.9934 - val_loss: 1.3124 - val_acc: 0.6572\n"
     ]
    }
   ],
   "source": [
    "vgg16_model = load_model('vgg16_model_15.h5')\n",
    "\n",
    "for layer in vgg16_model.layers[:11]:\n",
    "    layer.trainable = False\n",
    "    \n",
    "for layer in vgg16_model.layers[11:]:\n",
    "    layer.trainable = True\n",
    "    \n",
    "vgg16_model.compile(loss='categorical_crossentropy',\n",
    "#                     optimizer=optimizers.SGD(lr=1e-4, momentum=0.9),\n",
    "                     optimizer=optimizers.Adam(lr=1e-4),\n",
    "                    metrics=['accuracy'])  \n",
    "\n",
    "vgg16_model.fit_generator(\n",
    "                        train_generator,\n",
    "                        steps_per_epoch=nb_train_samples // batch_size,\n",
    "                        epochs=20,\n",
    "                        validation_data=validation_generator,\n",
    "                        validation_steps=nb_val_samples // batch_size,\n",
    "                        callbacks=[TensorBoard(log_dir='./logs/vgg16_fine_tune'),\n",
    "                                   CSVLogger('vgg16_fine_tune'),\n",
    "                                   EarlyStopping(patience=3)])\n",
    "\n",
    "vgg16_model.save('vgg16_model_11.h5')"
   ]
  },
  {
   "cell_type": "code",
   "execution_count": 11,
   "metadata": {},
   "outputs": [
    {
     "name": "stdout",
     "output_type": "stream",
     "text": [
      "Epoch 1/20\n",
      "156/156 [==============================] - 321s 2s/step - loss: 0.0204 - acc: 0.9936 - val_loss: 0.6218 - val_acc: 0.8307\n",
      "Epoch 2/20\n",
      "156/156 [==============================] - 326s 2s/step - loss: 0.0144 - acc: 0.9961 - val_loss: 0.6674 - val_acc: 0.8367\n",
      "Epoch 3/20\n",
      "156/156 [==============================] - 323s 2s/step - loss: 0.0139 - acc: 0.9964 - val_loss: 0.9728 - val_acc: 0.7644\n",
      "Epoch 4/20\n",
      "156/156 [==============================] - 321s 2s/step - loss: 0.0154 - acc: 0.9958 - val_loss: 0.3777 - val_acc: 0.8850\n",
      "Epoch 5/20\n",
      "156/156 [==============================] - 319s 2s/step - loss: 0.0101 - acc: 0.9971 - val_loss: 0.5748 - val_acc: 0.8393\n",
      "Epoch 6/20\n",
      "156/156 [==============================] - 317s 2s/step - loss: 0.0112 - acc: 0.9967 - val_loss: 1.0363 - val_acc: 0.7204\n",
      "Epoch 7/20\n",
      "156/156 [==============================] - 317s 2s/step - loss: 0.0121 - acc: 0.9960 - val_loss: 0.7628 - val_acc: 0.8127\n"
     ]
    }
   ],
   "source": [
    "vgg16_model = load_model('vgg16_model_11.h5')\n",
    "\n",
    "for layer in vgg16_model.layers[:7]:\n",
    "    layer.trainable = False\n",
    "    \n",
    "for layer in vgg16_model.layers[7:]:\n",
    "    layer.trainable = True\n",
    "\n",
    "vgg16_model.compile(loss='categorical_crossentropy',\n",
    "#                     optimizer=optimizers.SGD(lr=1e-5, momentum=0.9),\n",
    "                    optimizer=optimizers.Adam(lr=5e-5),\n",
    "                    metrics=['accuracy'])  \n",
    "\n",
    "vgg16_model.fit_generator(\n",
    "                        train_generator,\n",
    "                        steps_per_epoch=nb_train_samples // batch_size,\n",
    "                        epochs=20,\n",
    "                        validation_data=validation_generator,\n",
    "                        validation_steps=nb_val_samples // batch_size,\n",
    "                        callbacks=[TensorBoard(log_dir='./logs/vgg16_fine_tune'),\n",
    "                                   CSVLogger('vgg16_fine_tune'),\n",
    "                                   EarlyStopping(patience=3)])\n",
    "vgg16_model.save('vgg16_model_7.h5')"
   ]
  },
  {
   "cell_type": "code",
   "execution_count": null,
   "metadata": {},
   "outputs": [],
   "source": []
  },
  {
   "cell_type": "code",
   "execution_count": 12,
   "metadata": {},
   "outputs": [
    {
     "name": "stdout",
     "output_type": "stream",
     "text": [
      "Epoch 1/15\n",
      "156/156 [==============================] - 321s 2s/step - loss: 0.0128 - acc: 0.9959 - val_loss: 0.3994 - val_acc: 0.8997\n",
      "Epoch 2/15\n",
      "156/156 [==============================] - 326s 2s/step - loss: 0.0125 - acc: 0.9965 - val_loss: 0.4805 - val_acc: 0.8924\n",
      "Epoch 3/15\n",
      "156/156 [==============================] - 323s 2s/step - loss: 0.0111 - acc: 0.9962 - val_loss: 1.4662 - val_acc: 0.6646\n",
      "Epoch 4/15\n",
      "156/156 [==============================] - 321s 2s/step - loss: 0.0084 - acc: 0.9981 - val_loss: 0.5677 - val_acc: 0.8637\n"
     ]
    }
   ],
   "source": [
    "vgg16_model = load_model('vgg16_model_7.h5')\n",
    "\n",
    "# for layer in vgg16_model.layers[:7]:\n",
    "#     layer.trainable = False\n",
    "    \n",
    "for layer in vgg16_model.layers:\n",
    "    layer.trainable = True\n",
    "\n",
    "vgg16_model.compile(loss='categorical_crossentropy',\n",
    "#                     optimizer=optimizers.SGD(lr=1e-5, momentum=0.9),\n",
    "                    optimizer=optimizers.Adam(lr=5e-5),\n",
    "                    metrics=['accuracy'])  \n",
    "\n",
    "vgg16_model.fit_generator(\n",
    "                        train_generator,\n",
    "                        steps_per_epoch=nb_train_samples // batch_size,\n",
    "                        epochs=15,\n",
    "                        validation_data=validation_generator,\n",
    "                        validation_steps=nb_val_samples // batch_size,\n",
    "                        callbacks=[TensorBoard(log_dir='./logs/vgg16_fine_tune'),\n",
    "                                   CSVLogger('vgg16_fine_tune'),\n",
    "                                   EarlyStopping(patience=3)])\n",
    "\n",
    "vgg16_model.save('vgg16_model_all.h5')"
   ]
  },
  {
   "cell_type": "code",
   "execution_count": 13,
   "metadata": {},
   "outputs": [
    {
     "name": "stdout",
     "output_type": "stream",
     "text": [
      "Epoch 1/15\n",
      "156/156 [==============================] - 322s 2s/step - loss: 0.0028 - acc: 0.9995 - val_loss: 0.3332 - val_acc: 0.9240\n",
      "Epoch 2/15\n",
      "156/156 [==============================] - 326s 2s/step - loss: 0.0024 - acc: 0.9995 - val_loss: 0.4448 - val_acc: 0.9016\n",
      "Epoch 3/15\n",
      "156/156 [==============================] - 324s 2s/step - loss: 0.0028 - acc: 0.9994 - val_loss: 0.5931 - val_acc: 0.8593\n",
      "Epoch 4/15\n",
      "156/156 [==============================] - 322s 2s/step - loss: 0.0015 - acc: 0.9998 - val_loss: 0.4288 - val_acc: 0.8859\n",
      "Epoch 5/15\n",
      "156/156 [==============================] - 319s 2s/step - loss: 0.0014 - acc: 0.9997 - val_loss: 0.6277 - val_acc: 0.8528\n",
      "Epoch 6/15\n",
      "156/156 [==============================] - 319s 2s/step - loss: 0.0017 - acc: 0.9996 - val_loss: 0.4019 - val_acc: 0.8933\n"
     ]
    },
    {
     "data": {
      "text/plain": [
       "<keras.callbacks.History at 0x7f0e8059f630>"
      ]
     },
     "execution_count": 13,
     "metadata": {},
     "output_type": "execute_result"
    }
   ],
   "source": [
    "vgg16_model.compile(loss='categorical_crossentropy',\n",
    "#                     optimizer=optimizers.SGD(lr=1e-5, momentum=0.9),\n",
    "                    optimizer=optimizers.Adam(lr=1e-5),\n",
    "                    metrics=['accuracy'])  \n",
    "\n",
    "vgg16_model.fit_generator(\n",
    "                        train_generator,\n",
    "                        steps_per_epoch=nb_train_samples // batch_size,\n",
    "                        epochs=15,\n",
    "                        validation_data=validation_generator,\n",
    "                        validation_steps=nb_val_samples // batch_size,\n",
    "                        callbacks=[TensorBoard(log_dir='./logs/vgg16_fine_tune'),\n",
    "                                   CSVLogger('vgg16_fine_tune'),\n",
    "                                   EarlyStopping(patience=5)])"
   ]
  },
  {
   "cell_type": "code",
   "execution_count": 14,
   "metadata": {},
   "outputs": [],
   "source": [
    "vgg16_model.save('vgg16_final_model.h5')"
   ]
  },
  {
   "cell_type": "code",
   "execution_count": 15,
   "metadata": {},
   "outputs": [],
   "source": [
    "vgg16_model = load_model('vgg16_final_model.h5')\n",
    "\n",
    "test_model(vgg16_model,test_path,csv='vgg16_submission_0430.csv')"
   ]
  },
  {
   "cell_type": "code",
   "execution_count": 6,
   "metadata": {},
   "outputs": [
    {
     "name": "stdout",
     "output_type": "stream",
     "text": [
      "Epoch 1/20\n",
      "156/156 [==============================] - 350s 2s/step - loss: 0.0627 - acc: 0.9815 - val_loss: 0.3219 - val_acc: 0.9214\n",
      "Epoch 2/20\n",
      "156/156 [==============================] - 353s 2s/step - loss: 0.0334 - acc: 0.9896 - val_loss: 0.2629 - val_acc: 0.9325\n",
      "Epoch 3/20\n",
      "156/156 [==============================] - 343s 2s/step - loss: 0.0332 - acc: 0.9901 - val_loss: 1.0057 - val_acc: 0.7247\n",
      "Epoch 4/20\n",
      "156/156 [==============================] - 344s 2s/step - loss: 0.0241 - acc: 0.9930 - val_loss: 1.0485 - val_acc: 0.7252\n",
      "Epoch 5/20\n",
      "156/156 [==============================] - 345s 2s/step - loss: 0.0473 - acc: 0.9859 - val_loss: 0.5932 - val_acc: 0.8676\n",
      "Epoch 6/20\n",
      "156/156 [==============================] - 345s 2s/step - loss: 0.0291 - acc: 0.9908 - val_loss: 0.3177 - val_acc: 0.9242\n",
      "Epoch 7/20\n",
      "156/156 [==============================] - 344s 2s/step - loss: 0.0161 - acc: 0.9951 - val_loss: 0.9984 - val_acc: 0.7988\n"
     ]
    }
   ],
   "source": [
    "vgg16_model = load_model('vgg16_model_15.h5')\n",
    "\n",
    "for layer in vgg16_model.layers[:11]:\n",
    "    layer.trainable = False\n",
    "    \n",
    "for layer in vgg16_model.layers[11:]:\n",
    "    layer.trainable = True\n",
    "\n",
    "vgg16_model.compile(loss='categorical_crossentropy',\n",
    "#                     optimizer=optimizers.SGD(lr=1e-5, momentum=0.9),\n",
    "                    optimizer=optimizers.Adam(lr=1e-4),\n",
    "                    metrics=['accuracy'])  \n",
    "\n",
    "vgg16_model.fit_generator(\n",
    "                        train_generator,\n",
    "                        steps_per_epoch=nb_train_samples // batch_size,\n",
    "                        epochs=20,\n",
    "                        validation_data=validation_generator,\n",
    "                        validation_steps=nb_val_samples // batch_size,\n",
    "                        callbacks=[TensorBoard(log_dir='./logs/vgg16_fine_tune'),\n",
    "                                   CSVLogger('vgg16_fine_tune'),\n",
    "                                   EarlyStopping(patience=5)])\n",
    "vgg16_model.save('vgg16_model_11_0417.h5')"
   ]
  },
  {
   "cell_type": "code",
   "execution_count": 7,
   "metadata": {},
   "outputs": [
    {
     "name": "stdout",
     "output_type": "stream",
     "text": [
      "Epoch 1/20\n",
      "156/156 [==============================] - 530s 3s/step - loss: 0.0148 - acc: 0.9958 - val_loss: 1.2274 - val_acc: 0.6858\n",
      "Epoch 2/20\n",
      "156/156 [==============================] - 355s 2s/step - loss: 0.0104 - acc: 0.9975 - val_loss: 0.3978 - val_acc: 0.8911\n",
      "Epoch 3/20\n",
      "156/156 [==============================] - 349s 2s/step - loss: 0.0059 - acc: 0.9983 - val_loss: 0.4396 - val_acc: 0.9020\n",
      "Epoch 4/20\n",
      "156/156 [==============================] - 350s 2s/step - loss: 0.0065 - acc: 0.9982 - val_loss: 0.8292 - val_acc: 0.8571\n",
      "Epoch 5/20\n",
      "156/156 [==============================] - 349s 2s/step - loss: 0.0114 - acc: 0.9962 - val_loss: 0.9681 - val_acc: 0.8358\n"
     ]
    }
   ],
   "source": [
    "vgg16_model = load_model('vgg16_model_11_0417.h5')\n",
    "\n",
    "for layer in vgg16_model.layers[:11]:\n",
    "    layer.trainable = False\n",
    "    \n",
    "for layer in vgg16_model.layers[11:]:\n",
    "    layer.trainable = True\n",
    "\n",
    "vgg16_model.compile(loss='categorical_crossentropy',\n",
    "#                     optimizer=optimizers.SGD(lr=1e-5, momentum=0.9),\n",
    "                    optimizer=optimizers.Adam(lr=5e-5),\n",
    "                    metrics=['accuracy'])  \n",
    "\n",
    "vgg16_model.fit_generator(\n",
    "                        train_generator,\n",
    "                        steps_per_epoch=nb_train_samples // batch_size,\n",
    "                        epochs=20,\n",
    "                        validation_data=validation_generator,\n",
    "                        validation_steps=nb_val_samples // batch_size,\n",
    "                        callbacks=[TensorBoard(log_dir='./logs/vgg16_fine_tune'),\n",
    "                                   CSVLogger('vgg16_fine_tune'),\n",
    "                                   EarlyStopping(patience=3)])\n",
    "vgg16_model.save('vgg16_model_11_0427.h5')"
   ]
  },
  {
   "cell_type": "code",
   "execution_count": 18,
   "metadata": {},
   "outputs": [
    {
     "name": "stdout",
     "output_type": "stream",
     "text": [
      "Epoch 1/20\n",
      "156/156 [==============================] - 427s 3s/step - loss: 0.0306 - acc: 0.9904 - val_loss: 2.1839 - val_acc: 0.5339\n",
      "Epoch 2/20\n",
      "156/156 [==============================] - 426s 3s/step - loss: 0.0245 - acc: 0.9918 - val_loss: 0.5734 - val_acc: 0.8754\n",
      "Epoch 3/20\n",
      "156/156 [==============================] - 423s 3s/step - loss: 0.0308 - acc: 0.9901 - val_loss: 0.4802 - val_acc: 0.8724\n",
      "Epoch 4/20\n",
      "156/156 [==============================] - 425s 3s/step - loss: 0.0257 - acc: 0.9923 - val_loss: 0.4923 - val_acc: 0.9042\n",
      "Epoch 5/20\n",
      "156/156 [==============================] - 427s 3s/step - loss: 0.0180 - acc: 0.9949 - val_loss: 0.7201 - val_acc: 0.8114\n",
      "Epoch 6/20\n",
      "156/156 [==============================] - 426s 3s/step - loss: 0.0158 - acc: 0.9951 - val_loss: 0.5378 - val_acc: 0.8841\n"
     ]
    }
   ],
   "source": [
    "vgg16_model = load_model('vgg16_model_11_0427.h5')\n",
    "\n",
    "for layer in vgg16_model.layers[:7]:\n",
    "    layer.trainable = False\n",
    "    \n",
    "for layer in vgg16_model.layers[7:]:\n",
    "    layer.trainable = True\n",
    "\n",
    "vgg16_model.compile(loss='categorical_crossentropy',\n",
    "#                     optimizer=optimizers.SGD(lr=1e-5, momentum=0.9),\n",
    "                    optimizer=optimizers.Adam(lr=1e-4),\n",
    "                    metrics=['accuracy'])  \n",
    "\n",
    "vgg16_model.fit_generator(\n",
    "                        train_generator,\n",
    "                        steps_per_epoch=nb_train_samples // batch_size,\n",
    "                        epochs=20,\n",
    "                        validation_data=validation_generator,\n",
    "                        validation_steps=nb_val_samples // batch_size,\n",
    "                        callbacks=[TensorBoard(log_dir='./logs/vgg16_fine_tune'),\n",
    "                                   CSVLogger('vgg16_fine_tune'),\n",
    "                                   EarlyStopping(patience=3)])\n",
    "vgg16_model.save('vgg16_model_7_0427.h5')"
   ]
  },
  {
   "cell_type": "code",
   "execution_count": 6,
   "metadata": {},
   "outputs": [
    {
     "name": "stdout",
     "output_type": "stream",
     "text": [
      "Epoch 1/10\n",
      "156/156 [==============================] - 543s 3s/step - loss: 0.0075 - acc: 0.9981 - val_loss: 0.4138 - val_acc: 0.9076\n",
      "Epoch 2/10\n",
      "156/156 [==============================] - 392s 3s/step - loss: 0.0038 - acc: 0.9989 - val_loss: 0.4365 - val_acc: 0.8907\n",
      "Epoch 3/10\n",
      "156/156 [==============================] - 385s 2s/step - loss: 0.0027 - acc: 0.9992 - val_loss: 0.4412 - val_acc: 0.9072\n",
      "Epoch 4/10\n",
      "156/156 [==============================] - 385s 2s/step - loss: 0.0023 - acc: 0.9995 - val_loss: 0.4414 - val_acc: 0.9081\n",
      "Epoch 5/10\n",
      "156/156 [==============================] - 385s 2s/step - loss: 0.0025 - acc: 0.9995 - val_loss: 0.4536 - val_acc: 0.9046\n",
      "Epoch 6/10\n",
      "156/156 [==============================] - 385s 2s/step - loss: 0.0026 - acc: 0.9992 - val_loss: 0.3720 - val_acc: 0.9094\n",
      "Epoch 7/10\n",
      "156/156 [==============================] - 385s 2s/step - loss: 0.0024 - acc: 0.9993 - val_loss: 0.5023 - val_acc: 0.8820\n",
      "Epoch 8/10\n",
      "156/156 [==============================] - 386s 2s/step - loss: 0.0016 - acc: 0.9996 - val_loss: 0.4514 - val_acc: 0.9098\n",
      "Epoch 9/10\n",
      "156/156 [==============================] - 385s 2s/step - loss: 0.0011 - acc: 0.9998 - val_loss: 0.4890 - val_acc: 0.8976\n",
      "Epoch 10/10\n",
      "156/156 [==============================] - 385s 2s/step - loss: 0.0016 - acc: 0.9997 - val_loss: 0.5268 - val_acc: 0.8820\n"
     ]
    },
    {
     "data": {
      "text/plain": [
       "<keras.callbacks.History at 0x7f29d2fda6a0>"
      ]
     },
     "execution_count": 6,
     "metadata": {},
     "output_type": "execute_result"
    }
   ],
   "source": [
    "vgg16_model = load_model('vgg16_model_7_0427.h5')\n",
    "vgg16_model.compile(loss='categorical_crossentropy',\n",
    "#                     optimizer=optimizers.SGD(lr=1e-5, momentum=0.9),\n",
    "                    optimizer=optimizers.Adam(lr=1e-5),\n",
    "                    metrics=['accuracy'])  \n",
    "vgg16_model.fit_generator(\n",
    "                        train_generator,\n",
    "                        steps_per_epoch=nb_train_samples // batch_size,\n",
    "                        epochs=10,\n",
    "                        validation_data=validation_generator,\n",
    "                        validation_steps=nb_val_samples // batch_size,\n",
    "                        callbacks=[TensorBoard(log_dir='./logs/vgg16_fine_tune'),\n",
    "                                   CSVLogger('vgg16_fine_tune')])"
   ]
  },
  {
   "cell_type": "code",
   "execution_count": 7,
   "metadata": {},
   "outputs": [],
   "source": [
    "vgg16_model.save('vgg16_model_7_0427.h5')"
   ]
  },
  {
   "cell_type": "code",
   "execution_count": 7,
   "metadata": {},
   "outputs": [],
   "source": [
    "vgg16_model = load_model('vgg16_model_7_0427.h5')\n",
    "\n",
    "test_model(vgg16_model,test_path,csv='vgg16_submission_7_0427.csv')"
   ]
  },
  {
   "cell_type": "code",
   "execution_count": 6,
   "metadata": {},
   "outputs": [
    {
     "name": "stdout",
     "output_type": "stream",
     "text": [
      "Epoch 1/20\n",
      "156/156 [==============================] - 508s 3s/step - loss: 0.0218 - acc: 0.9935 - val_loss: 0.7033 - val_acc: 0.8290\n",
      "Epoch 2/20\n",
      "156/156 [==============================] - 325s 2s/step - loss: 0.0212 - acc: 0.9933 - val_loss: 0.5558 - val_acc: 0.8990\n",
      "Epoch 3/20\n",
      "156/156 [==============================] - 326s 2s/step - loss: 0.0198 - acc: 0.9936 - val_loss: 0.4090 - val_acc: 0.9059\n",
      "Epoch 4/20\n",
      "156/156 [==============================] - 326s 2s/step - loss: 0.0130 - acc: 0.9964 - val_loss: 0.8535 - val_acc: 0.8057\n",
      "Epoch 5/20\n",
      "156/156 [==============================] - 321s 2s/step - loss: 0.0129 - acc: 0.9965 - val_loss: 0.6237 - val_acc: 0.8850\n",
      "Epoch 6/20\n",
      "156/156 [==============================] - 321s 2s/step - loss: 0.0066 - acc: 0.9979 - val_loss: 0.7064 - val_acc: 0.8349\n"
     ]
    }
   ],
   "source": [
    "vgg16_model = load_model('vgg16_model_7_0427.h5')\n",
    "\n",
    "    \n",
    "for layer in vgg16_model.layers:\n",
    "    layer.trainable = True\n",
    "\n",
    "vgg16_model.compile(loss='categorical_crossentropy',\n",
    "#                     optimizer=optimizers.SGD(lr=1e-5, momentum=0.9),\n",
    "                    optimizer=optimizers.Adam(lr=1e-4),\n",
    "                    metrics=['accuracy'])  \n",
    "\n",
    "vgg16_model.fit_generator(\n",
    "                        train_generator,\n",
    "                        steps_per_epoch=nb_train_samples // batch_size,\n",
    "                        epochs=20,\n",
    "                        validation_data=validation_generator,\n",
    "                        validation_steps=nb_val_samples // batch_size,\n",
    "                        callbacks=[TensorBoard(log_dir='./logs/vgg16_fine_tune'),\n",
    "                                   CSVLogger('vgg16_fine_tune'),\n",
    "                                   EarlyStopping(patience=3)])\n",
    "vgg16_model.save('vgg16_model_0427_openall.h5')"
   ]
  },
  {
   "cell_type": "code",
   "execution_count": 7,
   "metadata": {},
   "outputs": [
    {
     "name": "stdout",
     "output_type": "stream",
     "text": [
      "Epoch 1/20\n",
      "156/156 [==============================] - 323s 2s/step - loss: 0.0035 - acc: 0.9990 - val_loss: 0.3623 - val_acc: 0.9097\n",
      "Epoch 2/20\n",
      "156/156 [==============================] - 327s 2s/step - loss: 0.0022 - acc: 0.9994 - val_loss: 0.4056 - val_acc: 0.9046\n",
      "Epoch 3/20\n",
      "156/156 [==============================] - 326s 2s/step - loss: 0.0014 - acc: 0.9996 - val_loss: 0.5085 - val_acc: 0.8868\n",
      "Epoch 4/20\n",
      "156/156 [==============================] - 322s 2s/step - loss: 0.0012 - acc: 0.9998 - val_loss: 0.5729 - val_acc: 0.8754\n",
      "Epoch 5/20\n",
      "156/156 [==============================] - 321s 2s/step - loss: 0.0015 - acc: 0.9997 - val_loss: 0.4656 - val_acc: 0.8894\n",
      "Epoch 6/20\n",
      "156/156 [==============================] - 321s 2s/step - loss: 0.0011 - acc: 0.9998 - val_loss: 0.4607 - val_acc: 0.9064\n"
     ]
    },
    {
     "data": {
      "text/plain": [
       "<keras.callbacks.History at 0x7fbee50266d8>"
      ]
     },
     "execution_count": 7,
     "metadata": {},
     "output_type": "execute_result"
    }
   ],
   "source": [
    "vgg16_model.compile(loss='categorical_crossentropy',\n",
    "                    optimizer=optimizers.Adam(lr=1e-5),\n",
    "                    metrics=['accuracy'])  \n",
    "\n",
    "vgg16_model.fit_generator(\n",
    "                        train_generator,\n",
    "                        steps_per_epoch=nb_train_samples // batch_size,\n",
    "                        epochs=20,\n",
    "                        validation_data=validation_generator,\n",
    "                        validation_steps=nb_val_samples // batch_size,\n",
    "                        callbacks=[TensorBoard(log_dir='./logs/vgg16_fine_tune'),\n",
    "                                   CSVLogger('vgg16_fine_tune'),\n",
    "                                   EarlyStopping(patience=5)])"
   ]
  },
  {
   "cell_type": "code",
   "execution_count": 8,
   "metadata": {},
   "outputs": [],
   "source": [
    "vgg16_model.save('vgg16_model_0427_openall.h5')"
   ]
  },
  {
   "cell_type": "code",
   "execution_count": null,
   "metadata": {},
   "outputs": [],
   "source": []
  }
 ],
 "metadata": {
  "kernelspec": {
   "display_name": "Python [conda env:tensorflow_p36]",
   "language": "python",
   "name": "conda-env-tensorflow_p36-py"
  },
  "language_info": {
   "codemirror_mode": {
    "name": "ipython",
    "version": 3
   },
   "file_extension": ".py",
   "mimetype": "text/x-python",
   "name": "python",
   "nbconvert_exporter": "python",
   "pygments_lexer": "ipython3",
   "version": "3.6.4"
  }
 },
 "nbformat": 4,
 "nbformat_minor": 2
}
