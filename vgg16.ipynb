{
 "cells": [
  {
   "cell_type": "code",
   "execution_count": 16,
   "metadata": {},
   "outputs": [],
   "source": [
    "from keras.models import *\n",
    "from keras.layers import *\n",
    "from keras.optimizers import RMSprop,SGD,Adadelta,Adam\n",
    "from keras.preprocessing import image\n",
    "from keras.callbacks import TensorBoard,History,EarlyStopping,CSVLogger\n",
    "from keras.applications.vgg16 import VGG16,preprocess_input\n",
    "from sklearn.utils import shuffle\n",
    "import numpy as np\n",
    "import pandas as pd\n",
    "import h5py\n",
    "import os"
   ]
  },
  {
   "cell_type": "code",
   "execution_count": 3,
   "metadata": {},
   "outputs": [],
   "source": [
    "train_path = './train'\n",
    "validation_path = './validation'\n",
    "test_path = './test'\n",
    "assert(os.path.exists(train_path))\n",
    "assert(os.path.exists(validation_path))\n",
    "assert(os.path.exists(test_path))\n",
    "\n",
    "\n",
    "nb_train_samples = 20000\n",
    "nb_val_samples = 2424\n",
    "image_size = (224,224)\n",
    "batch_size = 128\n",
    "class_num = 10"
   ]
  },
  {
   "cell_type": "code",
   "execution_count": 17,
   "metadata": {},
   "outputs": [],
   "source": [
    "vgg16_base_model = VGG16(weights='imagenet', include_top=False,input_shape=(224,224,3))\n",
    "\n",
    "x = vgg16_base_model.output\n",
    "x = Flatten()(x)\n",
    "x = Dense(256, activation='relu')(x)\n",
    "x = BatchNormalization()(x)\n",
    "x = Dropout(0.5)(x)\n",
    "# x = Dense(256, activation='relu')(x)\n",
    "# x = Dropout(0.5)(x)\n",
    "# x = GlobalAveragePooling2D()(x)\n",
    "x = Dense(256, activation='relu')(x)\n",
    "x = BatchNormalization()(x)\n",
    "x = Dropout(0.5)(x)\n",
    "x = Dense(10, activation='softmax')(x)\n",
    "\n",
    "vgg16_model = Model(inputs=vgg16_base_model.input, outputs=x)"
   ]
  },
  {
   "cell_type": "code",
   "execution_count": 18,
   "metadata": {},
   "outputs": [
    {
     "name": "stdout",
     "output_type": "stream",
     "text": [
      "0 input_3 False\n",
      "1 block1_conv1 False\n",
      "2 block1_conv2 False\n",
      "3 block1_pool False\n",
      "4 block2_conv1 False\n",
      "5 block2_conv2 False\n",
      "6 block2_pool False\n",
      "7 block3_conv1 False\n",
      "8 block3_conv2 False\n",
      "9 block3_conv3 False\n",
      "10 block3_pool False\n",
      "11 block4_conv1 False\n",
      "12 block4_conv2 False\n",
      "13 block4_conv3 False\n",
      "14 block4_pool False\n",
      "15 block5_conv1 False\n",
      "16 block5_conv2 False\n",
      "17 block5_conv3 False\n",
      "18 block5_pool False\n",
      "19 flatten_3 True\n",
      "20 dense_7 True\n",
      "21 batch_normalization_5 True\n",
      "22 dropout_5 True\n",
      "23 dense_8 True\n",
      "24 batch_normalization_6 True\n",
      "25 dropout_6 True\n",
      "26 dense_9 True\n"
     ]
    }
   ],
   "source": [
    "for layer in vgg16_model.layers[:19]:\n",
    "    layer.trainable = False\n",
    "\n",
    "for i,layer in enumerate(vgg16_model.layers):\n",
    "    print(i,layer.name,layer.trainable)"
   ]
  },
  {
   "cell_type": "code",
   "execution_count": 19,
   "metadata": {},
   "outputs": [
    {
     "name": "stdout",
     "output_type": "stream",
     "text": [
      "Found 20000 images belonging to 10 classes.\n",
      "Found 2424 images belonging to 10 classes.\n"
     ]
    }
   ],
   "source": [
    "train_datagen = image.ImageDataGenerator(\n",
    "                                         shear_range=0.2,\n",
    "                                         rotation_range=15,\n",
    "                                         height_shift_range=0.1,\n",
    "                                         width_shift_range=0.1,\n",
    "                                         channel_shift_range=10,\n",
    "                                         preprocessing_function=preprocess_input,\n",
    "                                         horizontal_flip=True)\n",
    "\n",
    "validation_datagen = image.ImageDataGenerator(preprocessing_function=preprocess_input)\n",
    "\n",
    "\n",
    "train_generator = train_datagen.flow_from_directory(\n",
    "                                    train_path,\n",
    "                                    target_size=image_size,\n",
    "                                    batch_size=batch_size,\n",
    "                                    class_mode='categorical',\n",
    "                                    shuffle=True)\n",
    "\n",
    "validation_generator = validation_datagen.flow_from_directory(\n",
    "                                    validation_path,\n",
    "                                    target_size=image_size,\n",
    "                                    batch_size=batch_size,                                    \n",
    "                                    class_mode='categorical',\n",
    "                                    shuffle=False)"
   ]
  },
  {
   "cell_type": "code",
   "execution_count": 21,
   "metadata": {},
   "outputs": [
    {
     "name": "stdout",
     "output_type": "stream",
     "text": [
      "Epoch 1/10\n",
      "156/156 [==============================] - 344s 2s/step - loss: 1.1995 - acc: 0.6256 - val_loss: 1.1122 - val_acc: 0.6610\n",
      "Epoch 2/10\n",
      "156/156 [==============================] - 342s 2s/step - loss: 0.3809 - acc: 0.8757 - val_loss: 1.3641 - val_acc: 0.6315\n",
      "Epoch 3/10\n",
      "156/156 [==============================] - 343s 2s/step - loss: 0.2655 - acc: 0.9151 - val_loss: 1.0938 - val_acc: 0.6842\n",
      "Epoch 4/10\n",
      "156/156 [==============================] - 340s 2s/step - loss: 0.2022 - acc: 0.9348 - val_loss: 1.1601 - val_acc: 0.6886\n",
      "Epoch 5/10\n",
      "156/156 [==============================] - 339s 2s/step - loss: 0.1610 - acc: 0.9479 - val_loss: 1.3931 - val_acc: 0.6585\n",
      "Epoch 6/10\n",
      "156/156 [==============================] - 339s 2s/step - loss: 0.1454 - acc: 0.9544 - val_loss: 1.6431 - val_acc: 0.6089\n",
      "Epoch 7/10\n",
      "156/156 [==============================] - 336s 2s/step - loss: 0.1268 - acc: 0.9588 - val_loss: 1.8447 - val_acc: 0.5862\n",
      "Epoch 8/10\n",
      "156/156 [==============================] - 337s 2s/step - loss: 0.1227 - acc: 0.9620 - val_loss: 1.8629 - val_acc: 0.5710\n"
     ]
    },
    {
     "data": {
      "text/plain": [
       "<keras.callbacks.History at 0x7f5cf486ee48>"
      ]
     },
     "execution_count": 21,
     "metadata": {},
     "output_type": "execute_result"
    }
   ],
   "source": [
    "vgg16_model.compile(loss='categorical_crossentropy',\n",
    "                    #optimizer=optimizers.SGD(lr=1e-3, momentum=0.9) #,decay=1e-6,nesterov=True),\n",
    "                    #optimizer=optimizers.Adam(lr=1e-3),\n",
    "                    optimizer=Adadelta(),\n",
    "                    metrics=['accuracy'])\n",
    "\n",
    "# fine-tune the model\n",
    "vgg16_model.fit_generator(\n",
    "                        train_generator,\n",
    "                        steps_per_epoch=nb_train_samples // batch_size,\n",
    "                        epochs=10,\n",
    "                        validation_data=validation_generator,\n",
    "                        validation_steps=nb_val_samples // batch_size,\n",
    "                        callbacks=[EarlyStopping(patience=5)])"
   ]
  },
  {
   "cell_type": "code",
   "execution_count": 9,
   "metadata": {},
   "outputs": [
    {
     "name": "stdout",
     "output_type": "stream",
     "text": [
      "Epoch 1/5\n",
      "156/156 [==============================] - 344s 2s/step - loss: 0.1321 - acc: 0.9568 - val_loss: 1.1900 - val_acc: 0.7036\n",
      "Epoch 2/5\n",
      "156/156 [==============================] - 344s 2s/step - loss: 0.1315 - acc: 0.9580 - val_loss: 1.5762 - val_acc: 0.6494\n",
      "Epoch 3/5\n",
      "156/156 [==============================] - 345s 2s/step - loss: 0.1116 - acc: 0.9632 - val_loss: 1.6493 - val_acc: 0.6071\n",
      "Epoch 4/5\n",
      "156/156 [==============================] - 341s 2s/step - loss: 0.1080 - acc: 0.9657 - val_loss: 1.7442 - val_acc: 0.6150\n",
      "Epoch 5/5\n",
      "156/156 [==============================] - 341s 2s/step - loss: 0.1055 - acc: 0.9660 - val_loss: 2.0907 - val_acc: 0.5675\n"
     ]
    },
    {
     "data": {
      "text/plain": [
       "<keras.callbacks.History at 0x7f5d6f5dd240>"
      ]
     },
     "execution_count": 9,
     "metadata": {},
     "output_type": "execute_result"
    }
   ],
   "source": [
    "# vgg16_model.optimizer.lr = 1e-4\n",
    "\n",
    "# vgg16_model.fit_generator(\n",
    "#                         train_generator,\n",
    "#                         steps_per_epoch=nb_train_samples // batch_size,\n",
    "#                         epochs=5,\n",
    "#                         validation_data=validation_generator,\n",
    "#                         validation_steps=nb_val_samples // batch_size)"
   ]
  },
  {
   "cell_type": "code",
   "execution_count": 15,
   "metadata": {},
   "outputs": [
    {
     "name": "stdout",
     "output_type": "stream",
     "text": [
      "Epoch 1/20\n",
      "156/156 [==============================] - 347s 2s/step - loss: 0.4006 - acc: 0.8888 - val_loss: 1.1897 - val_acc: 0.7010\n",
      "Epoch 2/20\n",
      "156/156 [==============================] - 344s 2s/step - loss: 0.1026 - acc: 0.9699 - val_loss: 1.1307 - val_acc: 0.7478\n",
      "Epoch 3/20\n",
      "156/156 [==============================] - 344s 2s/step - loss: 0.0882 - acc: 0.9734 - val_loss: 5.5791 - val_acc: 0.3584\n",
      "Epoch 4/20\n",
      "156/156 [==============================] - 343s 2s/step - loss: 0.0492 - acc: 0.9854 - val_loss: 0.6537 - val_acc: 0.8576\n",
      "Epoch 5/20\n",
      "156/156 [==============================] - 341s 2s/step - loss: 0.1739 - acc: 0.9506 - val_loss: 3.0969 - val_acc: 0.5431\n",
      "Epoch 6/20\n",
      "156/156 [==============================] - 340s 2s/step - loss: 0.0538 - acc: 0.9841 - val_loss: 1.5184 - val_acc: 0.6498\n",
      "Epoch 7/20\n",
      "156/156 [==============================] - 340s 2s/step - loss: 0.0339 - acc: 0.9890 - val_loss: 1.8684 - val_acc: 0.6533\n",
      "Epoch 8/20\n",
      "156/156 [==============================] - 340s 2s/step - loss: 0.0303 - acc: 0.9905 - val_loss: 2.4755 - val_acc: 0.6150\n",
      "Epoch 9/20\n",
      "156/156 [==============================] - 341s 2s/step - loss: 0.0248 - acc: 0.9931 - val_loss: 1.3505 - val_acc: 0.6899\n"
     ]
    }
   ],
   "source": [
    "for layer in vgg16_model.layers[15:]:\n",
    "    layer.trainable = True\n",
    "    \n",
    "vgg16_model.compile(loss='categorical_crossentropy',\n",
    "#                     optimizer=optimizers.SGD(lr=0.0001, momentum=0.9),#,decay=1e-6,nesterov=True),\n",
    "                    optimizer=optimizers.Adam(lr=1e-3),\n",
    "                    metrics=['accuracy'])  \n",
    "\n",
    "vgg16_model.fit_generator(\n",
    "                        train_generator,\n",
    "                        steps_per_epoch=nb_train_samples // batch_size,\n",
    "                        epochs=20,\n",
    "                        validation_data=validation_generator,\n",
    "                        validation_steps=nb_val_samples // batch_size,\n",
    "                        callbacks=[TensorBoard(log_dir='./logs/vgg16_fine_tune'),\n",
    "                                   CSVLogger('vgg16_fine_tune'),\n",
    "                                   EarlyStopping(patience=5)])\n",
    "\n",
    "\n",
    "vgg16_model.save('vgg16_fine_tuning_model.h5')"
   ]
  },
  {
   "cell_type": "code",
   "execution_count": null,
   "metadata": {},
   "outputs": [],
   "source": []
  }
 ],
 "metadata": {
  "kernelspec": {
   "display_name": "Python [conda env:tensorflow_p36]",
   "language": "python",
   "name": "conda-env-tensorflow_p36-py"
  },
  "language_info": {
   "codemirror_mode": {
    "name": "ipython",
    "version": 3
   },
   "file_extension": ".py",
   "mimetype": "text/x-python",
   "name": "python",
   "nbconvert_exporter": "python",
   "pygments_lexer": "ipython3",
   "version": "3.6.4"
  }
 },
 "nbformat": 4,
 "nbformat_minor": 2
}
