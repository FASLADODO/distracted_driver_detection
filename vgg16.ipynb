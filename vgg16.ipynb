{
 "cells": [
  {
   "cell_type": "code",
   "execution_count": 1,
   "metadata": {},
   "outputs": [
    {
     "name": "stderr",
     "output_type": "stream",
     "text": [
      "/home/ubuntu/anaconda3/envs/tensorflow_p36/lib/python3.6/site-packages/h5py/__init__.py:36: FutureWarning: Conversion of the second argument of issubdtype from `float` to `np.floating` is deprecated. In future, it will be treated as `np.float64 == np.dtype(float).type`.\n",
      "  from ._conv import register_converters as _register_converters\n",
      "Using TensorFlow backend.\n",
      "/home/ubuntu/anaconda3/envs/tensorflow_p36/lib/python3.6/site-packages/matplotlib/__init__.py:962: UserWarning: Duplicate key in file \"/home/ubuntu/.config/matplotlib/matplotlibrc\", line #2\n",
      "  (fname, cnt))\n",
      "/home/ubuntu/anaconda3/envs/tensorflow_p36/lib/python3.6/site-packages/matplotlib/__init__.py:962: UserWarning: Duplicate key in file \"/home/ubuntu/.config/matplotlib/matplotlibrc\", line #3\n",
      "  (fname, cnt))\n"
     ]
    }
   ],
   "source": [
    "from keras.models import *\n",
    "from keras.layers import *\n",
    "from keras.optimizers import RMSprop,SGD,Adadelta,Adam\n",
    "from keras.preprocessing import image\n",
    "from keras.callbacks import TensorBoard,History,EarlyStopping,CSVLogger\n",
    "from keras.applications.vgg16 import VGG16,preprocess_input\n",
    "from sklearn.utils import shuffle\n",
    "import numpy as np\n",
    "import pandas as pd\n",
    "import h5py\n",
    "import os"
   ]
  },
  {
   "cell_type": "code",
   "execution_count": 2,
   "metadata": {},
   "outputs": [],
   "source": [
    "train_path = './train'\n",
    "validation_path = './validation'\n",
    "test_path = './test'\n",
    "assert(os.path.exists(train_path))\n",
    "assert(os.path.exists(validation_path))\n",
    "assert(os.path.exists(test_path))\n",
    "\n",
    "\n",
    "nb_train_samples = 20000\n",
    "nb_val_samples = 2424\n",
    "image_size = (224,224)\n",
    "batch_size = 128\n",
    "class_num = 10"
   ]
  },
  {
   "cell_type": "code",
   "execution_count": 3,
   "metadata": {},
   "outputs": [],
   "source": [
    "def image_preprocess(img_path):\n",
    "\n",
    "    img = image.load_img(img_path, target_size=(224, 224))\n",
    "    img = image.img_to_array(img)\n",
    "    img = np.expand_dims(img, axis=0)\n",
    "    img = preprocess_input(img)\n",
    "    \n",
    "    return img"
   ]
  },
  {
   "cell_type": "code",
   "execution_count": 16,
   "metadata": {},
   "outputs": [],
   "source": [
    "def test_model(model,test_path,csv='sample_submission.csv'):\n",
    "    columns = ['img', 'c0', 'c1', 'c2', 'c3', 'c4', 'c5', 'c6', 'c7', 'c8', 'c9']\n",
    "    df = pd.DataFrame(columns=columns)\n",
    "    \n",
    "    file_list = os.listdir(test_path)\n",
    "    for i,file in enumerate(file_list):\n",
    "        test_data = image_preprocess(test_path + '/' + file)\n",
    "        y_pred = model.predict(test_data,batch_size=1,verbose=0)\n",
    "        y_pred = np.clip(y_pred,0.001,0.999)\n",
    "        y_pred = y_pred[0].tolist()\n",
    "        df.loc[i] = [file] + y_pred\n",
    "#         if i < 5:\n",
    "#             print(y_pred)\n",
    "#         else:\n",
    "#             break\n",
    "        \n",
    "    df.to_csv(csv,index=None)"
   ]
  },
  {
   "cell_type": "code",
   "execution_count": 3,
   "metadata": {},
   "outputs": [],
   "source": [
    "vgg16_base_model = VGG16(weights='imagenet', include_top=False,input_shape=(224,224,3))\n",
    "\n",
    "x = vgg16_base_model.output\n",
    "x = Flatten()(x)\n",
    "x = Dense(256, activation='relu')(x)\n",
    "x = BatchNormalization()(x)\n",
    "x = Dropout(0.5)(x)\n",
    "# x = Dense(256, activation='relu')(x)\n",
    "# x = Dropout(0.5)(x)\n",
    "# x = GlobalAveragePooling2D()(x)\n",
    "x = Dense(256, activation='relu')(x)\n",
    "x = BatchNormalization()(x)\n",
    "x = Dropout(0.5)(x)\n",
    "x = Dense(10, activation='softmax')(x)\n",
    "\n",
    "vgg16_model = Model(inputs=vgg16_base_model.input, outputs=x)"
   ]
  },
  {
   "cell_type": "code",
   "execution_count": 4,
   "metadata": {},
   "outputs": [
    {
     "name": "stdout",
     "output_type": "stream",
     "text": [
      "0 input_1 False\n",
      "1 block1_conv1 False\n",
      "2 block1_conv2 False\n",
      "3 block1_pool False\n",
      "4 block2_conv1 False\n",
      "5 block2_conv2 False\n",
      "6 block2_pool False\n",
      "7 block3_conv1 False\n",
      "8 block3_conv2 False\n",
      "9 block3_conv3 False\n",
      "10 block3_pool False\n",
      "11 block4_conv1 False\n",
      "12 block4_conv2 False\n",
      "13 block4_conv3 False\n",
      "14 block4_pool False\n",
      "15 block5_conv1 False\n",
      "16 block5_conv2 False\n",
      "17 block5_conv3 False\n",
      "18 block5_pool False\n",
      "19 flatten_1 True\n",
      "20 dense_1 True\n",
      "21 batch_normalization_1 True\n",
      "22 dropout_1 True\n",
      "23 dense_2 True\n",
      "24 batch_normalization_2 True\n",
      "25 dropout_2 True\n",
      "26 dense_3 True\n"
     ]
    }
   ],
   "source": [
    "for layer in vgg16_model.layers[:19]:\n",
    "    layer.trainable = False\n",
    "\n",
    "for i,layer in enumerate(vgg16_model.layers):\n",
    "    print(i,layer.name,layer.trainable)"
   ]
  },
  {
   "cell_type": "code",
   "execution_count": 3,
   "metadata": {},
   "outputs": [
    {
     "name": "stdout",
     "output_type": "stream",
     "text": [
      "Found 20000 images belonging to 10 classes.\n",
      "Found 2424 images belonging to 10 classes.\n"
     ]
    }
   ],
   "source": [
    "train_datagen = image.ImageDataGenerator(\n",
    "                                         shear_range=0.15,\n",
    "                                         rotation_range=15,\n",
    "                                         height_shift_range=0.15,\n",
    "                                         width_shift_range=0.15,\n",
    "                                         channel_shift_range=10,\n",
    "                                         preprocessing_function=preprocess_input,\n",
    "                                         horizontal_flip=True)\n",
    "\n",
    "validation_datagen = image.ImageDataGenerator(preprocessing_function=preprocess_input)\n",
    "\n",
    "\n",
    "train_generator = train_datagen.flow_from_directory(\n",
    "                                    train_path,\n",
    "                                    target_size=image_size,\n",
    "                                    batch_size=batch_size,\n",
    "                                    class_mode='categorical',\n",
    "                                    shuffle=True)\n",
    "\n",
    "validation_generator = validation_datagen.flow_from_directory(\n",
    "                                    validation_path,\n",
    "                                    target_size=image_size,\n",
    "                                    batch_size=batch_size,                                    \n",
    "                                    class_mode='categorical',\n",
    "                                    shuffle=False)"
   ]
  },
  {
   "cell_type": "code",
   "execution_count": 6,
   "metadata": {},
   "outputs": [
    {
     "name": "stdout",
     "output_type": "stream",
     "text": [
      "Epoch 1/10\n",
      "156/156 [==============================] - 344s 2s/step - loss: 1.4764 - acc: 0.5324 - val_loss: 0.8617 - val_acc: 0.7374\n",
      "Epoch 2/10\n",
      "156/156 [==============================] - 345s 2s/step - loss: 0.5588 - acc: 0.8134 - val_loss: 0.9016 - val_acc: 0.7326\n",
      "Epoch 3/10\n",
      "156/156 [==============================] - 337s 2s/step - loss: 0.4024 - acc: 0.8652 - val_loss: 1.1008 - val_acc: 0.6895\n",
      "Epoch 4/10\n",
      "156/156 [==============================] - 337s 2s/step - loss: 0.3150 - acc: 0.8947 - val_loss: 1.2899 - val_acc: 0.6381\n"
     ]
    }
   ],
   "source": [
    "vgg16_model.compile(loss='categorical_crossentropy',\n",
    "                    #optimizer=optimizers.SGD(lr=1e-3, momentum=0.9) #,decay=1e-6,nesterov=True),\n",
    "                    #optimizer=optimizers.Adam(lr=1e-3),\n",
    "                    optimizer=Adadelta(),\n",
    "                    metrics=['accuracy'])\n",
    "\n",
    "# fine-tune the model\n",
    "vgg16_model.fit_generator(\n",
    "                        train_generator,\n",
    "                        steps_per_epoch=nb_train_samples // batch_size,\n",
    "                        epochs=10,\n",
    "                        validation_data=validation_generator,\n",
    "                        validation_steps=nb_val_samples // batch_size,\n",
    "                        callbacks=[EarlyStopping(patience=3)])\n",
    "\n",
    "vgg16_model.save('vgg16_model_fc.h5')"
   ]
  },
  {
   "cell_type": "code",
   "execution_count": 4,
   "metadata": {},
   "outputs": [
    {
     "name": "stdout",
     "output_type": "stream",
     "text": [
      "Epoch 1/50\n",
      "156/156 [==============================] - 531s 3s/step - loss: 1.8093 - acc: 0.4558 - val_loss: 3.2734 - val_acc: 0.3216\n",
      "Epoch 2/50\n",
      "156/156 [==============================] - 363s 2s/step - loss: 0.5128 - acc: 0.8310 - val_loss: 4.1825 - val_acc: 0.3057\n",
      "Epoch 3/50\n",
      "156/156 [==============================] - 364s 2s/step - loss: 0.2550 - acc: 0.9215 - val_loss: 0.7947 - val_acc: 0.7513\n",
      "Epoch 4/50\n",
      "156/156 [==============================] - 356s 2s/step - loss: 0.1754 - acc: 0.9458 - val_loss: 0.6117 - val_acc: 0.8227\n",
      "Epoch 5/50\n",
      "156/156 [==============================] - 360s 2s/step - loss: 0.1401 - acc: 0.9568 - val_loss: 1.6174 - val_acc: 0.6764\n",
      "Epoch 6/50\n",
      "156/156 [==============================] - 357s 2s/step - loss: 0.0968 - acc: 0.9724 - val_loss: 1.0122 - val_acc: 0.7657\n",
      "Epoch 7/50\n",
      "156/156 [==============================] - 355s 2s/step - loss: 0.0769 - acc: 0.9765 - val_loss: 1.7023 - val_acc: 0.6503\n",
      "Epoch 8/50\n",
      "156/156 [==============================] - 356s 2s/step - loss: 0.0742 - acc: 0.9775 - val_loss: 1.1592 - val_acc: 0.7944\n",
      "Epoch 9/50\n",
      "156/156 [==============================] - 356s 2s/step - loss: 0.0648 - acc: 0.9817 - val_loss: 1.6794 - val_acc: 0.6620\n",
      "Epoch 10/50\n",
      "156/156 [==============================] - 355s 2s/step - loss: 0.0616 - acc: 0.9813 - val_loss: 1.5637 - val_acc: 0.7178\n",
      "Epoch 11/50\n",
      "156/156 [==============================] - 354s 2s/step - loss: 0.0537 - acc: 0.9853 - val_loss: 1.4953 - val_acc: 0.7117\n",
      "Epoch 12/50\n",
      "156/156 [==============================] - 349s 2s/step - loss: 0.0613 - acc: 0.9825 - val_loss: 1.2989 - val_acc: 0.7217\n",
      "Epoch 13/50\n",
      "156/156 [==============================] - 347s 2s/step - loss: 0.0452 - acc: 0.9875 - val_loss: 1.0917 - val_acc: 0.7622\n",
      "Epoch 14/50\n",
      "156/156 [==============================] - 360s 2s/step - loss: 0.0371 - acc: 0.9890 - val_loss: 1.0869 - val_acc: 0.7618\n",
      "Epoch 15/50\n",
      "156/156 [==============================] - 355s 2s/step - loss: 0.0352 - acc: 0.9895 - val_loss: 1.2332 - val_acc: 0.7400\n",
      "Epoch 16/50\n",
      "156/156 [==============================] - 358s 2s/step - loss: 0.0302 - acc: 0.9916 - val_loss: 1.1283 - val_acc: 0.8049\n",
      "Epoch 17/50\n",
      "156/156 [==============================] - 357s 2s/step - loss: 0.0278 - acc: 0.9921 - val_loss: 1.6317 - val_acc: 0.6877\n",
      "Epoch 18/50\n",
      "156/156 [==============================] - 343s 2s/step - loss: 0.0439 - acc: 0.9875 - val_loss: 1.0181 - val_acc: 0.8040\n",
      "Epoch 19/50\n",
      "156/156 [==============================] - 343s 2s/step - loss: 0.0319 - acc: 0.9899 - val_loss: 0.7477 - val_acc: 0.8449\n",
      "Epoch 20/50\n",
      "156/156 [==============================] - 340s 2s/step - loss: 0.0328 - acc: 0.9905 - val_loss: 1.4205 - val_acc: 0.7470\n",
      "Epoch 21/50\n",
      "156/156 [==============================] - 348s 2s/step - loss: 0.0218 - acc: 0.9934 - val_loss: 0.6189 - val_acc: 0.8689\n",
      "Epoch 22/50\n",
      "156/156 [==============================] - 347s 2s/step - loss: 0.0287 - acc: 0.9914 - val_loss: 1.3126 - val_acc: 0.7618\n",
      "Epoch 23/50\n",
      "156/156 [==============================] - 350s 2s/step - loss: 0.0231 - acc: 0.9929 - val_loss: 1.8571 - val_acc: 0.6263\n",
      "Epoch 24/50\n",
      "156/156 [==============================] - 350s 2s/step - loss: 0.0224 - acc: 0.9925 - val_loss: 1.3275 - val_acc: 0.7753\n",
      "Epoch 25/50\n",
      "156/156 [==============================] - 351s 2s/step - loss: 0.0210 - acc: 0.9935 - val_loss: 0.6963 - val_acc: 0.8537\n",
      "Epoch 26/50\n",
      "156/156 [==============================] - 349s 2s/step - loss: 0.0167 - acc: 0.9945 - val_loss: 1.6299 - val_acc: 0.6960\n",
      "Epoch 27/50\n",
      "156/156 [==============================] - 344s 2s/step - loss: 0.0179 - acc: 0.9946 - val_loss: 1.3919 - val_acc: 0.7470\n",
      "Epoch 28/50\n",
      "156/156 [==============================] - 346s 2s/step - loss: 0.0222 - acc: 0.9933 - val_loss: 2.0814 - val_acc: 0.6189\n",
      "Epoch 29/50\n",
      "156/156 [==============================] - 345s 2s/step - loss: 0.0218 - acc: 0.9932 - val_loss: 0.8055 - val_acc: 0.8389\n",
      "Epoch 30/50\n",
      "156/156 [==============================] - 345s 2s/step - loss: 0.0279 - acc: 0.9910 - val_loss: 1.0700 - val_acc: 0.8101\n",
      "Epoch 31/50\n",
      "156/156 [==============================] - 343s 2s/step - loss: 0.0139 - acc: 0.9953 - val_loss: 0.5897 - val_acc: 0.8950\n",
      "Epoch 32/50\n",
      "156/156 [==============================] - 349s 2s/step - loss: 0.0135 - acc: 0.9954 - val_loss: 0.6623 - val_acc: 0.8711\n",
      "Epoch 33/50\n",
      "156/156 [==============================] - 350s 2s/step - loss: 0.0126 - acc: 0.9955 - val_loss: 1.1929 - val_acc: 0.8010\n",
      "Epoch 34/50\n",
      "156/156 [==============================] - 347s 2s/step - loss: 0.0167 - acc: 0.9949 - val_loss: 0.8623 - val_acc: 0.8441\n",
      "Epoch 35/50\n",
      "156/156 [==============================] - 346s 2s/step - loss: 0.0141 - acc: 0.9956 - val_loss: 0.8620 - val_acc: 0.8502\n",
      "Epoch 36/50\n",
      "156/156 [==============================] - 353s 2s/step - loss: 0.0225 - acc: 0.9932 - val_loss: 4.0587 - val_acc: 0.5039\n",
      "Epoch 37/50\n",
      "156/156 [==============================] - 339s 2s/step - loss: 0.0231 - acc: 0.9923 - val_loss: 0.9344 - val_acc: 0.8140\n",
      "Epoch 38/50\n",
      "156/156 [==============================] - 339s 2s/step - loss: 0.0121 - acc: 0.9968 - val_loss: 0.7964 - val_acc: 0.8175\n",
      "Epoch 39/50\n",
      "156/156 [==============================] - 344s 2s/step - loss: 0.0184 - acc: 0.9945 - val_loss: 1.2753 - val_acc: 0.7786\n",
      "Epoch 40/50\n",
      "156/156 [==============================] - 342s 2s/step - loss: 0.0149 - acc: 0.9951 - val_loss: 1.1535 - val_acc: 0.7818\n",
      "Epoch 41/50\n",
      "156/156 [==============================] - 341s 2s/step - loss: 0.0132 - acc: 0.9960 - val_loss: 0.5490 - val_acc: 0.8828\n",
      "Epoch 42/50\n",
      "156/156 [==============================] - 340s 2s/step - loss: 0.0109 - acc: 0.9963 - val_loss: 1.0301 - val_acc: 0.8075\n",
      "Epoch 43/50\n",
      "156/156 [==============================] - 341s 2s/step - loss: 0.0169 - acc: 0.9949 - val_loss: 3.3650 - val_acc: 0.5880\n",
      "Epoch 44/50\n",
      "156/156 [==============================] - 347s 2s/step - loss: 0.0150 - acc: 0.9958 - val_loss: 3.3551 - val_acc: 0.6542\n",
      "Epoch 45/50\n",
      "156/156 [==============================] - 341s 2s/step - loss: 0.0159 - acc: 0.9952 - val_loss: 0.8636 - val_acc: 0.8362\n",
      "Epoch 46/50\n",
      "156/156 [==============================] - 345s 2s/step - loss: 0.0160 - acc: 0.9964 - val_loss: 2.0920 - val_acc: 0.7365\n",
      "Epoch 47/50\n",
      "156/156 [==============================] - 338s 2s/step - loss: 0.0101 - acc: 0.9970 - val_loss: 1.5529 - val_acc: 0.7500\n",
      "Epoch 48/50\n",
      "156/156 [==============================] - 339s 2s/step - loss: 0.0069 - acc: 0.9977 - val_loss: 1.1060 - val_acc: 0.8284\n",
      "Epoch 49/50\n",
      "156/156 [==============================] - 342s 2s/step - loss: 0.0118 - acc: 0.9962 - val_loss: 1.4591 - val_acc: 0.7709\n",
      "Epoch 50/50\n",
      "156/156 [==============================] - 334s 2s/step - loss: 0.0129 - acc: 0.9956 - val_loss: 0.8106 - val_acc: 0.8532\n"
     ]
    },
    {
     "data": {
      "text/plain": [
       "<keras.callbacks.History at 0x7fe670972da0>"
      ]
     },
     "execution_count": 4,
     "metadata": {},
     "output_type": "execute_result"
    }
   ],
   "source": [
    "vgg16_model = load_model('vgg16_model_fc.h5')\n",
    "\n",
    "for layer in vgg16_model.layers[:11]:\n",
    "    layer.trainable = False\n",
    "    \n",
    "for layer in vgg16_model.layers[11:]:\n",
    "    layer.trainable = True\n",
    "    \n",
    "vgg16_model.compile(loss='categorical_crossentropy',\n",
    "#                     optimizer=optimizers.SGD(lr=1e-4, momentum=0.9,decay=1e-6,nesterov=True),\n",
    "                    optimizer=optimizers.Adam(),\n",
    "                    metrics=['accuracy'])  \n",
    "\n",
    "vgg16_model.fit_generator(\n",
    "                        train_generator,\n",
    "                        steps_per_epoch=nb_train_samples // batch_size,\n",
    "                        epochs=50,\n",
    "                        validation_data=validation_generator,\n",
    "                        validation_steps=nb_val_samples // batch_size,\n",
    "                        callbacks=[TensorBoard(log_dir='./logs/vgg16_fine_tune'),\n",
    "                                   CSVLogger('vgg16_fine_tune')])\n",
    "#                                    EarlyStopping(patience=10)])"
   ]
  },
  {
   "cell_type": "code",
   "execution_count": 5,
   "metadata": {},
   "outputs": [],
   "source": [
    "vgg16_model.save('vgg16_adam_50epoch')"
   ]
  },
  {
   "cell_type": "code",
   "execution_count": 6,
   "metadata": {},
   "outputs": [
    {
     "name": "stdout",
     "output_type": "stream",
     "text": [
      "Epoch 1/50\n",
      "156/156 [==============================] - 365s 2s/step - loss: 0.0075 - acc: 0.9975 - val_loss: 0.7186 - val_acc: 0.8776\n",
      "Epoch 2/50\n",
      "156/156 [==============================] - 354s 2s/step - loss: 0.0090 - acc: 0.9969 - val_loss: 0.6612 - val_acc: 0.8837\n",
      "Epoch 3/50\n",
      "156/156 [==============================] - 356s 2s/step - loss: 0.0079 - acc: 0.9977 - val_loss: 0.6605 - val_acc: 0.8820\n",
      "Epoch 4/50\n",
      "156/156 [==============================] - 354s 2s/step - loss: 0.0077 - acc: 0.9972 - val_loss: 0.6876 - val_acc: 0.8802\n",
      "Epoch 5/50\n",
      "156/156 [==============================] - 353s 2s/step - loss: 0.0064 - acc: 0.9979 - val_loss: 0.7605 - val_acc: 0.8659\n",
      "Epoch 6/50\n",
      "156/156 [==============================] - 353s 2s/step - loss: 0.0067 - acc: 0.9978 - val_loss: 0.7678 - val_acc: 0.8641\n",
      "Epoch 7/50\n",
      "156/156 [==============================] - 354s 2s/step - loss: 0.0068 - acc: 0.9975 - val_loss: 0.7761 - val_acc: 0.8619\n",
      "Epoch 8/50\n",
      "156/156 [==============================] - 349s 2s/step - loss: 0.0078 - acc: 0.9974 - val_loss: 0.7717 - val_acc: 0.8628\n",
      "Epoch 9/50\n",
      "156/156 [==============================] - 349s 2s/step - loss: 0.0081 - acc: 0.9974 - val_loss: 0.7712 - val_acc: 0.8624\n"
     ]
    },
    {
     "data": {
      "text/plain": [
       "<keras.callbacks.History at 0x7fe670957898>"
      ]
     },
     "execution_count": 6,
     "metadata": {},
     "output_type": "execute_result"
    }
   ],
   "source": [
    "vgg16_model.compile(loss='categorical_crossentropy',\n",
    "                    optimizer=optimizers.SGD(lr=1e-4, momentum=0.9,decay=1e-6,nesterov=True),\n",
    "#                     optimizer=optimizers.Adam(),\n",
    "                    metrics=['accuracy'])  \n",
    "\n",
    "vgg16_model.fit_generator(\n",
    "                        train_generator,\n",
    "                        steps_per_epoch=nb_train_samples // batch_size,\n",
    "                        epochs=50,\n",
    "                        validation_data=validation_generator,\n",
    "                        validation_steps=nb_val_samples // batch_size,\n",
    "                        callbacks=[TensorBoard(log_dir='./logs/vgg16_fine_tune'),\n",
    "                                   CSVLogger('vgg16_fine_tune'),\n",
    "                                   EarlyStopping(patience=6)])"
   ]
  },
  {
   "cell_type": "code",
   "execution_count": 7,
   "metadata": {},
   "outputs": [],
   "source": [
    "vgg16_model.save('vgg16_final_model.h5')"
   ]
  },
  {
   "cell_type": "code",
   "execution_count": 17,
   "metadata": {},
   "outputs": [],
   "source": [
    "vgg16_model = load_model('vgg16_final_model.h5')\n",
    "\n",
    "test_model(vgg16_model,test_path,csv='vgg16_submission.csv')"
   ]
  },
  {
   "cell_type": "code",
   "execution_count": null,
   "metadata": {},
   "outputs": [],
   "source": []
  }
 ],
 "metadata": {
  "kernelspec": {
   "display_name": "Python [conda env:tensorflow_p36]",
   "language": "python",
   "name": "conda-env-tensorflow_p36-py"
  },
  "language_info": {
   "codemirror_mode": {
    "name": "ipython",
    "version": 3
   },
   "file_extension": ".py",
   "mimetype": "text/x-python",
   "name": "python",
   "nbconvert_exporter": "python",
   "pygments_lexer": "ipython3",
   "version": "3.6.4"
  }
 },
 "nbformat": 4,
 "nbformat_minor": 2
}
