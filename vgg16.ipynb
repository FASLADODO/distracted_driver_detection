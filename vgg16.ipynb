{
 "cells": [
  {
   "cell_type": "code",
   "execution_count": 1,
   "metadata": {},
   "outputs": [
    {
     "name": "stderr",
     "output_type": "stream",
     "text": [
      "/home/ubuntu/anaconda3/envs/tensorflow_p36/lib/python3.6/site-packages/h5py/__init__.py:36: FutureWarning: Conversion of the second argument of issubdtype from `float` to `np.floating` is deprecated. In future, it will be treated as `np.float64 == np.dtype(float).type`.\n",
      "  from ._conv import register_converters as _register_converters\n",
      "Using TensorFlow backend.\n",
      "/home/ubuntu/anaconda3/envs/tensorflow_p36/lib/python3.6/site-packages/matplotlib/__init__.py:962: UserWarning: Duplicate key in file \"/home/ubuntu/.config/matplotlib/matplotlibrc\", line #2\n",
      "  (fname, cnt))\n",
      "/home/ubuntu/anaconda3/envs/tensorflow_p36/lib/python3.6/site-packages/matplotlib/__init__.py:962: UserWarning: Duplicate key in file \"/home/ubuntu/.config/matplotlib/matplotlibrc\", line #3\n",
      "  (fname, cnt))\n"
     ]
    }
   ],
   "source": [
    "from keras.models import *\n",
    "from keras.layers import *\n",
    "from keras.optimizers import RMSprop,SGD,Adadelta,Adam\n",
    "from keras.preprocessing import image\n",
    "from keras.callbacks import TensorBoard,History,EarlyStopping,CSVLogger\n",
    "from keras.applications.vgg16 import VGG16,preprocess_input\n",
    "from sklearn.utils import shuffle\n",
    "import numpy as np\n",
    "import pandas as pd\n",
    "import h5py\n",
    "import os"
   ]
  },
  {
   "cell_type": "code",
   "execution_count": 2,
   "metadata": {},
   "outputs": [],
   "source": [
    "train_path = './train'\n",
    "validation_path = './validation'\n",
    "test_path = './test'\n",
    "assert(os.path.exists(train_path))\n",
    "assert(os.path.exists(validation_path))\n",
    "assert(os.path.exists(test_path))\n",
    "\n",
    "\n",
    "nb_train_samples = 20000\n",
    "nb_val_samples = 2424\n",
    "image_size = (224,224)\n",
    "batch_size = 128\n",
    "class_num = 10"
   ]
  },
  {
   "cell_type": "code",
   "execution_count": 3,
   "metadata": {},
   "outputs": [],
   "source": [
    "def image_preprocess(img_path):\n",
    "\n",
    "    img = image.load_img(img_path, target_size=(224, 224))\n",
    "    img = image.img_to_array(img)\n",
    "    img = np.expand_dims(img, axis=0)\n",
    "    img = preprocess_input(img)\n",
    "    \n",
    "    return img"
   ]
  },
  {
   "cell_type": "code",
   "execution_count": 4,
   "metadata": {},
   "outputs": [],
   "source": [
    "def test_model(model,test_path,csv='sample_submission.csv'):\n",
    "    columns = ['img', 'c0', 'c1', 'c2', 'c3', 'c4', 'c5', 'c6', 'c7', 'c8', 'c9']\n",
    "    df = pd.DataFrame(columns=columns)\n",
    "    \n",
    "    file_list = os.listdir(test_path)\n",
    "    for i,file in enumerate(file_list):\n",
    "        test_data = image_preprocess(test_path + '/' + file)\n",
    "        y_pred = model.predict(test_data,batch_size=1,verbose=0)\n",
    "        y_pred = np.clip(y_pred,0.001,0.999)\n",
    "        y_pred = y_pred[0].tolist()\n",
    "        df.loc[i] = [file] + y_pred\n",
    "        \n",
    "    df.to_csv(csv,index=None)"
   ]
  },
  {
   "cell_type": "code",
   "execution_count": 8,
   "metadata": {},
   "outputs": [],
   "source": [
    "vgg16_base_model = VGG16(weights='imagenet', include_top=False,input_shape=(224,224,3))\n",
    "\n",
    "x = vgg16_base_model.output\n",
    "\n",
    "x = Flatten()(x)\n",
    "x = Dense(256, activation='relu')(x)\n",
    "x = BatchNormalization()(x)\n",
    "x = Dropout(0.5)(x)\n",
    "\n",
    "x = Dense(256, activation='relu')(x)\n",
    "x = BatchNormalization()(x)\n",
    "x = Dropout(0.5)(x)\n",
    "predict = Dense(10, activation='softmax')(x)\n",
    "\n",
    "vgg16_model = Model(inputs=vgg16_base_model.input, outputs=predict)"
   ]
  },
  {
   "cell_type": "code",
   "execution_count": 5,
   "metadata": {},
   "outputs": [
    {
     "name": "stdout",
     "output_type": "stream",
     "text": [
      "Found 20000 images belonging to 10 classes.\n",
      "Found 2424 images belonging to 10 classes.\n"
     ]
    }
   ],
   "source": [
    "train_datagen = image.ImageDataGenerator(\n",
    "                                         shear_range=0.2,\n",
    "                                         zoom_range=0.2,\n",
    "                                         rotation_range=15,\n",
    "                                         height_shift_range=0.2,\n",
    "                                         width_shift_range=0.2,\n",
    "                                         channel_shift_range=10,\n",
    "                                         preprocessing_function=preprocess_input,\n",
    "                                         horizontal_flip=True)\n",
    "\n",
    "validation_datagen = image.ImageDataGenerator(preprocessing_function=preprocess_input)\n",
    "\n",
    "\n",
    "train_generator = train_datagen.flow_from_directory(\n",
    "                                    train_path,\n",
    "                                    target_size=image_size,\n",
    "                                    batch_size=batch_size,\n",
    "                                    class_mode='categorical',\n",
    "                                    shuffle=True)\n",
    "\n",
    "validation_generator = validation_datagen.flow_from_directory(\n",
    "                                    validation_path,\n",
    "                                    target_size=image_size,\n",
    "                                    batch_size=batch_size,                                    \n",
    "                                    class_mode='categorical',\n",
    "                                    shuffle=False)"
   ]
  },
  {
   "cell_type": "code",
   "execution_count": 9,
   "metadata": {},
   "outputs": [
    {
     "name": "stdout",
     "output_type": "stream",
     "text": [
      "0 input_1 False\n",
      "1 block1_conv1 False\n",
      "2 block1_conv2 False\n",
      "3 block1_pool False\n",
      "4 block2_conv1 False\n",
      "5 block2_conv2 False\n",
      "6 block2_pool False\n",
      "7 block3_conv1 False\n",
      "8 block3_conv2 False\n",
      "9 block3_conv3 False\n",
      "10 block3_pool False\n",
      "11 block4_conv1 False\n",
      "12 block4_conv2 False\n",
      "13 block4_conv3 False\n",
      "14 block4_pool False\n",
      "15 block5_conv1 False\n",
      "16 block5_conv2 False\n",
      "17 block5_conv3 False\n",
      "18 block5_pool False\n",
      "19 flatten_1 True\n",
      "20 dense_1 True\n",
      "21 batch_normalization_1 True\n",
      "22 dropout_1 True\n",
      "23 dense_2 True\n",
      "24 batch_normalization_2 True\n",
      "25 dropout_2 True\n",
      "26 dense_3 True\n"
     ]
    }
   ],
   "source": [
    "for layer in vgg16_model.layers[:19]:\n",
    "    layer.trainable = False\n",
    "\n",
    "for i,layer in enumerate(vgg16_model.layers):\n",
    "    print(i,layer.name,layer.trainable)"
   ]
  },
  {
   "cell_type": "code",
   "execution_count": null,
   "metadata": {},
   "outputs": [],
   "source": []
  },
  {
   "cell_type": "code",
   "execution_count": 11,
   "metadata": {},
   "outputs": [
    {
     "name": "stdout",
     "output_type": "stream",
     "text": [
      "Epoch 1/15\n",
      "156/156 [==============================] - 346s 2s/step - loss: 1.9490 - acc: 0.3983 - val_loss: 0.8372 - val_acc: 0.7040\n",
      "Epoch 2/15\n",
      "156/156 [==============================] - 343s 2s/step - loss: 0.8677 - acc: 0.7075 - val_loss: 0.9587 - val_acc: 0.6594\n",
      "Epoch 3/15\n",
      "156/156 [==============================] - 342s 2s/step - loss: 0.6055 - acc: 0.7956 - val_loss: 1.0866 - val_acc: 0.6533\n",
      "Epoch 4/15\n",
      "156/156 [==============================] - 343s 2s/step - loss: 0.4961 - acc: 0.8360 - val_loss: 1.1221 - val_acc: 0.6494\n",
      "Epoch 5/15\n",
      "156/156 [==============================] - 341s 2s/step - loss: 0.4349 - acc: 0.8555 - val_loss: 1.1677 - val_acc: 0.6864\n",
      "Epoch 6/15\n",
      "156/156 [==============================] - 340s 2s/step - loss: 0.4115 - acc: 0.8662 - val_loss: 1.1821 - val_acc: 0.6616\n"
     ]
    }
   ],
   "source": [
    "vgg16_model.compile(loss='categorical_crossentropy',\n",
    "                    #optimizer=optimizers.SGD(lr=1e-3, momentum=0.9) #,decay=1e-6,nesterov=True),\n",
    "                    optimizer=optimizers.Adam(lr=1e-3),\n",
    "#                     optimizer=Adadelta(),\n",
    "                    metrics=['accuracy'])\n",
    "\n",
    "# fine-tune the model\n",
    "vgg16_model.fit_generator(\n",
    "                        train_generator,\n",
    "                        steps_per_epoch=nb_train_samples // batch_size,\n",
    "                        epochs=15,\n",
    "                        validation_data=validation_generator,\n",
    "                        validation_steps=nb_val_samples // batch_size,\n",
    "                        callbacks=[EarlyStopping(patience=5)])\n",
    "\n",
    "vgg16_model.save('vgg16_model_fc.h5')"
   ]
  },
  {
   "cell_type": "code",
   "execution_count": 6,
   "metadata": {},
   "outputs": [
    {
     "name": "stdout",
     "output_type": "stream",
     "text": [
      "Epoch 1/10\n",
      "156/156 [==============================] - 501s 3s/step - loss: 0.4978 - acc: 0.8349 - val_loss: 1.6173 - val_acc: 0.5812\n",
      "Epoch 2/10\n",
      "156/156 [==============================] - 351s 2s/step - loss: 0.4881 - acc: 0.8382 - val_loss: 1.6326 - val_acc: 0.5745\n",
      "Epoch 3/10\n",
      "156/156 [==============================] - 342s 2s/step - loss: 0.4780 - acc: 0.8424 - val_loss: 1.5949 - val_acc: 0.5780\n",
      "Epoch 4/10\n",
      "156/156 [==============================] - 341s 2s/step - loss: 0.4750 - acc: 0.8413 - val_loss: 1.5597 - val_acc: 0.5902\n",
      "Epoch 5/10\n",
      "156/156 [==============================] - 341s 2s/step - loss: 0.4683 - acc: 0.8477 - val_loss: 1.4725 - val_acc: 0.6045\n",
      "Epoch 6/10\n",
      "156/156 [==============================] - 340s 2s/step - loss: 0.4564 - acc: 0.8469 - val_loss: 1.4280 - val_acc: 0.6115\n",
      "Epoch 7/10\n",
      "156/156 [==============================] - 339s 2s/step - loss: 0.4642 - acc: 0.8438 - val_loss: 1.4996 - val_acc: 0.5919\n",
      "Epoch 8/10\n",
      "156/156 [==============================] - 340s 2s/step - loss: 0.4575 - acc: 0.8482 - val_loss: 1.5105 - val_acc: 0.5906\n",
      "Epoch 9/10\n",
      "156/156 [==============================] - 337s 2s/step - loss: 0.4530 - acc: 0.8497 - val_loss: 1.4448 - val_acc: 0.6054\n",
      "Epoch 10/10\n",
      "156/156 [==============================] - 338s 2s/step - loss: 0.4522 - acc: 0.8505 - val_loss: 1.3990 - val_acc: 0.6202\n"
     ]
    }
   ],
   "source": [
    "# vgg16_model = load_model('vgg16_model_fc.h5')\n",
    "\n",
    "# vgg16_model.compile(loss='categorical_crossentropy',\n",
    "#                     optimizer=optimizers.SGD(lr=1e-4, momentum=0.9), #,decay=1e-6,nesterov=True),\n",
    "#                     #optimizer=optimizers.Adam(lr=1e-3),\n",
    "# #                     optimizer=Adadelta(),\n",
    "#                     metrics=['accuracy'])\n",
    "\n",
    "# # fine-tune the model\n",
    "# vgg16_model.fit_generator(\n",
    "#                         train_generator,\n",
    "#                         steps_per_epoch=nb_train_samples // batch_size,\n",
    "#                         epochs=10,\n",
    "#                         validation_data=validation_generator,\n",
    "#                         validation_steps=nb_val_samples // batch_size,\n",
    "#                         callbacks=[EarlyStopping(patience=5)])\n",
    "\n",
    "# vgg16_model.save('vgg16_model_fc.h5')"
   ]
  },
  {
   "cell_type": "code",
   "execution_count": 13,
   "metadata": {},
   "outputs": [
    {
     "name": "stdout",
     "output_type": "stream",
     "text": [
      "Epoch 1/20\n",
      "156/156 [==============================] - 347s 2s/step - loss: 0.5546 - acc: 0.8349 - val_loss: 0.8019 - val_acc: 0.8203\n",
      "Epoch 2/20\n",
      "156/156 [==============================] - 345s 2s/step - loss: 0.1958 - acc: 0.9400 - val_loss: 0.5082 - val_acc: 0.8911\n",
      "Epoch 3/20\n",
      "156/156 [==============================] - 345s 2s/step - loss: 0.0988 - acc: 0.9715 - val_loss: 0.4646 - val_acc: 0.8902\n",
      "Epoch 4/20\n",
      "156/156 [==============================] - 342s 2s/step - loss: 0.0644 - acc: 0.9808 - val_loss: 0.6298 - val_acc: 0.8297\n",
      "Epoch 5/20\n",
      "156/156 [==============================] - 343s 2s/step - loss: 0.0586 - acc: 0.9833 - val_loss: 1.2576 - val_acc: 0.7753\n",
      "Epoch 6/20\n",
      "156/156 [==============================] - 343s 2s/step - loss: 0.0598 - acc: 0.9817 - val_loss: 2.4103 - val_acc: 0.6250\n",
      "Epoch 7/20\n",
      "156/156 [==============================] - 345s 2s/step - loss: 0.0478 - acc: 0.9858 - val_loss: 0.4968 - val_acc: 0.8741\n",
      "Epoch 8/20\n",
      "156/156 [==============================] - 340s 2s/step - loss: 0.0446 - acc: 0.9870 - val_loss: 0.4813 - val_acc: 0.9068\n"
     ]
    }
   ],
   "source": [
    "vgg16_model = load_model('vgg16_model_fc.h5')\n",
    "\n",
    "for layer in vgg16_model.layers[:15]:\n",
    "    layer.trainable = False\n",
    "    \n",
    "for layer in vgg16_model.layers[15:]:\n",
    "    layer.trainable = True\n",
    "    \n",
    "vgg16_model.compile(loss='categorical_crossentropy',\n",
    "#                     optimizer=optimizers.SGD(lr=1e-3, momentum=0.9),\n",
    "                    optimizer=optimizers.Adam(),\n",
    "#                     optimizer=Adadelta(),\n",
    "                    metrics=['accuracy'])  \n",
    "\n",
    "vgg16_model.fit_generator(\n",
    "                        train_generator,\n",
    "                        steps_per_epoch=nb_train_samples // batch_size,\n",
    "                        epochs=20,\n",
    "                        validation_data=validation_generator,\n",
    "                        validation_steps=nb_val_samples // batch_size,\n",
    "                        callbacks=[TensorBoard(log_dir='./logs/vgg16_fine_tune'),\n",
    "                                   CSVLogger('vgg16_fine_tune'),\n",
    "                                   EarlyStopping(patience=5)])\n",
    "\n",
    "vgg16_model.save('vgg16_model_15.h5')"
   ]
  },
  {
   "cell_type": "code",
   "execution_count": 17,
   "metadata": {},
   "outputs": [
    {
     "name": "stdout",
     "output_type": "stream",
     "text": [
      "Epoch 1/20\n",
      "156/156 [==============================] - 354s 2s/step - loss: 0.0299 - acc: 0.9917 - val_loss: 0.4400 - val_acc: 0.8932\n",
      "Epoch 2/20\n",
      "156/156 [==============================] - 351s 2s/step - loss: 0.0263 - acc: 0.9936 - val_loss: 0.4189 - val_acc: 0.8859\n",
      "Epoch 3/20\n",
      "156/156 [==============================] - 346s 2s/step - loss: 0.0223 - acc: 0.9936 - val_loss: 0.4046 - val_acc: 0.8859\n",
      "Epoch 4/20\n",
      "156/156 [==============================] - 350s 2s/step - loss: 0.0197 - acc: 0.9947 - val_loss: 0.5079 - val_acc: 0.8619\n",
      "Epoch 5/20\n",
      "156/156 [==============================] - 351s 2s/step - loss: 0.0180 - acc: 0.9947 - val_loss: 0.5060 - val_acc: 0.8641\n",
      "Epoch 6/20\n",
      "156/156 [==============================] - 349s 2s/step - loss: 0.0152 - acc: 0.9960 - val_loss: 0.5075 - val_acc: 0.8545\n",
      "Epoch 7/20\n",
      "156/156 [==============================] - 346s 2s/step - loss: 0.0170 - acc: 0.9954 - val_loss: 0.5396 - val_acc: 0.8332\n",
      "Epoch 8/20\n",
      "156/156 [==============================] - 349s 2s/step - loss: 0.0165 - acc: 0.9958 - val_loss: 0.5034 - val_acc: 0.8515\n"
     ]
    }
   ],
   "source": [
    "vgg16_model = load_model('vgg16_model_15.h5')\n",
    "\n",
    "for layer in vgg16_model.layers[:11]:\n",
    "    layer.trainable = False\n",
    "    \n",
    "for layer in vgg16_model.layers[11:]:\n",
    "    layer.trainable = True\n",
    "    \n",
    "vgg16_model.compile(loss='categorical_crossentropy',\n",
    "                    optimizer=optimizers.SGD(lr=1e-4, momentum=0.9),\n",
    "#                     optimizer=optimizers.Adam(),\n",
    "                    metrics=['accuracy'])  \n",
    "\n",
    "vgg16_model.fit_generator(\n",
    "                        train_generator,\n",
    "                        steps_per_epoch=nb_train_samples // batch_size,\n",
    "                        epochs=20,\n",
    "                        validation_data=validation_generator,\n",
    "                        validation_steps=nb_val_samples // batch_size,\n",
    "                        callbacks=[TensorBoard(log_dir='./logs/vgg16_fine_tune'),\n",
    "                                   CSVLogger('vgg16_fine_tune'),\n",
    "                                   EarlyStopping(patience=5)])\n",
    "\n",
    "vgg16_model.save('vgg16_model_11.h5')"
   ]
  },
  {
   "cell_type": "code",
   "execution_count": 8,
   "metadata": {},
   "outputs": [
    {
     "name": "stdout",
     "output_type": "stream",
     "text": [
      "Epoch 1/50\n",
      "156/156 [==============================] - 505s 3s/step - loss: 0.0161 - acc: 0.9954 - val_loss: 0.4745 - val_acc: 0.8620\n",
      "Epoch 2/50\n",
      "156/156 [==============================] - 354s 2s/step - loss: 0.0162 - acc: 0.9957 - val_loss: 0.4456 - val_acc: 0.8672\n",
      "Epoch 3/50\n",
      "156/156 [==============================] - 347s 2s/step - loss: 0.0157 - acc: 0.9957 - val_loss: 0.4561 - val_acc: 0.8628\n",
      "Epoch 4/50\n",
      "156/156 [==============================] - 347s 2s/step - loss: 0.0156 - acc: 0.9957 - val_loss: 0.4847 - val_acc: 0.8576\n",
      "Epoch 5/50\n",
      "156/156 [==============================] - 348s 2s/step - loss: 0.0191 - acc: 0.9947 - val_loss: 0.4947 - val_acc: 0.8563\n",
      "Epoch 6/50\n",
      "156/156 [==============================] - 350s 2s/step - loss: 0.0151 - acc: 0.9963 - val_loss: 0.4819 - val_acc: 0.8619\n",
      "Epoch 7/50\n",
      "156/156 [==============================] - 343s 2s/step - loss: 0.0174 - acc: 0.9951 - val_loss: 0.5140 - val_acc: 0.8484\n",
      "Epoch 8/50\n",
      "156/156 [==============================] - 343s 2s/step - loss: 0.0154 - acc: 0.9957 - val_loss: 0.5308 - val_acc: 0.8393\n",
      "Epoch 9/50\n",
      "156/156 [==============================] - 345s 2s/step - loss: 0.0158 - acc: 0.9954 - val_loss: 0.5112 - val_acc: 0.8476\n",
      "Epoch 10/50\n",
      "156/156 [==============================] - 343s 2s/step - loss: 0.0147 - acc: 0.9961 - val_loss: 0.5153 - val_acc: 0.8480\n",
      "Epoch 11/50\n",
      "156/156 [==============================] - 345s 2s/step - loss: 0.0152 - acc: 0.9962 - val_loss: 0.5122 - val_acc: 0.8463\n",
      "Epoch 12/50\n",
      "156/156 [==============================] - 342s 2s/step - loss: 0.0147 - acc: 0.9961 - val_loss: 0.5208 - val_acc: 0.8463\n",
      "Epoch 13/50\n",
      "156/156 [==============================] - 344s 2s/step - loss: 0.0157 - acc: 0.9959 - val_loss: 0.5311 - val_acc: 0.8397\n",
      "Epoch 14/50\n",
      "156/156 [==============================] - 341s 2s/step - loss: 0.0147 - acc: 0.9961 - val_loss: 0.5146 - val_acc: 0.8449\n",
      "Epoch 15/50\n",
      "156/156 [==============================] - 344s 2s/step - loss: 0.0163 - acc: 0.9965 - val_loss: 0.5120 - val_acc: 0.8463\n",
      "Epoch 16/50\n",
      "156/156 [==============================] - 345s 2s/step - loss: 0.0149 - acc: 0.9966 - val_loss: 0.4514 - val_acc: 0.8641\n",
      "Epoch 17/50\n",
      "156/156 [==============================] - 345s 2s/step - loss: 0.0159 - acc: 0.9963 - val_loss: 0.4445 - val_acc: 0.8645\n",
      "Epoch 18/50\n",
      "156/156 [==============================] - 346s 2s/step - loss: 0.0158 - acc: 0.9959 - val_loss: 0.5272 - val_acc: 0.8419\n",
      "Epoch 19/50\n",
      "156/156 [==============================] - 344s 2s/step - loss: 0.0150 - acc: 0.9959 - val_loss: 0.5208 - val_acc: 0.8458\n",
      "Epoch 20/50\n",
      "156/156 [==============================] - 348s 2s/step - loss: 0.0148 - acc: 0.9959 - val_loss: 0.5039 - val_acc: 0.8490\n",
      "Epoch 21/50\n",
      "156/156 [==============================] - 340s 2s/step - loss: 0.0153 - acc: 0.9956 - val_loss: 0.4675 - val_acc: 0.8550\n",
      "Epoch 22/50\n",
      "156/156 [==============================] - 340s 2s/step - loss: 0.0140 - acc: 0.9966 - val_loss: 0.4791 - val_acc: 0.8519\n",
      "Epoch 23/50\n",
      "156/156 [==============================] - 340s 2s/step - loss: 0.0168 - acc: 0.9955 - val_loss: 0.5010 - val_acc: 0.8463\n",
      "Epoch 24/50\n",
      "156/156 [==============================] - 342s 2s/step - loss: 0.0148 - acc: 0.9963 - val_loss: 0.4962 - val_acc: 0.8497\n",
      "Epoch 25/50\n",
      "156/156 [==============================] - 341s 2s/step - loss: 0.0144 - acc: 0.9966 - val_loss: 0.4877 - val_acc: 0.8532\n",
      "Epoch 26/50\n",
      "156/156 [==============================] - 341s 2s/step - loss: 0.0159 - acc: 0.9956 - val_loss: 0.5184 - val_acc: 0.8454\n",
      "Epoch 27/50\n",
      "156/156 [==============================] - 338s 2s/step - loss: 0.0165 - acc: 0.9954 - val_loss: 0.5312 - val_acc: 0.8397\n",
      "Epoch 28/50\n",
      "156/156 [==============================] - 343s 2s/step - loss: 0.0149 - acc: 0.9962 - val_loss: 0.5195 - val_acc: 0.8441\n",
      "Epoch 29/50\n",
      "156/156 [==============================] - 345s 2s/step - loss: 0.0151 - acc: 0.9959 - val_loss: 0.5181 - val_acc: 0.8445\n",
      "Epoch 30/50\n",
      "156/156 [==============================] - 343s 2s/step - loss: 0.0150 - acc: 0.9962 - val_loss: 0.5139 - val_acc: 0.8441\n",
      "Epoch 31/50\n",
      "156/156 [==============================] - 343s 2s/step - loss: 0.0138 - acc: 0.9964 - val_loss: 0.5113 - val_acc: 0.8467\n",
      "Epoch 32/50\n",
      "156/156 [==============================] - 345s 2s/step - loss: 0.0156 - acc: 0.9959 - val_loss: 0.4977 - val_acc: 0.8471\n",
      "Epoch 34/50\n",
      "156/156 [==============================] - 341s 2s/step - loss: 0.0141 - acc: 0.9961 - val_loss: 0.4875 - val_acc: 0.8502\n",
      "Epoch 35/50\n",
      "156/156 [==============================] - 343s 2s/step - loss: 0.0158 - acc: 0.9959 - val_loss: 0.4330 - val_acc: 0.8637\n",
      "Epoch 36/50\n",
      "156/156 [==============================] - 344s 2s/step - loss: 0.0137 - acc: 0.9971 - val_loss: 0.4317 - val_acc: 0.8676\n",
      "Epoch 37/50\n",
      "156/156 [==============================] - 343s 2s/step - loss: 0.0162 - acc: 0.9955 - val_loss: 0.5011 - val_acc: 0.8484\n",
      "Epoch 38/50\n",
      "156/156 [==============================] - 340s 2s/step - loss: 0.0128 - acc: 0.9965 - val_loss: 0.5011 - val_acc: 0.8497\n",
      "Epoch 39/50\n",
      "156/156 [==============================] - 341s 2s/step - loss: 0.0157 - acc: 0.9962 - val_loss: 0.4963 - val_acc: 0.8477\n",
      "Epoch 40/50\n",
      "156/156 [==============================] - 334s 2s/step - loss: 0.0147 - acc: 0.9963 - val_loss: 0.4832 - val_acc: 0.8480\n",
      "Epoch 41/50\n",
      "156/156 [==============================] - 336s 2s/step - loss: 0.0141 - acc: 0.9962 - val_loss: 0.4780 - val_acc: 0.8519\n",
      "Epoch 42/50\n",
      "156/156 [==============================] - 336s 2s/step - loss: 0.0162 - acc: 0.9959 - val_loss: 0.4982 - val_acc: 0.8467\n",
      "Epoch 43/50\n",
      "156/156 [==============================] - 333s 2s/step - loss: 0.0152 - acc: 0.9965 - val_loss: 0.4985 - val_acc: 0.8506\n",
      "Epoch 44/50\n",
      "156/156 [==============================] - 335s 2s/step - loss: 0.0138 - acc: 0.9963 - val_loss: 0.4819 - val_acc: 0.8558\n",
      "Epoch 45/50\n",
      "156/156 [==============================] - 338s 2s/step - loss: 0.0132 - acc: 0.9962 - val_loss: 0.5157 - val_acc: 0.8432\n",
      "Epoch 46/50\n",
      "156/156 [==============================] - 339s 2s/step - loss: 0.0126 - acc: 0.9968 - val_loss: 0.5261 - val_acc: 0.8402\n",
      "Epoch 47/50\n",
      "156/156 [==============================] - 340s 2s/step - loss: 0.0136 - acc: 0.9962 - val_loss: 0.5136 - val_acc: 0.8510\n",
      "Epoch 48/50\n",
      "156/156 [==============================] - 337s 2s/step - loss: 0.0135 - acc: 0.9967 - val_loss: 0.5229 - val_acc: 0.8445\n",
      "Epoch 49/50\n",
      "156/156 [==============================] - 339s 2s/step - loss: 0.0137 - acc: 0.9967 - val_loss: 0.5058 - val_acc: 0.8506\n",
      "Epoch 50/50\n",
      "156/156 [==============================] - 337s 2s/step - loss: 0.0147 - acc: 0.9963 - val_loss: 0.5129 - val_acc: 0.8497\n"
     ]
    }
   ],
   "source": [
    "vgg16_model = load_model('vgg16_model_11.h5')\n",
    "\n",
    "for layer in vgg16_model.layers[:11]:\n",
    "    layer.trainable = False\n",
    "    \n",
    "for layer in vgg16_model.layers[11:]:\n",
    "    layer.trainable = True\n",
    "\n",
    "vgg16_model.compile(loss='categorical_crossentropy',\n",
    "                    optimizer=optimizers.SGD(lr=1e-5, momentum=0.9),\n",
    "#                     optimizer=optimizers.Adam(),\n",
    "                    metrics=['accuracy'])  \n",
    "\n",
    "vgg16_model.fit_generator(\n",
    "                        train_generator,\n",
    "                        steps_per_epoch=nb_train_samples // batch_size,\n",
    "                        epochs=50,\n",
    "                        validation_data=validation_generator,\n",
    "                        validation_steps=nb_val_samples // batch_size,\n",
    "                        callbacks=[TensorBoard(log_dir='./logs/vgg16_fine_tune'),\n",
    "                                   CSVLogger('vgg16_fine_tune')])\n",
    "#                                    EarlyStopping(patience=6)])\n",
    "vgg16_model.save('vgg16_final_model.h5')"
   ]
  },
  {
   "cell_type": "code",
   "execution_count": 10,
   "metadata": {},
   "outputs": [],
   "source": [
    "vgg16_model.save('vgg16_final_model.h5')"
   ]
  },
  {
   "cell_type": "code",
   "execution_count": 7,
   "metadata": {},
   "outputs": [
    {
     "name": "stdout",
     "output_type": "stream",
     "text": [
      "Epoch 1/15\n",
      "156/156 [==============================] - 396s 3s/step - loss: 0.0718 - acc: 0.9778 - val_loss: 1.8490 - val_acc: 0.7292\n",
      "Epoch 2/15\n",
      "156/156 [==============================] - 403s 3s/step - loss: 0.0402 - acc: 0.9882 - val_loss: 0.3468 - val_acc: 0.9151\n",
      "Epoch 3/15\n",
      "156/156 [==============================] - 393s 3s/step - loss: 0.0337 - acc: 0.9899 - val_loss: 1.2201 - val_acc: 0.7169\n",
      "Epoch 4/15\n",
      "156/156 [==============================] - 393s 3s/step - loss: 0.0321 - acc: 0.9904 - val_loss: 0.4375 - val_acc: 0.8776\n",
      "Epoch 5/15\n",
      "156/156 [==============================] - 393s 3s/step - loss: 0.0273 - acc: 0.9910 - val_loss: 0.7590 - val_acc: 0.8149\n",
      "Epoch 6/15\n",
      "156/156 [==============================] - 394s 3s/step - loss: 0.0321 - acc: 0.9903 - val_loss: 1.9670 - val_acc: 0.7239\n",
      "Epoch 7/15\n",
      "156/156 [==============================] - 393s 3s/step - loss: 0.0258 - acc: 0.9913 - val_loss: 0.5251 - val_acc: 0.8985\n"
     ]
    },
    {
     "data": {
      "text/plain": [
       "<keras.callbacks.History at 0x7f9f2f3d3eb8>"
      ]
     },
     "execution_count": 7,
     "metadata": {},
     "output_type": "execute_result"
    }
   ],
   "source": [
    "vgg16_model = load_model('vgg16_final_model.h5')\n",
    "\n",
    "for layer in vgg16_model.layers[:7]:\n",
    "    layer.trainable = False\n",
    "    \n",
    "for layer in vgg16_model.layers[7:]:\n",
    "    layer.trainable = True\n",
    "\n",
    "vgg16_model.compile(loss='categorical_crossentropy',\n",
    "#                     optimizer=optimizers.SGD(lr=1e-5, momentum=0.9),\n",
    "                    optimizer=optimizers.Adam(lr=1e-4),\n",
    "                    metrics=['accuracy'])  \n",
    "\n",
    "vgg16_model.fit_generator(\n",
    "                        train_generator,\n",
    "                        steps_per_epoch=nb_train_samples // batch_size,\n",
    "                        epochs=15,\n",
    "                        validation_data=validation_generator,\n",
    "                        validation_steps=nb_val_samples // batch_size,\n",
    "                        callbacks=[TensorBoard(log_dir='./logs/vgg16_fine_tune'),\n",
    "                                   CSVLogger('vgg16_fine_tune'),\n",
    "                                   EarlyStopping(patience=5)])\n"
   ]
  },
  {
   "cell_type": "code",
   "execution_count": 8,
   "metadata": {},
   "outputs": [
    {
     "name": "stdout",
     "output_type": "stream",
     "text": [
      "Epoch 1/10\n",
      "156/156 [==============================] - 397s 3s/step - loss: 0.0349 - acc: 0.9910 - val_loss: 0.4889 - val_acc: 0.9045\n",
      "Epoch 2/10\n",
      "156/156 [==============================] - 395s 3s/step - loss: 0.0213 - acc: 0.9942 - val_loss: 0.3190 - val_acc: 0.9268\n",
      "Epoch 3/10\n",
      "156/156 [==============================] - 395s 3s/step - loss: 0.0219 - acc: 0.9939 - val_loss: 1.0300 - val_acc: 0.7901\n",
      "Epoch 4/10\n",
      "156/156 [==============================] - 393s 3s/step - loss: 0.0199 - acc: 0.9938 - val_loss: 0.6913 - val_acc: 0.8593\n",
      "Epoch 5/10\n",
      "156/156 [==============================] - 393s 3s/step - loss: 0.0228 - acc: 0.9929 - val_loss: 1.4624 - val_acc: 0.6847\n",
      "Epoch 6/10\n",
      "156/156 [==============================] - 393s 3s/step - loss: 0.0187 - acc: 0.9940 - val_loss: 1.5827 - val_acc: 0.7509\n",
      "Epoch 7/10\n",
      "156/156 [==============================] - 392s 3s/step - loss: 0.0171 - acc: 0.9947 - val_loss: 0.7462 - val_acc: 0.8841\n",
      "Epoch 8/10\n",
      "156/156 [==============================] - 392s 3s/step - loss: 0.0145 - acc: 0.9954 - val_loss: 0.6143 - val_acc: 0.8924\n",
      "Epoch 9/10\n",
      "156/156 [==============================] - 393s 3s/step - loss: 0.0102 - acc: 0.9968 - val_loss: 0.6886 - val_acc: 0.8567\n",
      "Epoch 10/10\n",
      "156/156 [==============================] - 392s 3s/step - loss: 0.0155 - acc: 0.9951 - val_loss: 0.7199 - val_acc: 0.8027\n"
     ]
    },
    {
     "data": {
      "text/plain": [
       "<keras.callbacks.History at 0x7f9f30585e80>"
      ]
     },
     "execution_count": 8,
     "metadata": {},
     "output_type": "execute_result"
    }
   ],
   "source": [
    "vgg16_model.compile(loss='categorical_crossentropy',\n",
    "#                     optimizer=optimizers.SGD(lr=1e-5, momentum=0.9),\n",
    "                    optimizer=optimizers.Adam(lr=1e-4),\n",
    "                    metrics=['accuracy'])  \n",
    "\n",
    "vgg16_model.fit_generator(\n",
    "                        train_generator,\n",
    "                        steps_per_epoch=nb_train_samples // batch_size,\n",
    "                        epochs=10,\n",
    "                        validation_data=validation_generator,\n",
    "                        validation_steps=nb_val_samples // batch_size,\n",
    "                        callbacks=[TensorBoard(log_dir='./logs/vgg16_fine_tune'),\n",
    "                                   CSVLogger('vgg16_fine_tune')])\n",
    "#                                    EarlyStopping(patience=5)])"
   ]
  },
  {
   "cell_type": "code",
   "execution_count": 9,
   "metadata": {},
   "outputs": [],
   "source": [
    "vgg16_model.save('vgg16_final_7.h5')"
   ]
  },
  {
   "cell_type": "code",
   "execution_count": 11,
   "metadata": {},
   "outputs": [],
   "source": [
    "vgg16_model = load_model('vgg16_final_model.h5')\n",
    "\n",
    "test_model(vgg16_model,test_path,csv='vgg16_submission.csv')"
   ]
  },
  {
   "cell_type": "code",
   "execution_count": null,
   "metadata": {},
   "outputs": [],
   "source": []
  }
 ],
 "metadata": {
  "kernelspec": {
   "display_name": "Python [conda env:tensorflow_p36]",
   "language": "python",
   "name": "conda-env-tensorflow_p36-py"
  },
  "language_info": {
   "codemirror_mode": {
    "name": "ipython",
    "version": 3
   },
   "file_extension": ".py",
   "mimetype": "text/x-python",
   "name": "python",
   "nbconvert_exporter": "python",
   "pygments_lexer": "ipython3",
   "version": "3.6.4"
  }
 },
 "nbformat": 4,
 "nbformat_minor": 2
}
