{
 "cells": [
  {
   "cell_type": "code",
   "execution_count": 2,
   "metadata": {},
   "outputs": [],
   "source": [
    "from keras.models import *\n",
    "from keras.layers import *\n",
    "from keras.optimizers import RMSprop,SGD,Adadelta,Adam\n",
    "from keras.preprocessing import image\n",
    "from keras.callbacks import TensorBoard,History,EarlyStopping,CSVLogger\n",
    "from keras.applications.vgg19 import VGG19,preprocess_input\n",
    "from sklearn.utils import shuffle\n",
    "import numpy as np\n",
    "import pandas as pd\n",
    "import h5py\n",
    "import os"
   ]
  },
  {
   "cell_type": "code",
   "execution_count": 3,
   "metadata": {},
   "outputs": [],
   "source": [
    "train_path = './train'\n",
    "validation_path = './validation'\n",
    "test_path = './test'\n",
    "assert(os.path.exists(train_path))\n",
    "assert(os.path.exists(validation_path))\n",
    "assert(os.path.exists(test_path))\n",
    "\n",
    "\n",
    "nb_train_samples = 20000\n",
    "nb_val_samples = 2424\n",
    "image_size = (224,224)\n",
    "batch_size = 128\n",
    "class_num = 10"
   ]
  },
  {
   "cell_type": "code",
   "execution_count": 4,
   "metadata": {},
   "outputs": [],
   "source": [
    "def image_preprocess(img_path):\n",
    "\n",
    "    img = image.load_img(img_path, target_size=(224, 224))\n",
    "    img = image.img_to_array(img)\n",
    "    img = np.expand_dims(img, axis=0)\n",
    "    img = preprocess_input(img)\n",
    "    \n",
    "    return img"
   ]
  },
  {
   "cell_type": "code",
   "execution_count": 5,
   "metadata": {},
   "outputs": [],
   "source": [
    "def test_model(model,test_path,csv='sample_submission.csv'):\n",
    "    columns = ['img', 'c0', 'c1', 'c2', 'c3', 'c4', 'c5', 'c6', 'c7', 'c8', 'c9']\n",
    "    df = pd.DataFrame(columns=columns)\n",
    "    \n",
    "    file_list = os.listdir(test_path)\n",
    "    for i,file in enumerate(file_list):\n",
    "        test_data = image_preprocess(test_path + '/' + file)\n",
    "        y_pred = model.predict(test_data,batch_size=1,verbose=0)\n",
    "        y_pred = np.clip(y_pred,0.001,0.999)\n",
    "        y_pred = y_pred[0].tolist()\n",
    "        df.loc[i] = [file] + y_pred\n",
    "        \n",
    "    df.to_csv(csv,index=None)"
   ]
  },
  {
   "cell_type": "code",
   "execution_count": 6,
   "metadata": {},
   "outputs": [],
   "source": [
    "def ensemble_models(models,model_input):\n",
    "    outputs = [model(model_input) for model in models]\n",
    "    \n",
    "    avrg = average(outputs)\n",
    "    \n",
    "    model = Model(inputs=model_input, outputs=avrg, name='ensemble_model')\n",
    "    \n",
    "    return model"
   ]
  },
  {
   "cell_type": "code",
   "execution_count": 8,
   "metadata": {},
   "outputs": [
    {
     "name": "stdout",
     "output_type": "stream",
     "text": [
      "__________________________________________________________________________________________________\n",
      "Layer (type)                    Output Shape         Param #     Connected to                     \n",
      "==================================================================================================\n",
      "input_2 (InputLayer)            (None, 224, 224, 3)  0                                            \n",
      "__________________________________________________________________________________________________\n",
      "vgg16_model (Model)             (None, 10)           21207882    input_2[0][0]                    \n",
      "__________________________________________________________________________________________________\n",
      "vgg19_model (Model)             (None, 10)           26517578    input_2[0][0]                    \n",
      "__________________________________________________________________________________________________\n",
      "average_2 (Average)             (None, 10)           0           vgg16_model[1][0]                \n",
      "                                                                 vgg19_model[1][0]                \n",
      "==================================================================================================\n",
      "Total params: 47,725,460\n",
      "Trainable params: 43,662,356\n",
      "Non-trainable params: 4,063,104\n",
      "__________________________________________________________________________________________________\n"
     ]
    }
   ],
   "source": [
    "vgg16_model = load_model('vgg16_final_model.h5')\n",
    "vgg16_model.name = 'vgg16_model'\n",
    "\n",
    "vgg19_model = load_model('vgg19_final_model.h5')\n",
    "vgg19_model.name = 'vgg19_model'\n",
    "\n",
    "models = [vgg16_model,vgg19_model]\n",
    "\n",
    "model_input = Input(shape=models[0].input_shape[1:])\n",
    "\n",
    "ensemble_model = ensemble_models(models,model_input)\n",
    "\n",
    "ensemble_model.summary()\n"
   ]
  },
  {
   "cell_type": "code",
   "execution_count": 9,
   "metadata": {},
   "outputs": [],
   "source": [
    "test_model(ensenble_model,test_path=test_path,csv='vgg16_and_vgg19_submission.csv')"
   ]
  },
  {
   "cell_type": "code",
   "execution_count": null,
   "metadata": {},
   "outputs": [],
   "source": [
    "# model1 = load_model('simple_cnn_final_model.h5')\n",
    "# model2= load_model('simple_cnn_final_model.h5')\n",
    "\n",
    "# input1 = model1.input\n",
    "# input2 = model2.input\n",
    "\n",
    "# # layer1 = model1.get_layer(index=-2)\n",
    "# # layer2 = model2.get_layer(index=-2)\n",
    "\n",
    "# # avrg_layer = average([layer1,layer2])\n",
    "# # out = Dense(10, activation='softmax')(avrg_layer)\n",
    "# output1 = model1.output\n",
    "# output2 = model2.output\n",
    "\n",
    "# out = Average()([output1,output2])\n",
    "\n",
    "# model = Model(inputs=[input1,input2],outputs=out)\n",
    "# model1.summary()"
   ]
  },
  {
   "cell_type": "code",
   "execution_count": null,
   "metadata": {},
   "outputs": [],
   "source": []
  }
 ],
 "metadata": {
  "kernelspec": {
   "display_name": "Python [conda env:tensorflow_p36]",
   "language": "python",
   "name": "conda-env-tensorflow_p36-py"
  },
  "language_info": {
   "codemirror_mode": {
    "name": "ipython",
    "version": 3
   },
   "file_extension": ".py",
   "mimetype": "text/x-python",
   "name": "python",
   "nbconvert_exporter": "python",
   "pygments_lexer": "ipython3",
   "version": "3.6.4"
  }
 },
 "nbformat": 4,
 "nbformat_minor": 2
}
