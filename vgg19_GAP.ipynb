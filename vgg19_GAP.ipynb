{
 "cells": [
  {
   "cell_type": "code",
   "execution_count": 1,
   "metadata": {},
   "outputs": [
    {
     "name": "stderr",
     "output_type": "stream",
     "text": [
      "/home/ubuntu/anaconda3/envs/tensorflow_p36/lib/python3.6/site-packages/h5py/__init__.py:36: FutureWarning: Conversion of the second argument of issubdtype from `float` to `np.floating` is deprecated. In future, it will be treated as `np.float64 == np.dtype(float).type`.\n",
      "  from ._conv import register_converters as _register_converters\n",
      "Using TensorFlow backend.\n",
      "/home/ubuntu/anaconda3/envs/tensorflow_p36/lib/python3.6/site-packages/matplotlib/__init__.py:962: UserWarning: Duplicate key in file \"/home/ubuntu/.config/matplotlib/matplotlibrc\", line #2\n",
      "  (fname, cnt))\n",
      "/home/ubuntu/anaconda3/envs/tensorflow_p36/lib/python3.6/site-packages/matplotlib/__init__.py:962: UserWarning: Duplicate key in file \"/home/ubuntu/.config/matplotlib/matplotlibrc\", line #3\n",
      "  (fname, cnt))\n"
     ]
    }
   ],
   "source": [
    "from keras.models import *\n",
    "from keras.layers import *\n",
    "from keras.optimizers import RMSprop,SGD,Adadelta,Adam\n",
    "from keras.preprocessing import image\n",
    "from keras.callbacks import *\n",
    "from keras.applications.vgg19 import VGG19,preprocess_input\n",
    "from sklearn.utils import shuffle\n",
    "import numpy as np\n",
    "import pandas as pd\n",
    "import h5py\n",
    "import os"
   ]
  },
  {
   "cell_type": "code",
   "execution_count": 2,
   "metadata": {},
   "outputs": [],
   "source": [
    "train_path = './train'\n",
    "validation_path = './validation'\n",
    "test_path = './test'\n",
    "assert(os.path.exists(train_path))\n",
    "assert(os.path.exists(validation_path))\n",
    "assert(os.path.exists(test_path))\n",
    "\n",
    "\n",
    "nb_train_samples = 20000\n",
    "nb_val_samples = 2424\n",
    "image_size = (224,224)\n",
    "batch_size = 64\n",
    "class_num = 10"
   ]
  },
  {
   "cell_type": "code",
   "execution_count": 3,
   "metadata": {},
   "outputs": [
    {
     "name": "stdout",
     "output_type": "stream",
     "text": [
      "Found 20000 images belonging to 10 classes.\n",
      "Found 2424 images belonging to 10 classes.\n"
     ]
    }
   ],
   "source": [
    "train_datagen = image.ImageDataGenerator(\n",
    "                                         shear_range=0.3,\n",
    "                                         rotation_range=15,\n",
    "                                         height_shift_range=0.3,\n",
    "                                         width_shift_range=0.3,\n",
    "                                         channel_shift_range=15,\n",
    "                                         preprocessing_function=preprocess_input,\n",
    "                                         horizontal_flip=True)\n",
    "\n",
    "validation_datagen = image.ImageDataGenerator(preprocessing_function=preprocess_input)\n",
    "\n",
    "\n",
    "train_generator = train_datagen.flow_from_directory(\n",
    "                                    train_path,\n",
    "                                    target_size=image_size,\n",
    "                                    batch_size=batch_size,\n",
    "                                    class_mode='categorical',\n",
    "                                    shuffle=True)\n",
    "\n",
    "validation_generator = validation_datagen.flow_from_directory(\n",
    "                                    validation_path,\n",
    "                                    target_size=image_size,\n",
    "                                    batch_size=batch_size,                                    \n",
    "                                    class_mode='categorical',\n",
    "                                    shuffle=False)"
   ]
  },
  {
   "cell_type": "code",
   "execution_count": 4,
   "metadata": {},
   "outputs": [],
   "source": [
    "def image_preprocess(img_path):\n",
    "\n",
    "    img = image.load_img(img_path, target_size=(224, 224))\n",
    "    img = image.img_to_array(img)\n",
    "    img = np.expand_dims(img, axis=0)\n",
    "    img = preprocess_input(img)\n",
    "    \n",
    "    return img"
   ]
  },
  {
   "cell_type": "code",
   "execution_count": 5,
   "metadata": {},
   "outputs": [],
   "source": [
    "def test_model(model,test_path,csv='sample_submission.csv'):\n",
    "    columns = ['img', 'c0', 'c1', 'c2', 'c3', 'c4', 'c5', 'c6', 'c7', 'c8', 'c9']\n",
    "    df = pd.DataFrame(columns=columns)\n",
    "    \n",
    "    file_list = os.listdir(test_path)\n",
    "    for i,file in enumerate(file_list):\n",
    "        test_data = image_preprocess(test_path + '/' + file)\n",
    "        y_pred = model.predict(test_data,batch_size=1,verbose=0)\n",
    "        y_pred = np.clip(y_pred,0.001,0.999)\n",
    "        y_pred = y_pred[0].tolist()\n",
    "        df.loc[i] = [file] + y_pred\n",
    "        \n",
    "    df.to_csv(csv,index=None)"
   ]
  },
  {
   "cell_type": "code",
   "execution_count": 6,
   "metadata": {},
   "outputs": [],
   "source": [
    "vgg19_base_model = VGG19(weights='imagenet', include_top=False,input_shape=(224,224,3))\n",
    "\n",
    "x = vgg19_base_model.output\n",
    "x = GlobalAveragePooling2D()(x)\n",
    "x = Dense(10, activation='softmax')(x)\n",
    "\n",
    "vgg19_model = Model(inputs=vgg19_base_model.input, outputs=x)"
   ]
  },
  {
   "cell_type": "code",
   "execution_count": 7,
   "metadata": {},
   "outputs": [
    {
     "name": "stdout",
     "output_type": "stream",
     "text": [
      "0 input_1 False\n",
      "1 block1_conv1 False\n",
      "2 block1_conv2 False\n",
      "3 block1_pool False\n",
      "4 block2_conv1 False\n",
      "5 block2_conv2 False\n",
      "6 block2_pool False\n",
      "7 block3_conv1 False\n",
      "8 block3_conv2 False\n",
      "9 block3_conv3 False\n",
      "10 block3_conv4 False\n",
      "11 block3_pool False\n",
      "12 block4_conv1 False\n",
      "13 block4_conv2 False\n",
      "14 block4_conv3 False\n",
      "15 block4_conv4 False\n",
      "16 block4_pool False\n",
      "17 block5_conv1 False\n",
      "18 block5_conv2 False\n",
      "19 block5_conv3 False\n",
      "20 block5_conv4 False\n",
      "21 block5_pool False\n",
      "22 global_average_pooling2d_1 True\n",
      "23 dense_1 True\n"
     ]
    }
   ],
   "source": [
    "for layer in vgg19_model.layers[:22]:\n",
    "    layer.trainable = False\n",
    "\n",
    "for i,layer in enumerate(vgg19_model.layers):\n",
    "    print(i,layer.name,layer.trainable)"
   ]
  },
  {
   "cell_type": "code",
   "execution_count": 8,
   "metadata": {},
   "outputs": [
    {
     "name": "stdout",
     "output_type": "stream",
     "text": [
      "Epoch 1/10\n",
      "312/312 [==============================] - 582s 2s/step - loss: 2.4176 - acc: 0.3592 - val_loss: 2.3856 - val_acc: 0.4215\n",
      "Epoch 2/10\n",
      "312/312 [==============================] - 364s 1s/step - loss: 1.0611 - acc: 0.6426 - val_loss: 1.8440 - val_acc: 0.5055\n",
      "Epoch 3/10\n",
      "312/312 [==============================] - 357s 1s/step - loss: 0.7828 - acc: 0.7354 - val_loss: 1.6166 - val_acc: 0.5593\n",
      "Epoch 4/10\n",
      "312/312 [==============================] - 359s 1s/step - loss: 0.6707 - acc: 0.7753 - val_loss: 2.0375 - val_acc: 0.4886\n",
      "Epoch 5/10\n",
      "312/312 [==============================] - 356s 1s/step - loss: 0.6019 - acc: 0.8062 - val_loss: 1.5532 - val_acc: 0.5636\n",
      "Epoch 6/10\n",
      "312/312 [==============================] - 356s 1s/step - loss: 0.5782 - acc: 0.8027 - val_loss: 1.7705 - val_acc: 0.5309\n",
      "Epoch 7/10\n",
      "312/312 [==============================] - 355s 1s/step - loss: 0.5454 - acc: 0.8162 - val_loss: 1.4735 - val_acc: 0.5992\n",
      "Epoch 8/10\n",
      "312/312 [==============================] - 353s 1s/step - loss: 0.5240 - acc: 0.8292 - val_loss: 1.7332 - val_acc: 0.5250\n",
      "Epoch 9/10\n",
      "312/312 [==============================] - 355s 1s/step - loss: 0.4980 - acc: 0.8333 - val_loss: 1.6524 - val_acc: 0.5525\n",
      "Epoch 10/10\n",
      "312/312 [==============================] - 354s 1s/step - loss: 0.5048 - acc: 0.8333 - val_loss: 1.7327 - val_acc: 0.5233\n"
     ]
    }
   ],
   "source": [
    "vgg19_model.compile(loss='categorical_crossentropy',\n",
    "                    #optimizer=optimizers.SGD(lr=1e-3, momentum=0.9) #,decay=1e-6,nesterov=True),\n",
    "                    optimizer=optimizers.Adam(lr=1e-3),\n",
    "                    #ptimizer=Adadelta(),\n",
    "                    metrics=['accuracy'])\n",
    "\n",
    "# fine-tune the model\n",
    "vgg19_model.fit_generator(\n",
    "                        train_generator,\n",
    "                        steps_per_epoch=nb_train_samples // batch_size,\n",
    "                        epochs=10,\n",
    "                        validation_data=validation_generator,\n",
    "                        validation_steps=nb_val_samples // batch_size,\n",
    "                        callbacks=[EarlyStopping(patience=3)])\n",
    "\n",
    "vgg19_model.save('vgg19_GAP_fc.h5')"
   ]
  },
  {
   "cell_type": "code",
   "execution_count": 9,
   "metadata": {},
   "outputs": [],
   "source": [
    "# vgg19_model = load_model('vgg19_GAP_fc.h5')\n",
    "    \n",
    "# # for layer in vgg19_model.layers:\n",
    "# #     layer.trainable = True\n",
    "# for layer in vgg19_model.layers[:17]:\n",
    "#     layer.trainable = False\n",
    "    \n",
    "# for layer in vgg19_model.layers[17:]:\n",
    "#     layer.trainable = True\n",
    "    \n",
    "# vgg19_model.compile(loss='categorical_crossentropy',\n",
    "#                     optimizer=optimizers.Adam(lr=1e-4),\n",
    "#                     metrics=['accuracy'])  \n",
    "\n",
    "# reduce_lr = ReduceLROnPlateau(monitor='val_loss', factor=0.1,\n",
    "#                               patience=5, min_lr=1e-6)\n",
    "\n",
    "# vgg19_GAP_history = vgg19_model.fit_generator(\n",
    "#                         train_generator,\n",
    "#                         steps_per_epoch=nb_train_samples // batch_size,\n",
    "#                         epochs=50,\n",
    "#                         validation_data=validation_generator,\n",
    "#                         validation_steps=nb_val_samples // batch_size,\n",
    "#                         callbacks=[\n",
    "# #                                     TensorBoard(log_dir='./logs/vgg19_GAP'),\n",
    "# #                                     CSVLogger('vgg19_GAP'), \n",
    "#                                     reduce_lr,\n",
    "#                                   ])\n",
    "# #                                    EarlyStopping(patience=3)])\n",
    "# vgg19_model.save('vgg19_GAP_train_onetime.h5')"
   ]
  },
  {
   "cell_type": "code",
   "execution_count": 10,
   "metadata": {},
   "outputs": [
    {
     "name": "stdout",
     "output_type": "stream",
     "text": [
      "Epoch 1/20\n",
      "312/312 [==============================] - 364s 1s/step - loss: 0.3325 - acc: 0.9016 - val_loss: 1.1566 - val_acc: 0.7027\n",
      "Epoch 2/20\n",
      "312/312 [==============================] - 358s 1s/step - loss: 0.0880 - acc: 0.9733 - val_loss: 0.4795 - val_acc: 0.8788\n",
      "Epoch 3/20\n",
      "312/312 [==============================] - 360s 1s/step - loss: 0.0636 - acc: 0.9807 - val_loss: 0.6331 - val_acc: 0.8674\n",
      "Epoch 4/20\n",
      "312/312 [==============================] - 359s 1s/step - loss: 0.0489 - acc: 0.9850 - val_loss: 0.5794 - val_acc: 0.8712\n",
      "Epoch 5/20\n",
      "312/312 [==============================] - 357s 1s/step - loss: 0.0383 - acc: 0.9890 - val_loss: 0.9139 - val_acc: 0.7864\n"
     ]
    }
   ],
   "source": [
    "vgg19_model = load_model('vgg19_GAP_fc.h5')\n",
    "\n",
    "for layer in vgg19_model.layers[:17]:\n",
    "    layer.trainable = False\n",
    "    \n",
    "for layer in vgg19_model.layers[17:]:\n",
    "    layer.trainable = True\n",
    "    \n",
    "vgg19_model.compile(loss='categorical_crossentropy',\n",
    "#                     optimizer=optimizers.SGD(lr=1e-4, momentum=0.9,decay=1e-6,nesterov=True),\n",
    "                    optimizer=optimizers.Adam(lr=1e-4),\n",
    "                    metrics=['accuracy'])  \n",
    "\n",
    "vgg19_model.fit_generator(\n",
    "                        train_generator,\n",
    "                        steps_per_epoch=nb_train_samples // batch_size,\n",
    "                        epochs=20,\n",
    "                        validation_data=validation_generator,\n",
    "                        validation_steps=nb_val_samples // batch_size,\n",
    "                        callbacks=[TensorBoard(log_dir='./logs/vgg19_fine_tune'),\n",
    "                                   CSVLogger('vgg19_fine_tune'), \n",
    "                                   EarlyStopping(patience=3)])\n",
    "vgg19_model.save('vgg19_GAP_17.h5')"
   ]
  },
  {
   "cell_type": "code",
   "execution_count": 11,
   "metadata": {},
   "outputs": [
    {
     "name": "stdout",
     "output_type": "stream",
     "text": [
      "Epoch 1/20\n",
      "312/312 [==============================] - 384s 1s/step - loss: 0.1122 - acc: 0.9658 - val_loss: 0.4469 - val_acc: 0.8708\n",
      "Epoch 2/20\n",
      "312/312 [==============================] - 381s 1s/step - loss: 0.0714 - acc: 0.9786 - val_loss: 0.5198 - val_acc: 0.8597\n",
      "Epoch 3/20\n",
      "312/312 [==============================] - 380s 1s/step - loss: 0.0504 - acc: 0.9843 - val_loss: 0.8173 - val_acc: 0.8568\n",
      "Epoch 4/20\n",
      "312/312 [==============================] - 380s 1s/step - loss: 0.0523 - acc: 0.9841 - val_loss: 0.3360 - val_acc: 0.9119\n",
      "Epoch 5/20\n",
      "312/312 [==============================] - 380s 1s/step - loss: 0.0409 - acc: 0.9880 - val_loss: 0.6760 - val_acc: 0.8309\n",
      "Epoch 6/20\n",
      "312/312 [==============================] - 379s 1s/step - loss: 0.0428 - acc: 0.9874 - val_loss: 0.8387 - val_acc: 0.8453\n",
      "Epoch 7/20\n",
      "312/312 [==============================] - 380s 1s/step - loss: 0.0346 - acc: 0.9893 - val_loss: 0.5834 - val_acc: 0.8682\n"
     ]
    }
   ],
   "source": [
    "vgg19_model = load_model('vgg19_GAP_17.h5')\n",
    "\n",
    "for layer in vgg19_model.layers[:12]:\n",
    "    layer.trainable = False\n",
    "    \n",
    "for layer in vgg19_model.layers[12:]:\n",
    "    layer.trainable = True\n",
    "    \n",
    "vgg19_model.compile(loss='categorical_crossentropy',\n",
    "#                     optimizer=optimizers.SGD(lr=1e-4, momentum=0.9,decay=1e-6,nesterov=True),\n",
    "                    optimizer=optimizers.Adam(lr=1e-4),\n",
    "                    metrics=['accuracy'])  \n",
    "\n",
    "vgg19_model.fit_generator(\n",
    "                        train_generator,\n",
    "                        steps_per_epoch=nb_train_samples // batch_size,\n",
    "                        epochs=20,\n",
    "                        validation_data=validation_generator,\n",
    "                        validation_steps=nb_val_samples // batch_size,\n",
    "                        callbacks=[TensorBoard(log_dir='./logs/vgg19_fine_tune'),\n",
    "                                   CSVLogger('vgg19_fine_tune'), #])\n",
    "                                   EarlyStopping(patience=3)])\n",
    "\n",
    "vgg19_model.save('vgg19_GAP_12.h5')"
   ]
  },
  {
   "cell_type": "code",
   "execution_count": 12,
   "metadata": {},
   "outputs": [
    {
     "name": "stdout",
     "output_type": "stream",
     "text": [
      "Epoch 1/20\n",
      "312/312 [==============================] - 511s 2s/step - loss: 0.0617 - acc: 0.9815 - val_loss: 0.5290 - val_acc: 0.8834\n",
      "Epoch 2/20\n",
      "312/312 [==============================] - 507s 2s/step - loss: 0.0508 - acc: 0.9846 - val_loss: 0.5082 - val_acc: 0.8958\n",
      "Epoch 3/20\n",
      "312/312 [==============================] - 506s 2s/step - loss: 0.0369 - acc: 0.9899 - val_loss: 0.4148 - val_acc: 0.9153\n",
      "Epoch 4/20\n",
      "312/312 [==============================] - 505s 2s/step - loss: 0.0329 - acc: 0.9896 - val_loss: 0.8338 - val_acc: 0.8411\n",
      "Epoch 5/20\n",
      "312/312 [==============================] - 505s 2s/step - loss: 0.0329 - acc: 0.9901 - val_loss: 0.4829 - val_acc: 0.8958\n",
      "Epoch 6/20\n",
      "312/312 [==============================] - 504s 2s/step - loss: 0.0280 - acc: 0.9906 - val_loss: 0.4770 - val_acc: 0.9174\n"
     ]
    }
   ],
   "source": [
    "vgg19_model = load_model('vgg19_GAP_12.h5')\n",
    "\n",
    "for layer in vgg19_model.layers[:7]:\n",
    "    layer.trainable = False\n",
    "    \n",
    "for layer in vgg19_model.layers[7:]:\n",
    "    layer.trainable = True\n",
    "    \n",
    "vgg19_model.compile(loss='categorical_crossentropy',\n",
    "#                     optimizer=optimizers.SGD(lr=1e-4, momentum=0.9,decay=1e-6,nesterov=True),\n",
    "                    optimizer=optimizers.Adam(lr=1e-4),\n",
    "                    metrics=['accuracy'])  \n",
    "\n",
    "vgg19_model.fit_generator(\n",
    "                        train_generator,\n",
    "                        steps_per_epoch=nb_train_samples // batch_size,\n",
    "                        epochs=20,\n",
    "                        validation_data=validation_generator,\n",
    "                        validation_steps=nb_val_samples // batch_size,\n",
    "                        callbacks=[TensorBoard(log_dir='./logs/vgg19_fine_tune'),\n",
    "                                   CSVLogger('vgg19_fine_tune'), \n",
    "                                   EarlyStopping(patience=3)])\n",
    "\n",
    "vgg19_model.save('vgg19_GAP_7.h5')"
   ]
  },
  {
   "cell_type": "code",
   "execution_count": 13,
   "metadata": {},
   "outputs": [
    {
     "name": "stdout",
     "output_type": "stream",
     "text": [
      "Epoch 1/20\n",
      "312/312 [==============================] - 749s 2s/step - loss: 0.0220 - acc: 0.9945 - val_loss: 0.5028 - val_acc: 0.8961\n",
      "Epoch 2/20\n",
      "312/312 [==============================] - 741s 2s/step - loss: 0.0125 - acc: 0.9963 - val_loss: 0.5324 - val_acc: 0.9072\n",
      "Epoch 3/20\n",
      "312/312 [==============================] - 741s 2s/step - loss: 0.0191 - acc: 0.9939 - val_loss: 0.3758 - val_acc: 0.9093\n",
      "Epoch 4/20\n",
      "312/312 [==============================] - 739s 2s/step - loss: 0.0075 - acc: 0.9980 - val_loss: 0.9293 - val_acc: 0.8843\n",
      "Epoch 5/20\n",
      "312/312 [==============================] - 741s 2s/step - loss: 0.0175 - acc: 0.9945 - val_loss: 0.5516 - val_acc: 0.9013\n",
      "Epoch 6/20\n",
      "312/312 [==============================] - 740s 2s/step - loss: 0.0101 - acc: 0.9969 - val_loss: 0.5500 - val_acc: 0.8669\n"
     ]
    }
   ],
   "source": [
    "vgg19_model = load_model('vgg19_GAP_7.h5')\n",
    "\n",
    "for layer in vgg19_model.layers:\n",
    "    layer.trainable = True\n",
    "    \n",
    "vgg19_model.compile(loss='categorical_crossentropy',\n",
    "#                     optimizer=optimizers.SGD(lr=1e-4, momentum=0.9,decay=1e-6,nesterov=True),\n",
    "                    optimizer=optimizers.Adam(lr=5e-5),\n",
    "                    metrics=['accuracy'])  \n",
    "\n",
    "vgg19_model.fit_generator(\n",
    "                        train_generator,\n",
    "                        steps_per_epoch=nb_train_samples // batch_size,\n",
    "                        epochs=20,\n",
    "                        validation_data=validation_generator,\n",
    "                        validation_steps=nb_val_samples // batch_size,\n",
    "                        callbacks=[TensorBoard(log_dir='./logs/vgg19_fine_tune'),\n",
    "                                   CSVLogger('vgg19_fine_tune'), \n",
    "                                   EarlyStopping(patience=3)])\n",
    "\n",
    "vgg19_model.save('vgg19_GAP_all.h5')"
   ]
  },
  {
   "cell_type": "code",
   "execution_count": 14,
   "metadata": {},
   "outputs": [
    {
     "name": "stdout",
     "output_type": "stream",
     "text": [
      "Epoch 1/20\n",
      "312/312 [==============================] - 738s 2s/step - loss: 0.0032 - acc: 0.9990 - val_loss: 0.5249 - val_acc: 0.9008\n",
      "Epoch 2/20\n",
      "312/312 [==============================] - 735s 2s/step - loss: 0.0013 - acc: 0.9995 - val_loss: 0.5757 - val_acc: 0.9102\n",
      "Epoch 3/20\n",
      "312/312 [==============================] - 735s 2s/step - loss: 0.0020 - acc: 0.9994 - val_loss: 0.5775 - val_acc: 0.9136\n"
     ]
    },
    {
     "data": {
      "text/plain": [
       "<keras.callbacks.History at 0x7f87440eb2b0>"
      ]
     },
     "execution_count": 14,
     "metadata": {},
     "output_type": "execute_result"
    }
   ],
   "source": [
    "vgg19_model.compile(loss='categorical_crossentropy',\n",
    "#                     optimizer=optimizers.SGD(lr=1e-4, momentum=0.9,decay=1e-6,nesterov=True),\n",
    "                    optimizer=optimizers.Adam(lr=1e-5),\n",
    "                    metrics=['accuracy'])  \n",
    "\n",
    "vgg19_model.fit_generator(\n",
    "                        train_generator,\n",
    "                        steps_per_epoch=nb_train_samples // batch_size,\n",
    "                        epochs=20,\n",
    "                        validation_data=validation_generator,\n",
    "                        validation_steps=nb_val_samples // batch_size,\n",
    "                        callbacks=[TensorBoard(log_dir='./logs/vgg19_fine_tune'),\n",
    "                                   CSVLogger('vgg19_fine_tune'), \n",
    "                                   EarlyStopping(patience=2)])"
   ]
  },
  {
   "cell_type": "code",
   "execution_count": 15,
   "metadata": {},
   "outputs": [],
   "source": [
    "vgg19_model.save('vgg19_GAP_final.h5')"
   ]
  },
  {
   "cell_type": "code",
   "execution_count": 16,
   "metadata": {},
   "outputs": [],
   "source": [
    "# vgg19_model = load_model('vgg19_GAP_final.h5')\n",
    "    \n",
    "# for layer in vgg19_model.layers:\n",
    "#     layer.trainable = True\n",
    "# # for layer in vgg19_model.layers[:17]:\n",
    "# #     layer.trainable = False\n",
    "    \n",
    "# # for layer in vgg19_model.layers[17:]:\n",
    "# #     layer.trainable = True\n",
    "    \n",
    "# vgg19_model.compile(loss='categorical_crossentropy',\n",
    "#                     optimizer=optimizers.Adam(lr=1e-4),\n",
    "#                     metrics=['accuracy'])  \n",
    "\n",
    "# reduce_lr = ReduceLROnPlateau(monitor='val_loss', factor=0.2,\n",
    "#                               patience=3, min_lr=1e-6)\n",
    "\n",
    "# vgg19_GAP_history = vgg19_model.fit_generator(\n",
    "#                         train_generator,\n",
    "#                         steps_per_epoch=nb_train_samples // batch_size,\n",
    "#                         epochs=10,\n",
    "#                         validation_data=validation_generator,\n",
    "#                         validation_steps=nb_val_samples // batch_size,\n",
    "#                         callbacks=[\n",
    "# #                                     TensorBoard(log_dir='./logs/vgg19_GAP'),\n",
    "# #                                     CSVLogger('vgg19_GAP'), \n",
    "#                                     reduce_lr,\n",
    "#                                   ])\n",
    "# #                                    EarlyStopping(patience=3)])\n",
    "# # vgg19_model.save('vgg19_GAP_train_onetime.h5')"
   ]
  },
  {
   "cell_type": "code",
   "execution_count": 17,
   "metadata": {},
   "outputs": [],
   "source": [
    "# vgg19_model.save('vgg19_GAP_final.h5')"
   ]
  },
  {
   "cell_type": "code",
   "execution_count": null,
   "metadata": {},
   "outputs": [],
   "source": []
  }
 ],
 "metadata": {
  "kernelspec": {
   "display_name": "Python [conda env:tensorflow_p36]",
   "language": "python",
   "name": "conda-env-tensorflow_p36-py"
  },
  "language_info": {
   "codemirror_mode": {
    "name": "ipython",
    "version": 3
   },
   "file_extension": ".py",
   "mimetype": "text/x-python",
   "name": "python",
   "nbconvert_exporter": "python",
   "pygments_lexer": "ipython3",
   "version": "3.6.4"
  }
 },
 "nbformat": 4,
 "nbformat_minor": 2
}
