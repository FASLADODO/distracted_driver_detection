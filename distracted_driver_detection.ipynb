{
 "cells": [
  {
   "cell_type": "code",
   "execution_count": 1,
   "metadata": {},
   "outputs": [
    {
     "name": "stderr",
     "output_type": "stream",
     "text": [
      "/home/ubuntu/anaconda3/envs/tensorflow_p36/lib/python3.6/site-packages/h5py/__init__.py:36: FutureWarning: Conversion of the second argument of issubdtype from `float` to `np.floating` is deprecated. In future, it will be treated as `np.float64 == np.dtype(float).type`.\n",
      "  from ._conv import register_converters as _register_converters\n",
      "Using TensorFlow backend.\n",
      "/home/ubuntu/anaconda3/envs/tensorflow_p36/lib/python3.6/site-packages/matplotlib/__init__.py:962: UserWarning: Duplicate key in file \"/home/ubuntu/.config/matplotlib/matplotlibrc\", line #2\n",
      "  (fname, cnt))\n",
      "/home/ubuntu/anaconda3/envs/tensorflow_p36/lib/python3.6/site-packages/matplotlib/__init__.py:962: UserWarning: Duplicate key in file \"/home/ubuntu/.config/matplotlib/matplotlibrc\", line #3\n",
      "  (fname, cnt))\n"
     ]
    }
   ],
   "source": [
    "from keras.models import Sequential,Model\n",
    "from keras.layers import Conv2D,MaxPool2D\n",
    "from keras.layers import Activation,Dropout,Flatten,Dense\n",
    "from keras.optimizers import RMSprop,SGD\n",
    "from keras.preprocessing import image\n",
    "from keras.callbacks import TensorBoard,History,EarlyStopping,CSVLogger\n",
    "from keras.applications.vgg16 import VGG16\n",
    "import h5py\n",
    "import os\n",
    "\n"
   ]
  },
  {
   "cell_type": "code",
   "execution_count": 2,
   "metadata": {},
   "outputs": [],
   "source": [
    "train_path = './train'\n",
    "validation_path = './validation'\n",
    "test_path = './test'\n",
    "assert(os.path.exists(train_path))\n",
    "assert(os.path.exists(validation_path))\n",
    "assert(os.path.exists(test_path))\n",
    "\n",
    "nb_train_samples = 18047\n",
    "nb_val_samples = 4377\n",
    "image_size = (224,224)\n",
    "batch_size = 128\n",
    "class_num = 10"
   ]
  },
  {
   "cell_type": "code",
   "execution_count": 13,
   "metadata": {},
   "outputs": [],
   "source": [
    "def build_simple_convnet(input_shape=(224,224,3),class_num=class_num):\n",
    "    \n",
    "    model = Sequential()\n",
    "    model.add(Conv2D(32,(3,3),input_shape=input_shape,padding='valid',activation='relu'))\n",
    "    model.add(MaxPool2D())\n",
    "    \n",
    "    model.add(Conv2D(64,(3,3),padding='valid',activation='relu'))\n",
    "    model.add(MaxPool2D())\n",
    "    \n",
    "    model.add(Conv2D(128,(3,3),padding='valid',activation='relu'))\n",
    "    model.add(MaxPool2D())\n",
    "    \n",
    "    model.add(Flatten())\n",
    "    model.add(Dense(256,activation='relu'))\n",
    "    model.add(Dropout(0.5))\n",
    "    model.add(Dense(class_num,activation='softmax'))\n",
    "    \n",
    "    model.compile(loss='categorical_crossentropy',optimizer='adam',metrics=['accuracy'])\n",
    "    \n",
    "    return model"
   ]
  },
  {
   "cell_type": "code",
   "execution_count": 4,
   "metadata": {},
   "outputs": [],
   "source": [
    "def generate_batches_data(dir_path, \n",
    "                    gen=image.ImageDataGenerator(), \n",
    "                    target_size=(224,224), \n",
    "                    batch_size=32, \n",
    "                    class_mode='categorical', \n",
    "                    shuffle=False):\n",
    "    \n",
    "    return gen.flow_from_directory(dir_path, \n",
    "                                   target_size=target_size, \n",
    "                                   batch_size=batch_size,\n",
    "                                   class_mode=class_mode, \n",
    "                                   shuffle=shuffle)"
   ]
  },
  {
   "cell_type": "code",
   "execution_count": 5,
   "metadata": {},
   "outputs": [
    {
     "name": "stdout",
     "output_type": "stream",
     "text": [
      "Found 18047 images belonging to 10 classes.\n",
      "Found 4377 images belonging to 10 classes.\n"
     ]
    }
   ],
   "source": [
    "\n",
    "train_datagen = image.ImageDataGenerator(rescale=1./255,\n",
    "                                         shear_range=0.2,\n",
    "                                         rotation_range=10,\n",
    "                                         height_shift_range=0.1,\n",
    "                                         width_shift_range=0.1,\n",
    "                                         channel_shift_range=5,\n",
    "                                         horizontal_flip=True,\n",
    "                                         fill_mode='nearest')\n",
    "\n",
    "validation_datagen = image.ImageDataGenerator(rescale=1./255)\n",
    "\n",
    "# test_datagen = image.ImageDataGenerator(rescale=1./255)\n",
    "\n",
    "\n",
    "train_generator = generate_batches_data(\n",
    "                                    dir_path=train_path,\n",
    "                                    gen=train_datagen,\n",
    "                                    target_size=image_size,\n",
    "                                    batch_size=batch_size,\n",
    "                                    class_mode='categorical',\n",
    "                                    shuffle=True)\n",
    "\n",
    "validation_generator = generate_batches_data(\n",
    "                                    dir_path=validation_path,\n",
    "                                    gen=validation_datagen,\n",
    "                                    target_size=image_size,\n",
    "                                    batch_size=batch_size,                                    \n",
    "                                    class_mode='categorical',\n",
    "                                    shuffle=False)\n"
   ]
  },
  {
   "cell_type": "code",
   "execution_count": 14,
   "metadata": {},
   "outputs": [
    {
     "name": "stdout",
     "output_type": "stream",
     "text": [
      "_________________________________________________________________\n",
      "Layer (type)                 Output Shape              Param #   \n",
      "=================================================================\n",
      "conv2d_10 (Conv2D)           (None, 222, 222, 32)      896       \n",
      "_________________________________________________________________\n",
      "max_pooling2d_10 (MaxPooling (None, 111, 111, 32)      0         \n",
      "_________________________________________________________________\n",
      "conv2d_11 (Conv2D)           (None, 109, 109, 64)      18496     \n",
      "_________________________________________________________________\n",
      "max_pooling2d_11 (MaxPooling (None, 54, 54, 64)        0         \n",
      "_________________________________________________________________\n",
      "conv2d_12 (Conv2D)           (None, 52, 52, 128)       73856     \n",
      "_________________________________________________________________\n",
      "max_pooling2d_12 (MaxPooling (None, 26, 26, 128)       0         \n",
      "_________________________________________________________________\n",
      "flatten_5 (Flatten)          (None, 86528)             0         \n",
      "_________________________________________________________________\n",
      "dense_7 (Dense)              (None, 256)               22151424  \n",
      "_________________________________________________________________\n",
      "dropout_4 (Dropout)          (None, 256)               0         \n",
      "_________________________________________________________________\n",
      "dense_8 (Dense)              (None, 10)                2570      \n",
      "=================================================================\n",
      "Total params: 22,247,242\n",
      "Trainable params: 22,247,242\n",
      "Non-trainable params: 0\n",
      "_________________________________________________________________\n"
     ]
    }
   ],
   "source": [
    "model = build_simple_convnet(input_shape=(224,224,3))\n",
    "model.summary()\n"
   ]
  },
  {
   "cell_type": "code",
   "execution_count": 15,
   "metadata": {},
   "outputs": [
    {
     "name": "stdout",
     "output_type": "stream",
     "text": [
      "Epoch 1/10\n",
      "140/140 [==============================] - 299s 2s/step - loss: 2.1405 - acc: 0.2149 - val_loss: 2.4901 - val_acc: 0.3024\n",
      "Epoch 2/10\n",
      "140/140 [==============================] - 305s 2s/step - loss: 1.6196 - acc: 0.4065 - val_loss: 2.5012 - val_acc: 0.3893\n",
      "Epoch 3/10\n",
      "140/140 [==============================] - 301s 2s/step - loss: 1.2750 - acc: 0.5356 - val_loss: 2.4390 - val_acc: 0.3213\n",
      "Epoch 4/10\n",
      "140/140 [==============================] - 300s 2s/step - loss: 1.0741 - acc: 0.6135 - val_loss: 2.3079 - val_acc: 0.3839\n",
      "Epoch 5/10\n",
      "140/140 [==============================] - 297s 2s/step - loss: 0.9316 - acc: 0.6658 - val_loss: 1.9763 - val_acc: 0.3799\n",
      "Epoch 6/10\n",
      "140/140 [==============================] - 296s 2s/step - loss: 0.8171 - acc: 0.7116 - val_loss: 2.7149 - val_acc: 0.3700\n",
      "Epoch 7/10\n",
      "140/140 [==============================] - 293s 2s/step - loss: 0.7201 - acc: 0.7485 - val_loss: 2.4409 - val_acc: 0.3921\n",
      "Epoch 8/10\n",
      "140/140 [==============================] - 296s 2s/step - loss: 0.6373 - acc: 0.7779 - val_loss: 2.9185 - val_acc: 0.3655\n",
      "Epoch 9/10\n",
      "140/140 [==============================] - 290s 2s/step - loss: 0.5873 - acc: 0.7964 - val_loss: 2.4670 - val_acc: 0.3980\n",
      "Epoch 10/10\n",
      "140/140 [==============================] - 288s 2s/step - loss: 0.5491 - acc: 0.8080 - val_loss: 2.7787 - val_acc: 0.3742\n"
     ]
    }
   ],
   "source": [
    "model.fit_generator(train_generator,\n",
    "                    steps_per_epoch=nb_train_samples // batch_size,\n",
    "                    epochs=10,\n",
    "                    callbacks=[TensorBoard()],\n",
    "                    validation_data=validation_generator,\n",
    "                    validation_steps=nb_val_samples // batch_size)\n",
    "\n",
    "model.save('simple_cnn_model.h5')"
   ]
  },
  {
   "cell_type": "code",
   "execution_count": 9,
   "metadata": {},
   "outputs": [
    {
     "name": "stdout",
     "output_type": "stream",
     "text": [
      "Downloading data from https://github.com/fchollet/deep-learning-models/releases/download/v0.1/vgg16_weights_tf_dim_ordering_tf_kernels.h5\n",
      "553467904/553467096 [==============================] - 6s 0us/step\n",
      "_________________________________________________________________\n",
      "Layer (type)                 Output Shape              Param #   \n",
      "=================================================================\n",
      "input_2 (InputLayer)         (None, 224, 224, 3)       0         \n",
      "_________________________________________________________________\n",
      "block1_conv1 (Conv2D)        (None, 224, 224, 64)      1792      \n",
      "_________________________________________________________________\n",
      "block1_conv2 (Conv2D)        (None, 224, 224, 64)      36928     \n",
      "_________________________________________________________________\n",
      "block1_pool (MaxPooling2D)   (None, 112, 112, 64)      0         \n",
      "_________________________________________________________________\n",
      "block2_conv1 (Conv2D)        (None, 112, 112, 128)     73856     \n",
      "_________________________________________________________________\n",
      "block2_conv2 (Conv2D)        (None, 112, 112, 128)     147584    \n",
      "_________________________________________________________________\n",
      "block2_pool (MaxPooling2D)   (None, 56, 56, 128)       0         \n",
      "_________________________________________________________________\n",
      "block3_conv1 (Conv2D)        (None, 56, 56, 256)       295168    \n",
      "_________________________________________________________________\n",
      "block3_conv2 (Conv2D)        (None, 56, 56, 256)       590080    \n",
      "_________________________________________________________________\n",
      "block3_conv3 (Conv2D)        (None, 56, 56, 256)       590080    \n",
      "_________________________________________________________________\n",
      "block3_pool (MaxPooling2D)   (None, 28, 28, 256)       0         \n",
      "_________________________________________________________________\n",
      "block4_conv1 (Conv2D)        (None, 28, 28, 512)       1180160   \n",
      "_________________________________________________________________\n",
      "block4_conv2 (Conv2D)        (None, 28, 28, 512)       2359808   \n",
      "_________________________________________________________________\n",
      "block4_conv3 (Conv2D)        (None, 28, 28, 512)       2359808   \n",
      "_________________________________________________________________\n",
      "block4_pool (MaxPooling2D)   (None, 14, 14, 512)       0         \n",
      "_________________________________________________________________\n",
      "block5_conv1 (Conv2D)        (None, 14, 14, 512)       2359808   \n",
      "_________________________________________________________________\n",
      "block5_conv2 (Conv2D)        (None, 14, 14, 512)       2359808   \n",
      "_________________________________________________________________\n",
      "block5_conv3 (Conv2D)        (None, 14, 14, 512)       2359808   \n",
      "_________________________________________________________________\n",
      "block5_pool (MaxPooling2D)   (None, 7, 7, 512)         0         \n",
      "_________________________________________________________________\n",
      "flatten (Flatten)            (None, 25088)             0         \n",
      "_________________________________________________________________\n",
      "fc1 (Dense)                  (None, 4096)              102764544 \n",
      "_________________________________________________________________\n",
      "fc2 (Dense)                  (None, 4096)              16781312  \n",
      "_________________________________________________________________\n",
      "predictions (Dense)          (None, 1000)              4097000   \n",
      "=================================================================\n",
      "Total params: 138,357,544\n",
      "Trainable params: 138,357,544\n",
      "Non-trainable params: 0\n",
      "_________________________________________________________________\n"
     ]
    }
   ],
   "source": [
    "#load VGG16 model\n",
    "base_model = VGG16(weights='imagenet', include_top=True)\n",
    "base_model.summary()\n",
    "# vgg16_model = VGG16(weights=None, include_top=True)\n",
    "\n",
    "# x = base_model.output\n",
    "# x = Dense(256,activation='relu')(x)\n",
    "# x = Dropout(0.5)(x)\n",
    "# top_model = base_model.output\n",
    "# top_model = Dense(256,activation='relu')(top_model)\n",
    "# top_model= Dropout(0.5)(top_model)\n",
    "# top_model = Dense(256,activation='relu')(top_model)\n",
    "# top_model= Dropout(0.5)(top_model)\n",
    "# pred = Dense(10,activation='softmax')(top_model)\n",
    "# vgg16_model = Model(inputs=base_model.input, outputs=pred)\n",
    "# vgg16_model.summary()\n",
    "\n",
    "# x = Sequential()\n",
    "\n",
    "# for i,layer in enumerate(base_model.layers):\n",
    "#     if i>18:break\n",
    "#     x.add(layer)\n",
    "#     print(i,layer.name)\n",
    "\n",
    "\n",
    "# top_model = Sequential()\n",
    "# top_model.add(Flatten(input_shape=base_model.output_shape[1:]))\n",
    "# top_model.add(Dense(256, activation='relu'))\n",
    "# top_model.add(Dropout(0.5))\n",
    "# top_model.add(Dense(10, activation='softmax'))\n",
    "\n",
    "# x = base_model.output\n",
    "# x = Flatten(input_shape=base_model.output_shape[1:])(x)\n",
    "# x = Dense(256, activation='relu')(x)\n",
    "# x = Dropout(0.5)(x)\n",
    "# predictions = Dense(class_num, activation='softmax')(x)\n",
    "\n",
    "# vgg16_model = Model(inputs=base_model.input, outputs=predictions)\n",
    "# vgg16_model.summary()"
   ]
  },
  {
   "cell_type": "code",
   "execution_count": null,
   "metadata": {
    "collapsed": true
   },
   "outputs": [],
   "source": [
    "for layer in vgg16_model.layers[:25]:\n",
    "    layer.trainable = False\n",
    "    \n",
    "vgg16_model.compile(optimizer='rmsprop', loss='categorical_crossentropy',metrics=['accuracy'])\n",
    "vgg16_model.fit_generator(train_generator,\n",
    "                    steps_per_epoch=nb_train_samples // batch_size,\n",
    "                    epochs=10,\n",
    "                    callbacks=[TensorBoard()],\n",
    "                    validation_data=validation_generator,\n",
    "                    validation_steps=nb_val_samples // batch_size)\n",
    "vgg16_model.save_weights('vgg16_fc_weights.h5')"
   ]
  },
  {
   "cell_type": "code",
   "execution_count": null,
   "metadata": {
    "collapsed": true
   },
   "outputs": [],
   "source": [
    "for layer in vgg16_model.layers[15:25]:\n",
    "    layer.trainable = True\n",
    "\n",
    "vgg16_model.compile(optimizer=SGD(lr=1e-4,momentum=0.9), loss='categorical_crossentropy',metrics=['accuracy'])\n",
    "vgg16_model.fit_generator(train_generator,\n",
    "                    steps_per_epoch=nb_train_samples // batch_size,\n",
    "                    epochs=10,\n",
    "                    callbacks=[TensorBoard()],\n",
    "                    validation_data=validation_generator,\n",
    "                    validation_steps=nb_val_samples // batch_size)\n",
    "\n",
    "vgg16_model.save_weights('vgg16_fine_tuning_weights.h5')"
   ]
  }
 ],
 "metadata": {
  "kernelspec": {
   "display_name": "Python [default]",
   "language": "python",
   "name": "python3"
  },
  "language_info": {
   "codemirror_mode": {
    "name": "ipython",
    "version": 3
   },
   "file_extension": ".py",
   "mimetype": "text/x-python",
   "name": "python",
   "nbconvert_exporter": "python",
   "pygments_lexer": "ipython3",
   "version": "3.6.4"
  }
 },
 "nbformat": 4,
 "nbformat_minor": 2
}
