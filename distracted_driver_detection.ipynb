{
 "cells": [
  {
   "cell_type": "code",
   "execution_count": 1,
   "metadata": {},
   "outputs": [
    {
     "name": "stderr",
     "output_type": "stream",
     "text": [
      "/home/ubuntu/anaconda3/envs/tensorflow_p36/lib/python3.6/site-packages/h5py/__init__.py:36: FutureWarning: Conversion of the second argument of issubdtype from `float` to `np.floating` is deprecated. In future, it will be treated as `np.float64 == np.dtype(float).type`.\n",
      "  from ._conv import register_converters as _register_converters\n",
      "Using TensorFlow backend.\n",
      "/home/ubuntu/anaconda3/envs/tensorflow_p36/lib/python3.6/site-packages/matplotlib/__init__.py:962: UserWarning: Duplicate key in file \"/home/ubuntu/.config/matplotlib/matplotlibrc\", line #2\n",
      "  (fname, cnt))\n",
      "/home/ubuntu/anaconda3/envs/tensorflow_p36/lib/python3.6/site-packages/matplotlib/__init__.py:962: UserWarning: Duplicate key in file \"/home/ubuntu/.config/matplotlib/matplotlibrc\", line #3\n",
      "  (fname, cnt))\n"
     ]
    }
   ],
   "source": [
    "from keras.models import *\n",
    "from keras.layers import *\n",
    "from keras.optimizers import RMSprop,SGD\n",
    "from keras.preprocessing import image\n",
    "from keras.callbacks import TensorBoard,History,EarlyStopping,CSVLogger\n",
    "from keras.applications.vgg16 import VGG16\n",
    "from sklearn.utils import shuffle\n",
    "import numpy as np\n",
    "import pandas as pd\n",
    "import h5py\n",
    "import os\n",
    "\n"
   ]
  },
  {
   "cell_type": "code",
   "execution_count": 2,
   "metadata": {},
   "outputs": [],
   "source": [
    "train_path = './train'\n",
    "validation_path = './validation'\n",
    "test_path = './test'\n",
    "assert(os.path.exists(train_path))\n",
    "assert(os.path.exists(validation_path))\n",
    "assert(os.path.exists(test_path))\n",
    "\n",
    "nb_train_samples = 18047\n",
    "nb_val_samples = 4377\n",
    "image_size = (224,224)\n",
    "batch_size = 128\n",
    "class_num = 10"
   ]
  },
  {
   "cell_type": "code",
   "execution_count": 5,
   "metadata": {},
   "outputs": [],
   "source": [
    "def build_simple_convnet(input_shape=(224,224,3),class_num=10):\n",
    "    \n",
    "    model = Sequential()\n",
    "#     model.add(Conv2D(32,(3,3),input_shape=input_shape,padding='valid',activation='relu'))\n",
    "#     model.add(MaxPool2D())\n",
    "    \n",
    "#     model.add(Conv2D(32,(3,3),activation='relu'))\n",
    "#     model.add(MaxPool2D())\n",
    "    \n",
    "#     model.add(Conv2D(64,(3,3),activation='relu'))\n",
    "#     model.add(MaxPool2D()) \n",
    "    \n",
    "#     model.add(Flatten())\n",
    "#     model.add(Dense(256,activation='relu'))\n",
    "#     model.add(Dropout(0.5))\n",
    "#     model.add(Dense(class_num,activation='softmax'))\n",
    "    \n",
    "#     model.compile(loss='categorical_crossentropy',optimizer='adam',metrics=['accuracy'])\n",
    "    \n",
    "    model.add(Conv2D(32, (3, 3), activation='relu', input_shape=input_shape))\n",
    "    model.add(Conv2D(32, (3, 3), activation='relu'))\n",
    "    model.add(MaxPooling2D(pool_size=(2, 2)))\n",
    "    model.add(Dropout(0.25))\n",
    "\n",
    "    model.add(Conv2D(64, (3, 3), activation='relu'))\n",
    "    model.add(Conv2D(64, (3, 3), activation='relu'))\n",
    "    model.add(MaxPooling2D(pool_size=(2, 2)))\n",
    "    model.add(Dropout(0.25))\n",
    "\n",
    "    model.add(Flatten())\n",
    "    model.add(Dense(256, activation='relu'))\n",
    "    model.add(Dropout(0.5))\n",
    "    model.add(Dense(class_num, activation='softmax'))\n",
    "\n",
    "    sgd = SGD(lr=0.01, decay=1e-6, momentum=0.9, nesterov=True)\n",
    "    model.compile(loss='categorical_crossentropy', optimizer=sgd)\n",
    "    \n",
    "    return model"
   ]
  },
  {
   "cell_type": "code",
   "execution_count": 6,
   "metadata": {},
   "outputs": [],
   "source": [
    "def generate_batches_data(dir_path, \n",
    "                    gen=image.ImageDataGenerator(), \n",
    "                    target_size=(224,224), \n",
    "                    batch_size=128, \n",
    "                    class_mode='categorical', \n",
    "                    shuffle=False):\n",
    "    \n",
    "    return gen.flow_from_directory(dir_path, \n",
    "                                   target_size=target_size, \n",
    "                                   batch_size=batch_size,\n",
    "                                   class_mode=class_mode, \n",
    "                                   shuffle=shuffle)"
   ]
  },
  {
   "cell_type": "code",
   "execution_count": 4,
   "metadata": {},
   "outputs": [],
   "source": [
    "def one_hot_encode(x):\n",
    "    \"\"\"\n",
    "    One hot encode a list of sample labels. Return a one-hot encoded vector for each label.\n",
    "    : x: List of sample Labels\n",
    "    : return: Numpy array of one-hot encoded labels\n",
    "    \"\"\"     \n",
    "    return np.eye(10)[x]"
   ]
  },
  {
   "cell_type": "code",
   "execution_count": 1,
   "metadata": {},
   "outputs": [],
   "source": [
    "def image_preprocess(img_path):\n",
    "\n",
    "    img = image.load_img(img_path, target_size=(224, 224))\n",
    "    img = image.img_to_array(img)\n",
    "    img = np.expand_dims(img, axis=0)\n",
    "    img = img / 255.0\n",
    "    \n",
    "    return img\n"
   ]
  },
  {
   "cell_type": "code",
   "execution_count": 6,
   "metadata": {},
   "outputs": [],
   "source": [
    "def test_model(model,test_path=test_path,csv='sample_submission.csv'):\n",
    "    columns = ['img', 'c0', 'c1', 'c2', 'c3', 'c4', 'c5', 'c6', 'c7', 'c8', 'c9']\n",
    "    df = pd.DataFrame(columns=columns)\n",
    "    \n",
    "    file_list = os.listdir(test_path)\n",
    "    for i,file in enumerate(file_list):\n",
    "        test_data = image_preprocess(test_path + '/' + file)\n",
    "        y_pred = model.predict(test_data,batch_size=1,verbose=0)\n",
    "        df.loc[i] = [file] + y_pred\n",
    "        \n",
    "    df.to_csv(csv,index=None)"
   ]
  },
  {
   "cell_type": "markdown",
   "metadata": {},
   "source": [
    "### try a simple CNN model"
   ]
  },
  {
   "cell_type": "code",
   "execution_count": 7,
   "metadata": {},
   "outputs": [
    {
     "name": "stdout",
     "output_type": "stream",
     "text": [
      "Found 18047 images belonging to 10 classes.\n",
      "Found 4377 images belonging to 10 classes.\n"
     ]
    }
   ],
   "source": [
    "\n",
    "train_datagen = image.ImageDataGenerator(rescale=1./255,\n",
    "                                         shear_range=0.2,\n",
    "                                         rotation_range=10,\n",
    "                                         height_shift_range=0.1,\n",
    "                                         width_shift_range=0.1,\n",
    "                                         channel_shift_range=5,\n",
    "                                         horizontal_flip=True,\n",
    "                                         fill_mode='nearest')\n",
    "\n",
    "validation_datagen = image.ImageDataGenerator(rescale=1./255)\n",
    "\n",
    "train_generator = generate_batches_data(\n",
    "                                    dir_path=train_path,\n",
    "                                    gen=train_datagen,\n",
    "                                    target_size=image_size,\n",
    "                                    batch_size=batch_size,\n",
    "                                    class_mode='categorical',\n",
    "                                    shuffle=True)\n",
    "\n",
    "validation_generator = generate_batches_data(\n",
    "                                    dir_path=validation_path,\n",
    "                                    gen=validation_datagen,\n",
    "                                    target_size=image_size,\n",
    "                                    batch_size=batch_size,                                    \n",
    "                                    class_mode='categorical',\n",
    "                                    shuffle=False)\n"
   ]
  },
  {
   "cell_type": "code",
   "execution_count": 8,
   "metadata": {},
   "outputs": [
    {
     "name": "stdout",
     "output_type": "stream",
     "text": [
      "_________________________________________________________________\n",
      "Layer (type)                 Output Shape              Param #   \n",
      "=================================================================\n",
      "conv2d_1 (Conv2D)            (None, 222, 222, 32)      896       \n",
      "_________________________________________________________________\n",
      "max_pooling2d_1 (MaxPooling2 (None, 111, 111, 32)      0         \n",
      "_________________________________________________________________\n",
      "conv2d_2 (Conv2D)            (None, 109, 109, 32)      9248      \n",
      "_________________________________________________________________\n",
      "max_pooling2d_2 (MaxPooling2 (None, 54, 54, 32)        0         \n",
      "_________________________________________________________________\n",
      "conv2d_3 (Conv2D)            (None, 52, 52, 64)        18496     \n",
      "_________________________________________________________________\n",
      "max_pooling2d_3 (MaxPooling2 (None, 26, 26, 64)        0         \n",
      "_________________________________________________________________\n",
      "flatten_1 (Flatten)          (None, 43264)             0         \n",
      "_________________________________________________________________\n",
      "dense_1 (Dense)              (None, 256)               11075840  \n",
      "_________________________________________________________________\n",
      "dropout_1 (Dropout)          (None, 256)               0         \n",
      "_________________________________________________________________\n",
      "dense_2 (Dense)              (None, 10)                2570      \n",
      "=================================================================\n",
      "Total params: 11,107,050\n",
      "Trainable params: 11,107,050\n",
      "Non-trainable params: 0\n",
      "_________________________________________________________________\n"
     ]
    }
   ],
   "source": [
    "model = build_simple_convnet(input_shape=(224,224,3))\n",
    "model.summary()\n"
   ]
  },
  {
   "cell_type": "code",
   "execution_count": 10,
   "metadata": {},
   "outputs": [
    {
     "name": "stdout",
     "output_type": "stream",
     "text": [
      "Epoch 1/15\n",
      "140/140 [==============================] - 311s 2s/step - loss: 1.8494 - acc: 0.3267 - val_loss: 2.3810 - val_acc: 0.3302\n",
      "Epoch 2/15\n",
      "140/140 [==============================] - 298s 2s/step - loss: 1.4382 - acc: 0.4699 - val_loss: 2.6039 - val_acc: 0.3888\n",
      "Epoch 3/15\n",
      "140/140 [==============================] - 295s 2s/step - loss: 1.2361 - acc: 0.5405 - val_loss: 2.5944 - val_acc: 0.3768\n",
      "Epoch 4/15\n",
      "140/140 [==============================] - 293s 2s/step - loss: 1.0975 - acc: 0.6004 - val_loss: 2.6119 - val_acc: 0.3690\n",
      "Epoch 5/15\n",
      "140/140 [==============================] - 292s 2s/step - loss: 0.9792 - acc: 0.6461 - val_loss: 3.2759 - val_acc: 0.3262\n",
      "Epoch 6/15\n",
      "140/140 [==============================] - 289s 2s/step - loss: 0.8837 - acc: 0.6807 - val_loss: 3.0090 - val_acc: 0.3714\n",
      "Epoch 7/15\n",
      "  6/140 [>.............................] - ETA: 9s - loss: 0.8075 - acc: 0.7240"
     ]
    },
    {
     "ename": "KeyboardInterrupt",
     "evalue": "",
     "output_type": "error",
     "traceback": [
      "\u001b[0;31m---------------------------------------------------------------------------\u001b[0m",
      "\u001b[0;31mKeyboardInterrupt\u001b[0m                         Traceback (most recent call last)",
      "\u001b[0;32m<ipython-input-10-9bad30574f50>\u001b[0m in \u001b[0;36m<module>\u001b[0;34m()\u001b[0m\n\u001b[1;32m      4\u001b[0m                     \u001b[0mcallbacks\u001b[0m\u001b[0;34m=\u001b[0m\u001b[0;34m[\u001b[0m\u001b[0mTensorBoard\u001b[0m\u001b[0;34m(\u001b[0m\u001b[0;34m)\u001b[0m\u001b[0;34m]\u001b[0m\u001b[0;34m,\u001b[0m\u001b[0;34m\u001b[0m\u001b[0m\n\u001b[1;32m      5\u001b[0m                     \u001b[0mvalidation_data\u001b[0m\u001b[0;34m=\u001b[0m\u001b[0mvalidation_generator\u001b[0m\u001b[0;34m,\u001b[0m\u001b[0;34m\u001b[0m\u001b[0m\n\u001b[0;32m----> 6\u001b[0;31m                     validation_steps=nb_val_samples // batch_size)\n\u001b[0m\u001b[1;32m      7\u001b[0m \u001b[0;34m\u001b[0m\u001b[0m\n\u001b[1;32m      8\u001b[0m \u001b[0mmodel\u001b[0m\u001b[0;34m.\u001b[0m\u001b[0msave\u001b[0m\u001b[0;34m(\u001b[0m\u001b[0;34m'simple_cnn_model.h5'\u001b[0m\u001b[0;34m)\u001b[0m\u001b[0;34m\u001b[0m\u001b[0m\n",
      "\u001b[0;32m~/anaconda3/envs/tensorflow_p36/lib/python3.6/site-packages/keras/legacy/interfaces.py\u001b[0m in \u001b[0;36mwrapper\u001b[0;34m(*args, **kwargs)\u001b[0m\n\u001b[1;32m     89\u001b[0m                 warnings.warn('Update your `' + object_name +\n\u001b[1;32m     90\u001b[0m                               '` call to the Keras 2 API: ' + signature, stacklevel=2)\n\u001b[0;32m---> 91\u001b[0;31m             \u001b[0;32mreturn\u001b[0m \u001b[0mfunc\u001b[0m\u001b[0;34m(\u001b[0m\u001b[0;34m*\u001b[0m\u001b[0margs\u001b[0m\u001b[0;34m,\u001b[0m \u001b[0;34m**\u001b[0m\u001b[0mkwargs\u001b[0m\u001b[0;34m)\u001b[0m\u001b[0;34m\u001b[0m\u001b[0m\n\u001b[0m\u001b[1;32m     92\u001b[0m         \u001b[0mwrapper\u001b[0m\u001b[0;34m.\u001b[0m\u001b[0m_original_function\u001b[0m \u001b[0;34m=\u001b[0m \u001b[0mfunc\u001b[0m\u001b[0;34m\u001b[0m\u001b[0m\n\u001b[1;32m     93\u001b[0m         \u001b[0;32mreturn\u001b[0m \u001b[0mwrapper\u001b[0m\u001b[0;34m\u001b[0m\u001b[0m\n",
      "\u001b[0;32m~/anaconda3/envs/tensorflow_p36/lib/python3.6/site-packages/keras/models.py\u001b[0m in \u001b[0;36mfit_generator\u001b[0;34m(self, generator, steps_per_epoch, epochs, verbose, callbacks, validation_data, validation_steps, class_weight, max_queue_size, workers, use_multiprocessing, shuffle, initial_epoch)\u001b[0m\n\u001b[1;32m   1251\u001b[0m                                         \u001b[0muse_multiprocessing\u001b[0m\u001b[0;34m=\u001b[0m\u001b[0muse_multiprocessing\u001b[0m\u001b[0;34m,\u001b[0m\u001b[0;34m\u001b[0m\u001b[0m\n\u001b[1;32m   1252\u001b[0m                                         \u001b[0mshuffle\u001b[0m\u001b[0;34m=\u001b[0m\u001b[0mshuffle\u001b[0m\u001b[0;34m,\u001b[0m\u001b[0;34m\u001b[0m\u001b[0m\n\u001b[0;32m-> 1253\u001b[0;31m                                         initial_epoch=initial_epoch)\n\u001b[0m\u001b[1;32m   1254\u001b[0m \u001b[0;34m\u001b[0m\u001b[0m\n\u001b[1;32m   1255\u001b[0m     \u001b[0;34m@\u001b[0m\u001b[0minterfaces\u001b[0m\u001b[0;34m.\u001b[0m\u001b[0mlegacy_generator_methods_support\u001b[0m\u001b[0;34m\u001b[0m\u001b[0m\n",
      "\u001b[0;32m~/anaconda3/envs/tensorflow_p36/lib/python3.6/site-packages/keras/legacy/interfaces.py\u001b[0m in \u001b[0;36mwrapper\u001b[0;34m(*args, **kwargs)\u001b[0m\n\u001b[1;32m     89\u001b[0m                 warnings.warn('Update your `' + object_name +\n\u001b[1;32m     90\u001b[0m                               '` call to the Keras 2 API: ' + signature, stacklevel=2)\n\u001b[0;32m---> 91\u001b[0;31m             \u001b[0;32mreturn\u001b[0m \u001b[0mfunc\u001b[0m\u001b[0;34m(\u001b[0m\u001b[0;34m*\u001b[0m\u001b[0margs\u001b[0m\u001b[0;34m,\u001b[0m \u001b[0;34m**\u001b[0m\u001b[0mkwargs\u001b[0m\u001b[0;34m)\u001b[0m\u001b[0;34m\u001b[0m\u001b[0m\n\u001b[0m\u001b[1;32m     92\u001b[0m         \u001b[0mwrapper\u001b[0m\u001b[0;34m.\u001b[0m\u001b[0m_original_function\u001b[0m \u001b[0;34m=\u001b[0m \u001b[0mfunc\u001b[0m\u001b[0;34m\u001b[0m\u001b[0m\n\u001b[1;32m     93\u001b[0m         \u001b[0;32mreturn\u001b[0m \u001b[0mwrapper\u001b[0m\u001b[0;34m\u001b[0m\u001b[0m\n",
      "\u001b[0;32m~/anaconda3/envs/tensorflow_p36/lib/python3.6/site-packages/keras/engine/training.py\u001b[0m in \u001b[0;36mfit_generator\u001b[0;34m(self, generator, steps_per_epoch, epochs, verbose, callbacks, validation_data, validation_steps, class_weight, max_queue_size, workers, use_multiprocessing, shuffle, initial_epoch)\u001b[0m\n\u001b[1;32m   2210\u001b[0m                 \u001b[0mbatch_index\u001b[0m \u001b[0;34m=\u001b[0m \u001b[0;36m0\u001b[0m\u001b[0;34m\u001b[0m\u001b[0m\n\u001b[1;32m   2211\u001b[0m                 \u001b[0;32mwhile\u001b[0m \u001b[0msteps_done\u001b[0m \u001b[0;34m<\u001b[0m \u001b[0msteps_per_epoch\u001b[0m\u001b[0;34m:\u001b[0m\u001b[0;34m\u001b[0m\u001b[0m\n\u001b[0;32m-> 2212\u001b[0;31m                     \u001b[0mgenerator_output\u001b[0m \u001b[0;34m=\u001b[0m \u001b[0mnext\u001b[0m\u001b[0;34m(\u001b[0m\u001b[0moutput_generator\u001b[0m\u001b[0;34m)\u001b[0m\u001b[0;34m\u001b[0m\u001b[0m\n\u001b[0m\u001b[1;32m   2213\u001b[0m \u001b[0;34m\u001b[0m\u001b[0m\n\u001b[1;32m   2214\u001b[0m                     \u001b[0;32mif\u001b[0m \u001b[0;32mnot\u001b[0m \u001b[0mhasattr\u001b[0m\u001b[0;34m(\u001b[0m\u001b[0mgenerator_output\u001b[0m\u001b[0;34m,\u001b[0m \u001b[0;34m'__len__'\u001b[0m\u001b[0;34m)\u001b[0m\u001b[0;34m:\u001b[0m\u001b[0;34m\u001b[0m\u001b[0m\n",
      "\u001b[0;32m~/anaconda3/envs/tensorflow_p36/lib/python3.6/site-packages/keras/utils/data_utils.py\u001b[0m in \u001b[0;36mget\u001b[0;34m(self)\u001b[0m\n\u001b[1;32m    562\u001b[0m         \u001b[0;32mtry\u001b[0m\u001b[0;34m:\u001b[0m\u001b[0;34m\u001b[0m\u001b[0m\n\u001b[1;32m    563\u001b[0m             \u001b[0;32mwhile\u001b[0m \u001b[0mself\u001b[0m\u001b[0;34m.\u001b[0m\u001b[0mis_running\u001b[0m\u001b[0;34m(\u001b[0m\u001b[0;34m)\u001b[0m\u001b[0;34m:\u001b[0m\u001b[0;34m\u001b[0m\u001b[0m\n\u001b[0;32m--> 564\u001b[0;31m                 \u001b[0minputs\u001b[0m \u001b[0;34m=\u001b[0m \u001b[0mself\u001b[0m\u001b[0;34m.\u001b[0m\u001b[0mqueue\u001b[0m\u001b[0;34m.\u001b[0m\u001b[0mget\u001b[0m\u001b[0;34m(\u001b[0m\u001b[0mblock\u001b[0m\u001b[0;34m=\u001b[0m\u001b[0;32mTrue\u001b[0m\u001b[0;34m)\u001b[0m\u001b[0;34m.\u001b[0m\u001b[0mget\u001b[0m\u001b[0;34m(\u001b[0m\u001b[0;34m)\u001b[0m\u001b[0;34m\u001b[0m\u001b[0m\n\u001b[0m\u001b[1;32m    565\u001b[0m                 \u001b[0mself\u001b[0m\u001b[0;34m.\u001b[0m\u001b[0mqueue\u001b[0m\u001b[0;34m.\u001b[0m\u001b[0mtask_done\u001b[0m\u001b[0;34m(\u001b[0m\u001b[0;34m)\u001b[0m\u001b[0;34m\u001b[0m\u001b[0m\n\u001b[1;32m    566\u001b[0m                 \u001b[0;32mif\u001b[0m \u001b[0minputs\u001b[0m \u001b[0;32mis\u001b[0m \u001b[0;32mnot\u001b[0m \u001b[0;32mNone\u001b[0m\u001b[0;34m:\u001b[0m\u001b[0;34m\u001b[0m\u001b[0m\n",
      "\u001b[0;32m~/anaconda3/envs/tensorflow_p36/lib/python3.6/multiprocessing/pool.py\u001b[0m in \u001b[0;36mget\u001b[0;34m(self, timeout)\u001b[0m\n\u001b[1;32m    636\u001b[0m \u001b[0;34m\u001b[0m\u001b[0m\n\u001b[1;32m    637\u001b[0m     \u001b[0;32mdef\u001b[0m \u001b[0mget\u001b[0m\u001b[0;34m(\u001b[0m\u001b[0mself\u001b[0m\u001b[0;34m,\u001b[0m \u001b[0mtimeout\u001b[0m\u001b[0;34m=\u001b[0m\u001b[0;32mNone\u001b[0m\u001b[0;34m)\u001b[0m\u001b[0;34m:\u001b[0m\u001b[0;34m\u001b[0m\u001b[0m\n\u001b[0;32m--> 638\u001b[0;31m         \u001b[0mself\u001b[0m\u001b[0;34m.\u001b[0m\u001b[0mwait\u001b[0m\u001b[0;34m(\u001b[0m\u001b[0mtimeout\u001b[0m\u001b[0;34m)\u001b[0m\u001b[0;34m\u001b[0m\u001b[0m\n\u001b[0m\u001b[1;32m    639\u001b[0m         \u001b[0;32mif\u001b[0m \u001b[0;32mnot\u001b[0m \u001b[0mself\u001b[0m\u001b[0;34m.\u001b[0m\u001b[0mready\u001b[0m\u001b[0;34m(\u001b[0m\u001b[0;34m)\u001b[0m\u001b[0;34m:\u001b[0m\u001b[0;34m\u001b[0m\u001b[0m\n\u001b[1;32m    640\u001b[0m             \u001b[0;32mraise\u001b[0m \u001b[0mTimeoutError\u001b[0m\u001b[0;34m\u001b[0m\u001b[0m\n",
      "\u001b[0;32m~/anaconda3/envs/tensorflow_p36/lib/python3.6/multiprocessing/pool.py\u001b[0m in \u001b[0;36mwait\u001b[0;34m(self, timeout)\u001b[0m\n\u001b[1;32m    633\u001b[0m \u001b[0;34m\u001b[0m\u001b[0m\n\u001b[1;32m    634\u001b[0m     \u001b[0;32mdef\u001b[0m \u001b[0mwait\u001b[0m\u001b[0;34m(\u001b[0m\u001b[0mself\u001b[0m\u001b[0;34m,\u001b[0m \u001b[0mtimeout\u001b[0m\u001b[0;34m=\u001b[0m\u001b[0;32mNone\u001b[0m\u001b[0;34m)\u001b[0m\u001b[0;34m:\u001b[0m\u001b[0;34m\u001b[0m\u001b[0m\n\u001b[0;32m--> 635\u001b[0;31m         \u001b[0mself\u001b[0m\u001b[0;34m.\u001b[0m\u001b[0m_event\u001b[0m\u001b[0;34m.\u001b[0m\u001b[0mwait\u001b[0m\u001b[0;34m(\u001b[0m\u001b[0mtimeout\u001b[0m\u001b[0;34m)\u001b[0m\u001b[0;34m\u001b[0m\u001b[0m\n\u001b[0m\u001b[1;32m    636\u001b[0m \u001b[0;34m\u001b[0m\u001b[0m\n\u001b[1;32m    637\u001b[0m     \u001b[0;32mdef\u001b[0m \u001b[0mget\u001b[0m\u001b[0;34m(\u001b[0m\u001b[0mself\u001b[0m\u001b[0;34m,\u001b[0m \u001b[0mtimeout\u001b[0m\u001b[0;34m=\u001b[0m\u001b[0;32mNone\u001b[0m\u001b[0;34m)\u001b[0m\u001b[0;34m:\u001b[0m\u001b[0;34m\u001b[0m\u001b[0m\n",
      "\u001b[0;32m~/anaconda3/envs/tensorflow_p36/lib/python3.6/threading.py\u001b[0m in \u001b[0;36mwait\u001b[0;34m(self, timeout)\u001b[0m\n\u001b[1;32m    549\u001b[0m             \u001b[0msignaled\u001b[0m \u001b[0;34m=\u001b[0m \u001b[0mself\u001b[0m\u001b[0;34m.\u001b[0m\u001b[0m_flag\u001b[0m\u001b[0;34m\u001b[0m\u001b[0m\n\u001b[1;32m    550\u001b[0m             \u001b[0;32mif\u001b[0m \u001b[0;32mnot\u001b[0m \u001b[0msignaled\u001b[0m\u001b[0;34m:\u001b[0m\u001b[0;34m\u001b[0m\u001b[0m\n\u001b[0;32m--> 551\u001b[0;31m                 \u001b[0msignaled\u001b[0m \u001b[0;34m=\u001b[0m \u001b[0mself\u001b[0m\u001b[0;34m.\u001b[0m\u001b[0m_cond\u001b[0m\u001b[0;34m.\u001b[0m\u001b[0mwait\u001b[0m\u001b[0;34m(\u001b[0m\u001b[0mtimeout\u001b[0m\u001b[0;34m)\u001b[0m\u001b[0;34m\u001b[0m\u001b[0m\n\u001b[0m\u001b[1;32m    552\u001b[0m             \u001b[0;32mreturn\u001b[0m \u001b[0msignaled\u001b[0m\u001b[0;34m\u001b[0m\u001b[0m\n\u001b[1;32m    553\u001b[0m \u001b[0;34m\u001b[0m\u001b[0m\n",
      "\u001b[0;32m~/anaconda3/envs/tensorflow_p36/lib/python3.6/threading.py\u001b[0m in \u001b[0;36mwait\u001b[0;34m(self, timeout)\u001b[0m\n\u001b[1;32m    293\u001b[0m         \u001b[0;32mtry\u001b[0m\u001b[0;34m:\u001b[0m    \u001b[0;31m# restore state no matter what (e.g., KeyboardInterrupt)\u001b[0m\u001b[0;34m\u001b[0m\u001b[0m\n\u001b[1;32m    294\u001b[0m             \u001b[0;32mif\u001b[0m \u001b[0mtimeout\u001b[0m \u001b[0;32mis\u001b[0m \u001b[0;32mNone\u001b[0m\u001b[0;34m:\u001b[0m\u001b[0;34m\u001b[0m\u001b[0m\n\u001b[0;32m--> 295\u001b[0;31m                 \u001b[0mwaiter\u001b[0m\u001b[0;34m.\u001b[0m\u001b[0macquire\u001b[0m\u001b[0;34m(\u001b[0m\u001b[0;34m)\u001b[0m\u001b[0;34m\u001b[0m\u001b[0m\n\u001b[0m\u001b[1;32m    296\u001b[0m                 \u001b[0mgotit\u001b[0m \u001b[0;34m=\u001b[0m \u001b[0;32mTrue\u001b[0m\u001b[0;34m\u001b[0m\u001b[0m\n\u001b[1;32m    297\u001b[0m             \u001b[0;32melse\u001b[0m\u001b[0;34m:\u001b[0m\u001b[0;34m\u001b[0m\u001b[0m\n",
      "\u001b[0;31mKeyboardInterrupt\u001b[0m: "
     ]
    }
   ],
   "source": [
    "model.fit_generator(train_generator,\n",
    "                    steps_per_epoch=nb_train_samples // batch_size,\n",
    "                    epochs=15,\n",
    "                    callbacks=[TensorBoard()],\n",
    "                    validation_data=validation_generator,\n",
    "                    validation_steps=nb_val_samples // batch_size)\n",
    "\n",
    "model.save('simple_cnn_model.h5')"
   ]
  },
  {
   "cell_type": "markdown",
   "metadata": {},
   "source": [
    "### try vgg16 model"
   ]
  },
  {
   "cell_type": "code",
   "execution_count": 11,
   "metadata": {},
   "outputs": [
    {
     "name": "stdout",
     "output_type": "stream",
     "text": [
      "_________________________________________________________________\n",
      "Layer (type)                 Output Shape              Param #   \n",
      "=================================================================\n",
      "input_1 (InputLayer)         (None, None, None, 3)     0         \n",
      "_________________________________________________________________\n",
      "block1_conv1 (Conv2D)        (None, None, None, 64)    1792      \n",
      "_________________________________________________________________\n",
      "block1_conv2 (Conv2D)        (None, None, None, 64)    36928     \n",
      "_________________________________________________________________\n",
      "block1_pool (MaxPooling2D)   (None, None, None, 64)    0         \n",
      "_________________________________________________________________\n",
      "block2_conv1 (Conv2D)        (None, None, None, 128)   73856     \n",
      "_________________________________________________________________\n",
      "block2_conv2 (Conv2D)        (None, None, None, 128)   147584    \n",
      "_________________________________________________________________\n",
      "block2_pool (MaxPooling2D)   (None, None, None, 128)   0         \n",
      "_________________________________________________________________\n",
      "block3_conv1 (Conv2D)        (None, None, None, 256)   295168    \n",
      "_________________________________________________________________\n",
      "block3_conv2 (Conv2D)        (None, None, None, 256)   590080    \n",
      "_________________________________________________________________\n",
      "block3_conv3 (Conv2D)        (None, None, None, 256)   590080    \n",
      "_________________________________________________________________\n",
      "block3_pool (MaxPooling2D)   (None, None, None, 256)   0         \n",
      "_________________________________________________________________\n",
      "block4_conv1 (Conv2D)        (None, None, None, 512)   1180160   \n",
      "_________________________________________________________________\n",
      "block4_conv2 (Conv2D)        (None, None, None, 512)   2359808   \n",
      "_________________________________________________________________\n",
      "block4_conv3 (Conv2D)        (None, None, None, 512)   2359808   \n",
      "_________________________________________________________________\n",
      "block4_pool (MaxPooling2D)   (None, None, None, 512)   0         \n",
      "_________________________________________________________________\n",
      "block5_conv1 (Conv2D)        (None, None, None, 512)   2359808   \n",
      "_________________________________________________________________\n",
      "block5_conv2 (Conv2D)        (None, None, None, 512)   2359808   \n",
      "_________________________________________________________________\n",
      "block5_conv3 (Conv2D)        (None, None, None, 512)   2359808   \n",
      "_________________________________________________________________\n",
      "block5_pool (MaxPooling2D)   (None, None, None, 512)   0         \n",
      "=================================================================\n",
      "Total params: 14,714,688\n",
      "Trainable params: 14,714,688\n",
      "Non-trainable params: 0\n",
      "_________________________________________________________________\n"
     ]
    }
   ],
   "source": [
    "#load VGG16 model\n",
    "vgg16_base_model = VGG16(weights='imagenet', include_top=False)\n",
    "vgg16_base_model.summary()\n"
   ]
  },
  {
   "cell_type": "code",
   "execution_count": 12,
   "metadata": {},
   "outputs": [
    {
     "name": "stdout",
     "output_type": "stream",
     "text": [
      "Found 18047 images belonging to 10 classes.\n",
      "Found 4377 images belonging to 10 classes.\n"
     ]
    }
   ],
   "source": [
    "datagen = image.ImageDataGenerator(rescale=1./255)\n",
    "train_generator = generate_batches_data(\n",
    "                                    dir_path=train_path,\n",
    "                                    gen=datagen,\n",
    "                                    target_size=image_size,\n",
    "                                    batch_size=batch_size,\n",
    "                                    class_mode='categorical',\n",
    "                                    shuffle=False)\n",
    "\n",
    "\n",
    "validation_generator = generate_batches_data(\n",
    "                                    dir_path=validation_path,\n",
    "                                    gen=datagen,\n",
    "                                    target_size=image_size,\n",
    "                                    batch_size=batch_size,                                    \n",
    "                                    class_mode='categorical',\n",
    "                                    shuffle=False)\n"
   ]
  },
  {
   "cell_type": "code",
   "execution_count": 26,
   "metadata": {},
   "outputs": [
    {
     "name": "stdout",
     "output_type": "stream",
     "text": [
      "17920\n",
      "4352\n"
     ]
    }
   ],
   "source": [
    "#get the lables\n",
    "nb_train_labels = batch_size * (nb_train_samples // batch_size)\n",
    "nb_val_labels = batch_size * (nb_val_samples // batch_size)\n",
    "\n",
    "train_labels = one_hot_encode(train_generator.classes[:nb_train_labels])\n",
    "validation_labels = one_hot_encode(validation_generator.classes[:nb_val_labels])\n",
    "\n",
    "print(len(train_labels))\n",
    "print(len(validation_labels))"
   ]
  },
  {
   "cell_type": "code",
   "execution_count": 14,
   "metadata": {},
   "outputs": [],
   "source": [
    "#save the train bottleneck features\n",
    "vgg16_bottleneck_features_train = vgg16_base_model.predict_generator(train_generator, \n",
    "                                                                     steps=nb_train_samples // batch_size\n",
    "                                                                    )\n",
    "np.save(open('vgg16_bottleneck_features_train.npy', 'wb'),\n",
    "        vgg16_bottleneck_features_train)\n",
    "\n",
    "#save the validation bottleneck features\n",
    "vgg16_bottleneck_features_validation = vgg16_base_model.predict_generator(validation_generator , \n",
    "                                                                          steps=nb_val_samples // batch_size\n",
    "                                                                         )\n",
    "np.save(open('vgg16_bottleneck_features_validation.npy', 'wb'),\n",
    "        vgg16_bottleneck_features_validation)"
   ]
  },
  {
   "cell_type": "code",
   "execution_count": 27,
   "metadata": {},
   "outputs": [
    {
     "name": "stdout",
     "output_type": "stream",
     "text": [
      "Train on 17920 samples, validate on 4352 samples\n",
      "Epoch 1/50\n",
      "17920/17920 [==============================] - 2s 86us/step - loss: 2.4939 - acc: 0.4686 - val_loss: 3.4019 - val_acc: 0.2927\n",
      "Epoch 2/50\n",
      "17920/17920 [==============================] - 1s 68us/step - loss: 0.5317 - acc: 0.8209 - val_loss: 3.2002 - val_acc: 0.3201\n",
      "Epoch 3/50\n",
      "17920/17920 [==============================] - 1s 68us/step - loss: 0.2990 - acc: 0.9030 - val_loss: 4.8723 - val_acc: 0.2656\n",
      "Epoch 4/50\n",
      "17920/17920 [==============================] - 1s 69us/step - loss: 0.2016 - acc: 0.9339 - val_loss: 5.5500 - val_acc: 0.2417\n",
      "Epoch 5/50\n",
      "17920/17920 [==============================] - 1s 69us/step - loss: 0.1733 - acc: 0.9434 - val_loss: 5.8177 - val_acc: 0.2652\n",
      "Epoch 6/50\n",
      "17920/17920 [==============================] - 1s 68us/step - loss: 0.1362 - acc: 0.9557 - val_loss: 8.1897 - val_acc: 0.1946\n",
      "Epoch 7/50\n",
      "17920/17920 [==============================] - 1s 67us/step - loss: 0.1099 - acc: 0.9645 - val_loss: 7.6713 - val_acc: 0.2183\n",
      "Epoch 8/50\n",
      "17920/17920 [==============================] - 1s 68us/step - loss: 0.0993 - acc: 0.9666 - val_loss: 8.1409 - val_acc: 0.2505\n",
      "Epoch 9/50\n",
      "17920/17920 [==============================] - 1s 68us/step - loss: 0.0944 - acc: 0.9690 - val_loss: 7.9526 - val_acc: 0.2551\n",
      "Epoch 10/50\n",
      "17920/17920 [==============================] - 1s 68us/step - loss: 0.0767 - acc: 0.9741 - val_loss: 10.1523 - val_acc: 0.1730\n",
      "Epoch 11/50\n",
      "17920/17920 [==============================] - 1s 68us/step - loss: 0.0830 - acc: 0.9729 - val_loss: 8.6846 - val_acc: 0.2801\n",
      "Epoch 12/50\n",
      "17920/17920 [==============================] - 1s 68us/step - loss: 0.0748 - acc: 0.9743 - val_loss: 9.5151 - val_acc: 0.2622\n",
      "Epoch 13/50\n",
      "17920/17920 [==============================] - 1s 68us/step - loss: 0.0724 - acc: 0.9756 - val_loss: 9.3828 - val_acc: 0.2312\n",
      "Epoch 14/50\n",
      "17920/17920 [==============================] - 1s 68us/step - loss: 0.0660 - acc: 0.9784 - val_loss: 8.0379 - val_acc: 0.2989\n",
      "Epoch 15/50\n",
      "17920/17920 [==============================] - 1s 68us/step - loss: 0.0636 - acc: 0.9796 - val_loss: 9.5127 - val_acc: 0.2291\n",
      "Epoch 16/50\n",
      "17920/17920 [==============================] - 1s 69us/step - loss: 0.0563 - acc: 0.9819 - val_loss: 9.3903 - val_acc: 0.2381\n",
      "Epoch 17/50\n",
      "17920/17920 [==============================] - 1s 69us/step - loss: 0.0610 - acc: 0.9820 - val_loss: 9.5821 - val_acc: 0.2592\n",
      "Epoch 18/50\n",
      "17920/17920 [==============================] - 1s 68us/step - loss: 0.0591 - acc: 0.9817 - val_loss: 11.4186 - val_acc: 0.2054\n",
      "Epoch 19/50\n",
      "17920/17920 [==============================] - 1s 68us/step - loss: 0.0555 - acc: 0.9814 - val_loss: 9.9319 - val_acc: 0.2403\n",
      "Epoch 20/50\n",
      "17920/17920 [==============================] - 1s 68us/step - loss: 0.0501 - acc: 0.9825 - val_loss: 10.5306 - val_acc: 0.2185\n",
      "Epoch 21/50\n",
      "17920/17920 [==============================] - 1s 69us/step - loss: 0.0486 - acc: 0.9836 - val_loss: 9.4213 - val_acc: 0.2780\n",
      "Epoch 22/50\n",
      "17920/17920 [==============================] - 1s 71us/step - loss: 0.0467 - acc: 0.9835 - val_loss: 9.0728 - val_acc: 0.3003\n",
      "Epoch 23/50\n",
      "17920/17920 [==============================] - 1s 72us/step - loss: 0.0501 - acc: 0.9853 - val_loss: 10.6936 - val_acc: 0.2330\n",
      "Epoch 24/50\n",
      "17920/17920 [==============================] - 1s 73us/step - loss: 0.0458 - acc: 0.9861 - val_loss: 8.7850 - val_acc: 0.3313\n",
      "Epoch 25/50\n",
      "17920/17920 [==============================] - 1s 73us/step - loss: 0.0508 - acc: 0.9823 - val_loss: 9.3377 - val_acc: 0.2900\n",
      "Epoch 26/50\n",
      "17920/17920 [==============================] - 1s 73us/step - loss: 0.0465 - acc: 0.9858 - val_loss: 9.1337 - val_acc: 0.3139\n",
      "Epoch 27/50\n",
      "17920/17920 [==============================] - 1s 72us/step - loss: 0.0476 - acc: 0.9852 - val_loss: 8.8575 - val_acc: 0.3228\n",
      "Epoch 28/50\n",
      "17920/17920 [==============================] - 1s 71us/step - loss: 0.0369 - acc: 0.9874 - val_loss: 9.8306 - val_acc: 0.2966\n",
      "Epoch 29/50\n",
      "17920/17920 [==============================] - 1s 70us/step - loss: 0.0429 - acc: 0.9868 - val_loss: 9.6128 - val_acc: 0.2790\n",
      "Epoch 30/50\n",
      "17920/17920 [==============================] - 1s 70us/step - loss: 0.0410 - acc: 0.9867 - val_loss: 10.2146 - val_acc: 0.2608\n",
      "Epoch 31/50\n",
      "17920/17920 [==============================] - 1s 69us/step - loss: 0.0420 - acc: 0.9868 - val_loss: 10.1478 - val_acc: 0.2642\n",
      "Epoch 32/50\n",
      "17920/17920 [==============================] - 1s 69us/step - loss: 0.0371 - acc: 0.9884 - val_loss: 10.7845 - val_acc: 0.2328\n",
      "Epoch 33/50\n",
      "17920/17920 [==============================] - 1s 69us/step - loss: 0.0401 - acc: 0.9869 - val_loss: 10.3792 - val_acc: 0.2594\n",
      "Epoch 34/50\n",
      "17920/17920 [==============================] - 1s 68us/step - loss: 0.0386 - acc: 0.9881 - val_loss: 10.5961 - val_acc: 0.2502\n",
      "Epoch 35/50\n",
      "17920/17920 [==============================] - 1s 68us/step - loss: 0.0385 - acc: 0.9887 - val_loss: 10.6649 - val_acc: 0.2649\n",
      "Epoch 36/50\n",
      "17920/17920 [==============================] - 1s 68us/step - loss: 0.0320 - acc: 0.9906 - val_loss: 10.6521 - val_acc: 0.2702\n",
      "Epoch 37/50\n",
      "17920/17920 [==============================] - 1s 68us/step - loss: 0.0362 - acc: 0.9898 - val_loss: 9.3091 - val_acc: 0.3208\n",
      "Epoch 38/50\n",
      "17920/17920 [==============================] - 1s 67us/step - loss: 0.0331 - acc: 0.9901 - val_loss: 10.3239 - val_acc: 0.2624\n",
      "Epoch 39/50\n",
      "17920/17920 [==============================] - 1s 68us/step - loss: 0.0331 - acc: 0.9906 - val_loss: 9.7278 - val_acc: 0.3173\n",
      "Epoch 40/50\n",
      "17920/17920 [==============================] - 1s 69us/step - loss: 0.0353 - acc: 0.9887 - val_loss: 10.3055 - val_acc: 0.2787\n",
      "Epoch 41/50\n",
      "17920/17920 [==============================] - 1s 69us/step - loss: 0.0341 - acc: 0.9898 - val_loss: 11.2132 - val_acc: 0.2449\n",
      "Epoch 42/50\n",
      "17920/17920 [==============================] - 1s 68us/step - loss: 0.0357 - acc: 0.9897 - val_loss: 9.8520 - val_acc: 0.3012\n",
      "Epoch 43/50\n",
      "17920/17920 [==============================] - 1s 68us/step - loss: 0.0362 - acc: 0.9897 - val_loss: 10.9608 - val_acc: 0.2438\n",
      "Epoch 44/50\n",
      "17920/17920 [==============================] - 1s 69us/step - loss: 0.0301 - acc: 0.9908 - val_loss: 9.5806 - val_acc: 0.3226\n",
      "Epoch 45/50\n",
      "17920/17920 [==============================] - 1s 69us/step - loss: 0.0336 - acc: 0.9901 - val_loss: 10.5110 - val_acc: 0.2675\n",
      "Epoch 46/50\n",
      "17920/17920 [==============================] - 1s 68us/step - loss: 0.0397 - acc: 0.9900 - val_loss: 10.8240 - val_acc: 0.2544\n",
      "Epoch 47/50\n",
      "17920/17920 [==============================] - 1s 68us/step - loss: 0.0418 - acc: 0.9882 - val_loss: 10.9272 - val_acc: 0.2436\n",
      "Epoch 48/50\n",
      "17920/17920 [==============================] - 1s 68us/step - loss: 0.0345 - acc: 0.9901 - val_loss: 11.2127 - val_acc: 0.2325\n",
      "Epoch 49/50\n",
      "17920/17920 [==============================] - 1s 68us/step - loss: 0.0313 - acc: 0.9901 - val_loss: 11.3790 - val_acc: 0.2312\n",
      "Epoch 50/50\n",
      "17920/17920 [==============================] - 1s 67us/step - loss: 0.0302 - acc: 0.9917 - val_loss: 11.1767 - val_acc: 0.2339\n"
     ]
    }
   ],
   "source": [
    "#train the top model\n",
    "train_data = np.load(open('vgg16_bottleneck_features_train.npy','rb'))\n",
    "validation_data = np.load(open('vgg16_bottleneck_features_validation.npy','rb'))\n",
    "\n",
    "#we should shuffle the train data before training\n",
    "train_data,train_labels = shuffle(train_data,train_labels)\n",
    "\n",
    "top_model = Sequential()\n",
    "top_model.add(Flatten(input_shape=train_data.shape[1:]))\n",
    "top_model.add(Dense(256, activation='relu'))\n",
    "top_model.add(Dropout(0.5))\n",
    "top_model.add(Dense(class_num, activation='softmax'))\n",
    "\n",
    "top_model.compile(optimizer='rmsprop',loss='categorical_crossentropy', metrics=['accuracy'])\n",
    "\n",
    "top_model.fit(train_data, train_labels,\n",
    "              epochs=50,\n",
    "              batch_size=batch_size,\n",
    "              validation_data=(validation_data, validation_labels),\n",
    "              shuffle=False)\n",
    "top_model.save_weights('vgg16_top_model_fc.h5')"
   ]
  },
  {
   "cell_type": "markdown",
   "metadata": {},
   "source": [
    "### checkpoint"
   ]
  },
  {
   "cell_type": "code",
   "execution_count": 37,
   "metadata": {},
   "outputs": [
    {
     "ename": "AttributeError",
     "evalue": "'Model' object has no attribute 'add'",
     "output_type": "error",
     "traceback": [
      "\u001b[0;31m---------------------------------------------------------------------------\u001b[0m",
      "\u001b[0;31mAttributeError\u001b[0m                            Traceback (most recent call last)",
      "\u001b[0;32m<ipython-input-37-04199e1539f3>\u001b[0m in \u001b[0;36m<module>\u001b[0;34m()\u001b[0m\n\u001b[1;32m      8\u001b[0m \u001b[0;31m# top_model.load_weights('vgg16_top_model_fc.h5')\u001b[0m\u001b[0;34m\u001b[0m\u001b[0;34m\u001b[0m\u001b[0m\n\u001b[1;32m      9\u001b[0m \u001b[0;34m\u001b[0m\u001b[0m\n\u001b[0;32m---> 10\u001b[0;31m \u001b[0mvgg16_model\u001b[0m\u001b[0;34m.\u001b[0m\u001b[0madd\u001b[0m\u001b[0;34m(\u001b[0m\u001b[0mtop_model\u001b[0m\u001b[0;34m)\u001b[0m\u001b[0;34m\u001b[0m\u001b[0m\n\u001b[0m\u001b[1;32m     11\u001b[0m \u001b[0mvgg16_model\u001b[0m\u001b[0;34m.\u001b[0m\u001b[0msummary\u001b[0m\u001b[0;34m(\u001b[0m\u001b[0;34m)\u001b[0m\u001b[0;34m\u001b[0m\u001b[0m\n\u001b[1;32m     12\u001b[0m \u001b[0;32mfor\u001b[0m \u001b[0mi\u001b[0m\u001b[0;34m,\u001b[0m\u001b[0mlayer\u001b[0m \u001b[0;32min\u001b[0m \u001b[0menumerate\u001b[0m\u001b[0;34m(\u001b[0m\u001b[0mvgg16_model\u001b[0m\u001b[0;34m.\u001b[0m\u001b[0mlayers\u001b[0m\u001b[0;34m)\u001b[0m\u001b[0;34m:\u001b[0m\u001b[0;34m\u001b[0m\u001b[0m\n",
      "\u001b[0;31mAttributeError\u001b[0m: 'Model' object has no attribute 'add'"
     ]
    }
   ],
   "source": [
    "vgg16_base_model = VGG16(weights='imagenet', include_top=False)\n",
    "\n",
    "# vgg16_model = Sequential()\n",
    "# for layer in vgg16_base_model.layers:\n",
    "#     vgg16_model.add(layer)\n",
    "\n",
    "top_model = Sequential()\n",
    "top_model.add(Flatten(input_shape=vgg16_model.output_shape[1:]))\n",
    "top_model.add(Dense(256, activation='relu'))\n",
    "top_model.add(Dropout(0.5))\n",
    "top_model.add(Dense(class_num, activation='softmax'))\n",
    "top_model.load_weights('vgg16_top_model_fc.h5')\n",
    "\n",
    "# vgg16_model.add(top_model)\n",
    "vgg16_model = Model(inputs=vgg16_base_model.input, outputs=top_model(vgg16_base_model.output))\n",
    "vgg16_model.summary()\n",
    "for i,layer in enumerate(vgg16_model.layers):\n",
    "    print(i,layer.name)"
   ]
  },
  {
   "cell_type": "code",
   "execution_count": null,
   "metadata": {},
   "outputs": [],
   "source": [
    "\n",
    "train_datagen = image.ImageDataGenerator(rescale=1./255,\n",
    "                                         shear_range=0.2,\n",
    "                                         rotation_range=10,\n",
    "                                         height_shift_range=0.1,\n",
    "                                         width_shift_range=0.1,\n",
    "                                         channel_shift_range=5,\n",
    "                                         horizontal_flip=True,\n",
    "                                         fill_mode='nearest')\n",
    "\n",
    "validation_datagen = image.ImageDataGenerator(rescale=1./255)\n",
    "\n",
    "\n",
    "train_generator = generate_batches_data(\n",
    "                                    dir_path=train_path,\n",
    "                                    gen=train_datagen,\n",
    "                                    target_size=image_size,\n",
    "                                    batch_size=batch_size,\n",
    "                                    class_mode='categorical',\n",
    "                                    shuffle=True)\n",
    "\n",
    "validation_generator = generate_batches_data(\n",
    "                                    dir_path=validation_path,\n",
    "                                    gen=validation_datagen,\n",
    "                                    target_size=image_size,\n",
    "                                    batch_size=batch_size,                                    \n",
    "                                    class_mode='categorical',\n",
    "                                    shuffle=False)\n",
    "\n",
    "#frozen the first 15 layers of vgg16\n",
    "for layer in vgg16_model.layers[:15]:\n",
    "    layer.trainable = False\n",
    "    \n",
    "vgg16_model.compile(loss='categorical_crossentropy',\n",
    "                      optimizer=optimizers.SGD(lr=1e-3, momentum=0.9,decay=1e-5,nesterov=True),\n",
    "                      metrics=['accuracy'])\n",
    "\n",
    "# fine-tune the model\n",
    "vgg16_model.fit_generator(\n",
    "                        train_generator,\n",
    "                        samples_per_epoch=nb_train_samples // batch_size,\n",
    "                        epochs=50,\n",
    "                        validation_data=validation_generator,\n",
    "                        validation_steps=nb_val_samples // batch_size,\n",
    "                        callbacks=[TensorBoard(log_dir='./logs/vgg16_fine_tune'),\n",
    "                                   CSVLogger('vgg16_fine_tune'),\n",
    "                                   EarlyStopping(patience=3)])\n",
    "\n",
    "vgg16_model.save('vgg16_fine_tuning_model.h5')\n"
   ]
  },
  {
   "cell_type": "code",
   "execution_count": null,
   "metadata": {
    "collapsed": true
   },
   "outputs": [],
   "source": [
    "# #frozen the first 15 layers of vgg16\n",
    "# for layer in vgg16_model.layers[:15]:\n",
    "#     layer.trainable = False\n",
    "\n",
    "# vgg16_model.compile(optimizer=SGD(lr=1e-4,momentum=0.9), loss='categorical_crossentropy',metrics=['accuracy'])\n",
    "# vgg16_model.fit_generator(train_generator,\n",
    "#                     steps_per_epoch=nb_train_samples // batch_size,\n",
    "#                     epochs=50,\n",
    "#                     callbacks=[TensorBoard()],\n",
    "#                     validation_data=validation_generator,\n",
    "#                     validation_steps=nb_val_samples // batch_size,\n",
    "#                     callbacks=[TensorBoard(log_dir='./logs/vgg16_fine_tune'),\n",
    "#                                CSVLogger('vgg16_fine_tune'),\n",
    "#                                EarlyStopping(patience=3)])\n",
    "\n",
    "# vgg16_model.save('vgg16_fine_tuning_model.h5')"
   ]
  },
  {
   "cell_type": "code",
   "execution_count": null,
   "metadata": {},
   "outputs": [],
   "source": [
    "vgg16_model(model,csv='vgg16_submission.csv')\n",
    "print('test complete!')"
   ]
  }
 ],
 "metadata": {
  "kernelspec": {
   "display_name": "Python 3",
   "language": "python",
   "name": "python3"
  },
  "language_info": {
   "codemirror_mode": {
    "name": "ipython",
    "version": 3
   },
   "file_extension": ".py",
   "mimetype": "text/x-python",
   "name": "python",
   "nbconvert_exporter": "python",
   "pygments_lexer": "ipython3",
   "version": "3.6.3"
  }
 },
 "nbformat": 4,
 "nbformat_minor": 2
}
