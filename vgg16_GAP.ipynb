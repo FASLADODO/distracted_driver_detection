{
 "cells": [
  {
   "cell_type": "code",
   "execution_count": 1,
   "metadata": {},
   "outputs": [
    {
     "name": "stderr",
     "output_type": "stream",
     "text": [
      "/home/ubuntu/anaconda3/envs/tensorflow_p36/lib/python3.6/site-packages/h5py/__init__.py:36: FutureWarning: Conversion of the second argument of issubdtype from `float` to `np.floating` is deprecated. In future, it will be treated as `np.float64 == np.dtype(float).type`.\n",
      "  from ._conv import register_converters as _register_converters\n",
      "Using TensorFlow backend.\n",
      "/home/ubuntu/anaconda3/envs/tensorflow_p36/lib/python3.6/site-packages/matplotlib/__init__.py:962: UserWarning: Duplicate key in file \"/home/ubuntu/.config/matplotlib/matplotlibrc\", line #2\n",
      "  (fname, cnt))\n",
      "/home/ubuntu/anaconda3/envs/tensorflow_p36/lib/python3.6/site-packages/matplotlib/__init__.py:962: UserWarning: Duplicate key in file \"/home/ubuntu/.config/matplotlib/matplotlibrc\", line #3\n",
      "  (fname, cnt))\n"
     ]
    }
   ],
   "source": [
    "from keras.models import *\n",
    "from keras.layers import *\n",
    "from keras.optimizers import RMSprop,SGD,Adadelta,Adam\n",
    "from keras.preprocessing import image\n",
    "from keras.callbacks import TensorBoard,History,EarlyStopping,CSVLogger\n",
    "from keras.applications.vgg16 import VGG16,preprocess_input\n",
    "from sklearn.utils import shuffle\n",
    "import numpy as np\n",
    "import pandas as pd\n",
    "import h5py\n",
    "import os"
   ]
  },
  {
   "cell_type": "code",
   "execution_count": 2,
   "metadata": {},
   "outputs": [],
   "source": [
    "train_path = './train'\n",
    "validation_path = './validation'\n",
    "test_path = './test'\n",
    "assert(os.path.exists(train_path))\n",
    "assert(os.path.exists(validation_path))\n",
    "assert(os.path.exists(test_path))\n",
    "\n",
    "\n",
    "nb_train_samples = 20000\n",
    "nb_val_samples = 2424\n",
    "image_size = (224,224)\n",
    "batch_size = 128\n",
    "class_num = 10"
   ]
  },
  {
   "cell_type": "code",
   "execution_count": 3,
   "metadata": {},
   "outputs": [
    {
     "name": "stdout",
     "output_type": "stream",
     "text": [
      "Found 20000 images belonging to 10 classes.\n",
      "Found 2424 images belonging to 10 classes.\n"
     ]
    }
   ],
   "source": [
    "train_datagen = image.ImageDataGenerator(\n",
    "                                         shear_range=0.15,\n",
    "                                         rotation_range=15,\n",
    "                                         height_shift_range=0.15,\n",
    "                                         width_shift_range=0.15,\n",
    "                                         channel_shift_range=10,\n",
    "                                         preprocessing_function=preprocess_input,\n",
    "                                         horizontal_flip=True)\n",
    "\n",
    "validation_datagen = image.ImageDataGenerator(preprocessing_function=preprocess_input)\n",
    "\n",
    "\n",
    "train_generator = train_datagen.flow_from_directory(\n",
    "                                    train_path,\n",
    "                                    target_size=image_size,\n",
    "                                    batch_size=batch_size,\n",
    "                                    class_mode='categorical',\n",
    "                                    shuffle=True)\n",
    "\n",
    "validation_generator = validation_datagen.flow_from_directory(\n",
    "                                    validation_path,\n",
    "                                    target_size=image_size,\n",
    "                                    batch_size=batch_size,                                    \n",
    "                                    class_mode='categorical',\n",
    "                                    shuffle=False)"
   ]
  },
  {
   "cell_type": "code",
   "execution_count": 4,
   "metadata": {},
   "outputs": [
    {
     "name": "stdout",
     "output_type": "stream",
     "text": [
      "_________________________________________________________________\n",
      "Layer (type)                 Output Shape              Param #   \n",
      "=================================================================\n",
      "input_2 (InputLayer)         (None, 224, 224, 3)       0         \n",
      "_________________________________________________________________\n",
      "block1_conv1 (Conv2D)        (None, 224, 224, 64)      1792      \n",
      "_________________________________________________________________\n",
      "block1_conv2 (Conv2D)        (None, 224, 224, 64)      36928     \n",
      "_________________________________________________________________\n",
      "block1_pool (MaxPooling2D)   (None, 112, 112, 64)      0         \n",
      "_________________________________________________________________\n",
      "block2_conv1 (Conv2D)        (None, 112, 112, 128)     73856     \n",
      "_________________________________________________________________\n",
      "block2_conv2 (Conv2D)        (None, 112, 112, 128)     147584    \n",
      "_________________________________________________________________\n",
      "block2_pool (MaxPooling2D)   (None, 56, 56, 128)       0         \n",
      "_________________________________________________________________\n",
      "block3_conv1 (Conv2D)        (None, 56, 56, 256)       295168    \n",
      "_________________________________________________________________\n",
      "block3_conv2 (Conv2D)        (None, 56, 56, 256)       590080    \n",
      "_________________________________________________________________\n",
      "block3_conv3 (Conv2D)        (None, 56, 56, 256)       590080    \n",
      "_________________________________________________________________\n",
      "block3_pool (MaxPooling2D)   (None, 28, 28, 256)       0         \n",
      "_________________________________________________________________\n",
      "block4_conv1 (Conv2D)        (None, 28, 28, 512)       1180160   \n",
      "_________________________________________________________________\n",
      "block4_conv2 (Conv2D)        (None, 28, 28, 512)       2359808   \n",
      "_________________________________________________________________\n",
      "block4_conv3 (Conv2D)        (None, 28, 28, 512)       2359808   \n",
      "_________________________________________________________________\n",
      "block4_pool (MaxPooling2D)   (None, 14, 14, 512)       0         \n",
      "_________________________________________________________________\n",
      "block5_conv1 (Conv2D)        (None, 14, 14, 512)       2359808   \n",
      "_________________________________________________________________\n",
      "block5_conv2 (Conv2D)        (None, 14, 14, 512)       2359808   \n",
      "_________________________________________________________________\n",
      "block5_conv3 (Conv2D)        (None, 14, 14, 512)       2359808   \n",
      "_________________________________________________________________\n",
      "block5_pool (MaxPooling2D)   (None, 7, 7, 512)         0         \n",
      "_________________________________________________________________\n",
      "global_average_pooling2d_2 ( (None, 512)               0         \n",
      "_________________________________________________________________\n",
      "dense_1 (Dense)              (None, 10)                5130      \n",
      "=================================================================\n",
      "Total params: 14,719,818\n",
      "Trainable params: 14,719,818\n",
      "Non-trainable params: 0\n",
      "_________________________________________________________________\n"
     ]
    }
   ],
   "source": [
    "vgg16_base_model = VGG16(weights='imagenet', include_top=False,input_shape=(224,224,3))\n",
    "\n",
    "x = vgg16_base_model.output\n",
    "x = GlobalAveragePooling2D()(x)\n",
    "x = Dense(10, activation='softmax')(x)\n",
    "\n",
    "vgg16_model = Model(inputs=vgg16_base_model.input, outputs=x)\n",
    "\n",
    "vgg16_model.summary()"
   ]
  },
  {
   "cell_type": "code",
   "execution_count": 5,
   "metadata": {},
   "outputs": [
    {
     "name": "stdout",
     "output_type": "stream",
     "text": [
      "0 input_2 False\n",
      "1 block1_conv1 False\n",
      "2 block1_conv2 False\n",
      "3 block1_pool False\n",
      "4 block2_conv1 False\n",
      "5 block2_conv2 False\n",
      "6 block2_pool False\n",
      "7 block3_conv1 False\n",
      "8 block3_conv2 False\n",
      "9 block3_conv3 False\n",
      "10 block3_pool False\n",
      "11 block4_conv1 False\n",
      "12 block4_conv2 False\n",
      "13 block4_conv3 False\n",
      "14 block4_pool False\n",
      "15 block5_conv1 False\n",
      "16 block5_conv2 False\n",
      "17 block5_conv3 False\n",
      "18 block5_pool False\n",
      "19 global_average_pooling2d_2 True\n",
      "20 dense_1 True\n"
     ]
    }
   ],
   "source": [
    "for layer in vgg16_model.layers[:19]:\n",
    "    layer.trainable = False\n",
    "\n",
    "for i,layer in enumerate(vgg16_model.layers):\n",
    "    print(i,layer.name,layer.trainable)"
   ]
  },
  {
   "cell_type": "code",
   "execution_count": 7,
   "metadata": {},
   "outputs": [
    {
     "name": "stdout",
     "output_type": "stream",
     "text": [
      "Epoch 1/10\n",
      "156/156 [==============================] - 358s 2s/step - loss: 3.1072 - acc: 0.2702 - val_loss: 2.9465 - val_acc: 0.3685\n",
      "Epoch 2/10\n",
      "156/156 [==============================] - 363s 2s/step - loss: 1.3783 - acc: 0.5580 - val_loss: 2.0915 - val_acc: 0.4747\n",
      "Epoch 3/10\n",
      "156/156 [==============================] - 348s 2s/step - loss: 0.9422 - acc: 0.6799 - val_loss: 2.2153 - val_acc: 0.4373\n",
      "Epoch 4/10\n",
      "156/156 [==============================] - 344s 2s/step - loss: 0.7308 - acc: 0.7578 - val_loss: 1.8675 - val_acc: 0.5091\n",
      "Epoch 5/10\n",
      "156/156 [==============================] - 345s 2s/step - loss: 0.6299 - acc: 0.7892 - val_loss: 1.8268 - val_acc: 0.5344\n",
      "Epoch 6/10\n",
      "156/156 [==============================] - 346s 2s/step - loss: 0.5608 - acc: 0.8111 - val_loss: 1.7464 - val_acc: 0.5226\n",
      "Epoch 7/10\n",
      "156/156 [==============================] - 355s 2s/step - loss: 0.5062 - acc: 0.8312 - val_loss: 2.1635 - val_acc: 0.4599\n",
      "Epoch 8/10\n",
      "156/156 [==============================] - 350s 2s/step - loss: 0.4704 - acc: 0.8408 - val_loss: 2.0988 - val_acc: 0.4983\n",
      "Epoch 9/10\n",
      "156/156 [==============================] - 346s 2s/step - loss: 0.4487 - acc: 0.8472 - val_loss: 1.8992 - val_acc: 0.5135\n"
     ]
    }
   ],
   "source": [
    "vgg16_model.compile(loss='categorical_crossentropy',\n",
    "                    #optimizer=optimizers.SGD(lr=1e-3, momentum=0.9) #,decay=1e-6,nesterov=True),\n",
    "                    #optimizer=optimizers.Adam(lr=1e-3),\n",
    "                    optimizer=Adadelta(),\n",
    "                    metrics=['accuracy'])\n",
    "\n",
    "# fine-tune the model\n",
    "vgg16_model.fit_generator(\n",
    "                        train_generator,\n",
    "                        steps_per_epoch=nb_train_samples // batch_size,\n",
    "                        epochs=10,\n",
    "                        validation_data=validation_generator,\n",
    "                        validation_steps=nb_val_samples // batch_size,\n",
    "                        callbacks=[EarlyStopping(patience=3)])\n",
    "\n",
    "vgg16_model.save('vgg16_GAP_fc.h5')"
   ]
  },
  {
   "cell_type": "code",
   "execution_count": 12,
   "metadata": {},
   "outputs": [
    {
     "name": "stdout",
     "output_type": "stream",
     "text": [
      "Epoch 1/20\n",
      "156/156 [==============================] - 353s 2s/step - loss: 0.2535 - acc: 0.9221 - val_loss: 1.3726 - val_acc: 0.6593\n",
      "Epoch 2/20\n",
      "156/156 [==============================] - 354s 2s/step - loss: 0.1546 - acc: 0.9535 - val_loss: 1.2043 - val_acc: 0.7051\n",
      "Epoch 3/20\n",
      "156/156 [==============================] - 358s 2s/step - loss: 0.1120 - acc: 0.9661 - val_loss: 1.5839 - val_acc: 0.6468\n",
      "Epoch 4/20\n",
      "156/156 [==============================] - 350s 2s/step - loss: 0.0860 - acc: 0.9737 - val_loss: 1.5485 - val_acc: 0.6633\n",
      "Epoch 5/20\n",
      "156/156 [==============================] - 350s 2s/step - loss: 0.0717 - acc: 0.9782 - val_loss: 1.8369 - val_acc: 0.6159\n",
      "Epoch 6/20\n",
      "156/156 [==============================] - 348s 2s/step - loss: 0.0630 - acc: 0.9810 - val_loss: 1.3949 - val_acc: 0.6973\n",
      "Epoch 7/20\n",
      "156/156 [==============================] - 352s 2s/step - loss: 0.0538 - acc: 0.9830 - val_loss: 1.4731 - val_acc: 0.6895\n"
     ]
    }
   ],
   "source": [
    "vgg16_model = load_model('vgg16_GAP_fc.h5')\n",
    "\n",
    "for layer in vgg16_model.layers[:15]:\n",
    "    layer.trainable = False\n",
    "    \n",
    "for layer in vgg16_model.layers[15:]:\n",
    "    layer.trainable = True\n",
    "    \n",
    "vgg16_model.compile(loss='categorical_crossentropy',\n",
    "                    optimizer=optimizers.SGD(lr=1e-4, momentum=0.9,decay=1e-6,nesterov=True),\n",
    "#                     optimizer=optimizers.Adam(),\n",
    "                    metrics=['accuracy'])  \n",
    "\n",
    "vgg16_model.fit_generator(\n",
    "                        train_generator,\n",
    "                        steps_per_epoch=nb_train_samples // batch_size,\n",
    "                        epochs=20,\n",
    "                        validation_data=validation_generator,\n",
    "                        validation_steps=nb_val_samples // batch_size,\n",
    "                        callbacks=[TensorBoard(log_dir='./logs/vgg16_fine_tune'),\n",
    "                                   CSVLogger('vgg16_fine_tune'),\n",
    "                                  EarlyStopping(patience=5)])\n",
    "\n",
    "vgg16_model.save('vgg16_GAP_fc_15.h5')"
   ]
  },
  {
   "cell_type": "code",
   "execution_count": 15,
   "metadata": {},
   "outputs": [
    {
     "name": "stdout",
     "output_type": "stream",
     "text": [
      "Epoch 1/50\n",
      "156/156 [==============================] - 363s 2s/step - loss: 0.0482 - acc: 0.9849 - val_loss: 1.2905 - val_acc: 0.7014\n",
      "Epoch 2/50\n",
      "156/156 [==============================] - 352s 2s/step - loss: 0.0411 - acc: 0.9876 - val_loss: 1.6328 - val_acc: 0.6607\n",
      "Epoch 3/50\n",
      "156/156 [==============================] - 345s 2s/step - loss: 0.0351 - acc: 0.9897 - val_loss: 1.3967 - val_acc: 0.7082\n",
      "Epoch 4/50\n",
      "156/156 [==============================] - 351s 2s/step - loss: 0.0308 - acc: 0.9906 - val_loss: 1.4681 - val_acc: 0.6956\n",
      "Epoch 5/50\n",
      "156/156 [==============================] - 354s 2s/step - loss: 0.0256 - acc: 0.9919 - val_loss: 1.6813 - val_acc: 0.6720\n",
      "Epoch 6/50\n",
      "156/156 [==============================] - 362s 2s/step - loss: 0.0220 - acc: 0.9931 - val_loss: 1.5749 - val_acc: 0.7252\n",
      "Epoch 7/50\n",
      "156/156 [==============================] - 348s 2s/step - loss: 0.0202 - acc: 0.9936 - val_loss: 1.8138 - val_acc: 0.6921\n",
      "Epoch 8/50\n",
      "156/156 [==============================] - 356s 2s/step - loss: 0.0165 - acc: 0.9946 - val_loss: 1.7621 - val_acc: 0.6729\n",
      "Epoch 9/50\n",
      "156/156 [==============================] - 346s 2s/step - loss: 0.0169 - acc: 0.9951 - val_loss: 1.5426 - val_acc: 0.7051\n",
      "Epoch 10/50\n",
      "156/156 [==============================] - 347s 2s/step - loss: 0.0130 - acc: 0.9956 - val_loss: 1.4723 - val_acc: 0.7069\n",
      "Epoch 11/50\n",
      "156/156 [==============================] - 349s 2s/step - loss: 0.0144 - acc: 0.9958 - val_loss: 1.7896 - val_acc: 0.6725\n"
     ]
    }
   ],
   "source": [
    "vgg16_model = load_model('vgg16_GAP_fc_15.h5')\n",
    "\n",
    "for layer in vgg16_model.layers[:11]:\n",
    "    layer.trainable = False\n",
    "    \n",
    "for layer in vgg16_model.layers[11:]:\n",
    "    layer.trainable = True\n",
    "    \n",
    "vgg16_model.compile(loss='categorical_crossentropy',\n",
    "                    optimizer=optimizers.SGD(lr=1e-4, momentum=0.9,decay=1e-6,nesterov=True),\n",
    "#                     optimizer=optimizers.Adam(),\n",
    "                    metrics=['accuracy']) \n",
    "    \n",
    "vgg16_model.fit_generator(\n",
    "                        train_generator,\n",
    "                        steps_per_epoch=nb_train_samples // batch_size,\n",
    "                        epochs=50,\n",
    "                        validation_data=validation_generator,\n",
    "                        validation_steps=nb_val_samples // batch_size,\n",
    "                        callbacks=[TensorBoard(log_dir='./logs/vgg16_fine_tune'),\n",
    "                                   CSVLogger('vgg16_fine_tune'),\n",
    "                                  EarlyStopping(patience=10)])\n",
    "\n",
    "vgg16_model.save('vgg16_GAP_fc_11.h5')"
   ]
  },
  {
   "cell_type": "code",
   "execution_count": 6,
   "metadata": {},
   "outputs": [
    {
     "name": "stdout",
     "output_type": "stream",
     "text": [
      "Epoch 1/50\n",
      "156/156 [==============================] - 348s 2s/step - loss: 0.0172 - acc: 0.9941 - val_loss: 1.4911 - val_acc: 0.7214\n",
      "Epoch 2/50\n",
      "156/156 [==============================] - 346s 2s/step - loss: 0.0105 - acc: 0.9970 - val_loss: 1.6910 - val_acc: 0.7082\n",
      "Epoch 3/50\n",
      "156/156 [==============================] - 345s 2s/step - loss: 0.0100 - acc: 0.9974 - val_loss: 1.7714 - val_acc: 0.7160\n",
      "Epoch 4/50\n",
      "156/156 [==============================] - 345s 2s/step - loss: 0.0105 - acc: 0.9968 - val_loss: 2.5696 - val_acc: 0.6154\n",
      "Epoch 5/50\n",
      "156/156 [==============================] - 345s 2s/step - loss: 0.0098 - acc: 0.9969 - val_loss: 1.3575 - val_acc: 0.7517\n",
      "Epoch 6/50\n",
      "156/156 [==============================] - 344s 2s/step - loss: 0.0092 - acc: 0.9971 - val_loss: 1.8209 - val_acc: 0.7003\n",
      "Epoch 7/50\n",
      "156/156 [==============================] - 344s 2s/step - loss: 0.0068 - acc: 0.9976 - val_loss: 1.8285 - val_acc: 0.6825\n",
      "Epoch 8/50\n",
      "156/156 [==============================] - 343s 2s/step - loss: 0.0085 - acc: 0.9971 - val_loss: 2.0708 - val_acc: 0.6551\n",
      "Epoch 9/50\n",
      "156/156 [==============================] - 341s 2s/step - loss: 0.0070 - acc: 0.9982 - val_loss: 1.5586 - val_acc: 0.7226\n",
      "Epoch 10/50\n",
      "156/156 [==============================] - 344s 2s/step - loss: 0.0068 - acc: 0.9979 - val_loss: 1.3916 - val_acc: 0.7626\n",
      "Epoch 11/50\n",
      "156/156 [==============================] - 341s 2s/step - loss: 0.0058 - acc: 0.9982 - val_loss: 1.9596 - val_acc: 0.6812\n",
      "Epoch 12/50\n",
      "156/156 [==============================] - 341s 2s/step - loss: 0.0057 - acc: 0.9979 - val_loss: 2.3810 - val_acc: 0.6372\n",
      "Epoch 13/50\n",
      "156/156 [==============================] - 342s 2s/step - loss: 0.0070 - acc: 0.9978 - val_loss: 1.5831 - val_acc: 0.7139\n",
      "Epoch 14/50\n",
      "156/156 [==============================] - 342s 2s/step - loss: 0.0056 - acc: 0.9982 - val_loss: 1.4738 - val_acc: 0.7321\n",
      "Epoch 15/50\n",
      "156/156 [==============================] - 342s 2s/step - loss: 0.0059 - acc: 0.9979 - val_loss: 1.6738 - val_acc: 0.7178\n"
     ]
    }
   ],
   "source": [
    "vgg16_model = load_model('vgg16_GAP_fc_11.h5')\n",
    "\n",
    "for layer in vgg16_model.layers[:11]:\n",
    "    layer.trainable = False\n",
    "    \n",
    "for layer in vgg16_model.layers[11:]:\n",
    "    layer.trainable = True\n",
    "    \n",
    "vgg16_model.compile(loss='categorical_crossentropy',\n",
    "                    optimizer=optimizers.SGD(lr=1e-4, momentum=0.9), #,decay=1e-6,nesterov=True),\n",
    "#                     optimizer=optimizers.Adam(),\n",
    "                    metrics=['accuracy']) \n",
    "    \n",
    "vgg16_model.fit_generator(\n",
    "                        train_generator,\n",
    "                        steps_per_epoch=nb_train_samples // batch_size,\n",
    "                        epochs=50,\n",
    "                        validation_data=validation_generator,\n",
    "                        validation_steps=nb_val_samples // batch_size,\n",
    "                        callbacks=[TensorBoard(log_dir='./logs/vgg16_fine_tune'),\n",
    "                                   CSVLogger('vgg16_fine_tune'),\n",
    "                                  EarlyStopping(patience=10)])\n",
    "\n",
    "vgg16_model.save('vgg16_GAP_fc_11_adam.h5')"
   ]
  },
  {
   "cell_type": "code",
   "execution_count": null,
   "metadata": {},
   "outputs": [],
   "source": []
  }
 ],
 "metadata": {
  "kernelspec": {
   "display_name": "Python [conda env:tensorflow_p36]",
   "language": "python",
   "name": "conda-env-tensorflow_p36-py"
  },
  "language_info": {
   "codemirror_mode": {
    "name": "ipython",
    "version": 3
   },
   "file_extension": ".py",
   "mimetype": "text/x-python",
   "name": "python",
   "nbconvert_exporter": "python",
   "pygments_lexer": "ipython3",
   "version": "3.6.4"
  }
 },
 "nbformat": 4,
 "nbformat_minor": 2
}
