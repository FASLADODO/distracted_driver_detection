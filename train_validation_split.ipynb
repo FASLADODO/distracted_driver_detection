{
 "cells": [
  {
   "cell_type": "code",
   "execution_count": 1,
   "metadata": {},
   "outputs": [
    {
     "name": "stderr",
     "output_type": "stream",
     "text": [
      "/home/ubuntu/anaconda3/envs/tensorflow_p36/lib/python3.6/site-packages/matplotlib/__init__.py:962: UserWarning: Duplicate key in file \"/home/ubuntu/.config/matplotlib/matplotlibrc\", line #2\n",
      "  (fname, cnt))\n",
      "/home/ubuntu/anaconda3/envs/tensorflow_p36/lib/python3.6/site-packages/matplotlib/__init__.py:962: UserWarning: Duplicate key in file \"/home/ubuntu/.config/matplotlib/matplotlibrc\", line #3\n",
      "  (fname, cnt))\n"
     ]
    },
    {
     "name": "stdout",
     "output_type": "stream",
     "text": [
      "26\n",
      "6\n",
      "complete!\n"
     ]
    }
   ],
   "source": [
    "import pandas as pd\n",
    "import os\n",
    "import shutil\n",
    "import math\n",
    "\n",
    "\n",
    "df = pd.read_csv('driver_imgs_list.csv')\n",
    "# subject = df['subject']\n",
    "# classname = df['classname']\n",
    "# img = df['img']\n",
    "\n",
    "index = df.index\n",
    "values = df.values\n",
    "num_of_driver = len(set(df['subject']))\n",
    "print(num_of_driver)\n",
    "\n",
    "driver_id = values[0][0]\n",
    "cnt = 1\n",
    "src_path = './train' + '/'\n",
    "dst_path = './validation' + '/'\n",
    "\n",
    "for i in index:\n",
    "    new_id = values[i][0]\n",
    "    if new_id != driver_id:\n",
    "        cnt += 1\n",
    "        driver_id = new_id\n",
    "    if cnt > math.floor(num_of_driver * 0.2) :\n",
    "        break\n",
    "        \n",
    "    src_path += values[i][1] + '/'\n",
    "    dst_path += values[i][1] + '/'\n",
    "\n",
    "    if not os.path.exists(src_path):\n",
    "        print('src_path does not exits!')\n",
    "        break\n",
    "       \n",
    "    if not os.path.exists(dst_path):\n",
    "        os.makedirs(dst_path)\n",
    "        \n",
    "    src_file_name = src_path + values[i][2]\n",
    "    dst_file_name = dst_path + values[i][2]\n",
    "\n",
    "    shutil.move(src_file_name,dst_file_name)\n",
    "    src_path = './train' + '/'\n",
    "    dst_path = './validation' + '/'\n",
    "print(cnt)\n",
    "print('complete!')\n"
   ]
  },
  {
   "cell_type": "code",
   "execution_count": null,
   "metadata": {},
   "outputs": [],
   "source": []
  },
  {
   "cell_type": "code",
   "execution_count": null,
   "metadata": {},
   "outputs": [],
   "source": []
  }
 ],
 "metadata": {
  "kernelspec": {
   "display_name": "Python [default]",
   "language": "python",
   "name": "python3"
  },
  "language_info": {
   "codemirror_mode": {
    "name": "ipython",
    "version": 3
   },
   "file_extension": ".py",
   "mimetype": "text/x-python",
   "name": "python",
   "nbconvert_exporter": "python",
   "pygments_lexer": "ipython3",
   "version": "3.6.4"
  }
 },
 "nbformat": 4,
 "nbformat_minor": 2
}
