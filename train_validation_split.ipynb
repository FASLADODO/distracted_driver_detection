{
 "cells": [
  {
   "cell_type": "code",
   "execution_count": 38,
   "metadata": {},
   "outputs": [
    {
     "name": "stdout",
     "output_type": "stream",
     "text": [
      "26\n",
      "6\n",
      "complete!\n"
     ]
    }
   ],
   "source": [
    "import tensorflow as tf\n",
    "import pandas as pd\n",
    "import numpy as np\n",
    "import matplotlib.pyplot as plt\n",
    "import os\n",
    "import shutil\n",
    "import math\n",
    "\n",
    "\n",
    "df = pd.read_csv('driver_imgs_list.csv')\n",
    "# subject = df['subject']\n",
    "# classname = df['classname']\n",
    "# img = df['img']\n",
    "\n",
    "index = df.index\n",
    "values = df.values\n",
    "num_of_driver = len(set(df['subject']))\n",
    "print(num_of_driver)\n",
    "\n",
    "driver_id = values[0][0]\n",
    "cnt = 1\n",
    "src_path = './train' + '/'\n",
    "dst_path = './validation' + '/'\n",
    "\n",
    "for i in index:\n",
    "    new_id = values[i][0]\n",
    "    if new_id != driver_id:\n",
    "        cnt += 1\n",
    "        driver_id = new_id\n",
    "    if cnt > math.floor(num_of_driver * 0.2) :\n",
    "        break\n",
    "        \n",
    "    src_path += values[i][1] + '/'\n",
    "    dst_path += values[i][1] + '/'\n",
    "#     print('src_path:',src_path)\n",
    "#     print('dst_path:',dst_path)\n",
    "    if not os.path.exists(src_path):\n",
    "        print('src_apth does not exits!')\n",
    "        break\n",
    "       \n",
    "    if not os.path.exists(dst_path):\n",
    "        os.makedirs(dst_path)\n",
    "        \n",
    "    src_file_name = src_path + values[i][2]\n",
    "    dst_file_name = dst_path + values[i][2]\n",
    "#     print('src_file_name:',src_file_name)\n",
    "#     print('dst_file_name:',dst_file_name)\n",
    "    shutil.move(src_file_name,dst_file_name)\n",
    "    src_path = './train' + '/'\n",
    "    dst_path = './validation' + '/'\n",
    "print(cnt)\n",
    "print('complete!')\n",
    "\n",
    "\n",
    "# print(df['subject'][0] == subject[0])\n",
    "# print(subject)\n",
    "# print(classname)\n",
    "\n",
    "# path = './train' + '/' + df['classname'][1000]\n",
    "# if not os.path.exists(path):\n",
    "#     os.makedirs(path)\n",
    "    \n",
    "# file_name = path + '/' + df['img'][1000]\n",
    "# shutil.move('./train/test.jpg',file_name)\n",
    "\n"
   ]
  },
  {
   "cell_type": "code",
   "execution_count": 25,
   "metadata": {},
   "outputs": [
    {
     "name": "stdout",
     "output_type": "stream",
     "text": [
      "5\n"
     ]
    }
   ],
   "source": [
    "print(math.floor(num_of_driver * 0.2))"
   ]
  },
  {
   "cell_type": "code",
   "execution_count": null,
   "metadata": {},
   "outputs": [],
   "source": []
  }
 ],
 "metadata": {
  "kernelspec": {
   "display_name": "Python 3",
   "language": "python",
   "name": "python3"
  },
  "language_info": {
   "codemirror_mode": {
    "name": "ipython",
    "version": 3
   },
   "file_extension": ".py",
   "mimetype": "text/x-python",
   "name": "python",
   "nbconvert_exporter": "python",
   "pygments_lexer": "ipython3",
   "version": "3.6.3"
  }
 },
 "nbformat": 4,
 "nbformat_minor": 2
}
